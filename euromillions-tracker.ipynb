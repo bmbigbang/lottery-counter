{
 "cells": [
  {
   "cell_type": "markdown",
   "source": [
    "# Euro-millions Number analysis\n",
    "Read out the historic data to base our new numbers with and perform some data exploration."
   ],
   "metadata": {
    "collapsed": false
   }
  },
  {
   "cell_type": "code",
   "execution_count": 1,
   "metadata": {
    "collapsed": true,
    "ExecuteTime": {
     "end_time": "2023-09-28T16:46:34.383094300Z",
     "start_time": "2023-09-28T16:46:33.504572700Z"
    }
   },
   "outputs": [
    {
     "data": {
      "text/plain": "              DrawDate  Ball 1  Ball 2  Ball 3  Ball 4  Ball 5  Lucky Star 1  \\\n0  2023-09-26 00:00:00       2       6      14      19      23             5   \n1  2023-09-22 00:00:00       3      23      24      34      35             5   \n2  2023-09-19 00:00:00      10      15      31      41      42             2   \n3  2023-09-15 00:00:00      12      14      21      45      48             8   \n4  2023-09-12 00:00:00       5      14      36      40      42             2   \n\n   Lucky Star 2  \n0             7  \n1             8  \n2             5  \n3            11  \n4            11  ",
      "text/html": "<div>\n<style scoped>\n    .dataframe tbody tr th:only-of-type {\n        vertical-align: middle;\n    }\n\n    .dataframe tbody tr th {\n        vertical-align: top;\n    }\n\n    .dataframe thead th {\n        text-align: right;\n    }\n</style>\n<table border=\"1\" class=\"dataframe\">\n  <thead>\n    <tr style=\"text-align: right;\">\n      <th></th>\n      <th>DrawDate</th>\n      <th>Ball 1</th>\n      <th>Ball 2</th>\n      <th>Ball 3</th>\n      <th>Ball 4</th>\n      <th>Ball 5</th>\n      <th>Lucky Star 1</th>\n      <th>Lucky Star 2</th>\n    </tr>\n  </thead>\n  <tbody>\n    <tr>\n      <th>0</th>\n      <td>2023-09-26 00:00:00</td>\n      <td>2</td>\n      <td>6</td>\n      <td>14</td>\n      <td>19</td>\n      <td>23</td>\n      <td>5</td>\n      <td>7</td>\n    </tr>\n    <tr>\n      <th>1</th>\n      <td>2023-09-22 00:00:00</td>\n      <td>3</td>\n      <td>23</td>\n      <td>24</td>\n      <td>34</td>\n      <td>35</td>\n      <td>5</td>\n      <td>8</td>\n    </tr>\n    <tr>\n      <th>2</th>\n      <td>2023-09-19 00:00:00</td>\n      <td>10</td>\n      <td>15</td>\n      <td>31</td>\n      <td>41</td>\n      <td>42</td>\n      <td>2</td>\n      <td>5</td>\n    </tr>\n    <tr>\n      <th>3</th>\n      <td>2023-09-15 00:00:00</td>\n      <td>12</td>\n      <td>14</td>\n      <td>21</td>\n      <td>45</td>\n      <td>48</td>\n      <td>8</td>\n      <td>11</td>\n    </tr>\n    <tr>\n      <th>4</th>\n      <td>2023-09-12 00:00:00</td>\n      <td>5</td>\n      <td>14</td>\n      <td>36</td>\n      <td>40</td>\n      <td>42</td>\n      <td>2</td>\n      <td>11</td>\n    </tr>\n  </tbody>\n</table>\n</div>"
     },
     "execution_count": 1,
     "metadata": {},
     "output_type": "execute_result"
    }
   ],
   "source": [
    "import pandas as pd\n",
    "\n",
    "df = pd.read_excel(\"lottery-numbers-tracker.xlsx\", sheet_name=\"EuroMillions\", header=0)\n",
    "\n",
    "df.head()\n"
   ]
  },
  {
   "cell_type": "markdown",
   "source": [
    "The probability for each ball to be drawn given that there is no bias is:"
   ],
   "metadata": {
    "collapsed": false
   }
  },
  {
   "cell_type": "code",
   "execution_count": 2,
   "outputs": [
    {
     "name": "stdout",
     "output_type": "stream",
     "text": [
      "{1: 0.02, 2: 0.02, 3: 0.02, 4: 0.02, 5: 0.02, 6: 0.02, 7: 0.02, 8: 0.02, 9: 0.02, 10: 0.02, 11: 0.02, 12: 0.02, 13: 0.02, 14: 0.02, 15: 0.02, 16: 0.02, 17: 0.02, 18: 0.02, 19: 0.02, 20: 0.02, 21: 0.02, 22: 0.02, 23: 0.02, 24: 0.02, 25: 0.02, 26: 0.02, 27: 0.02, 28: 0.02, 29: 0.02, 30: 0.02, 31: 0.02, 32: 0.02, 33: 0.02, 34: 0.02, 35: 0.02, 36: 0.02, 37: 0.02, 38: 0.02, 39: 0.02, 40: 0.02, 41: 0.02, 42: 0.02, 43: 0.02, 44: 0.02, 45: 0.02, 46: 0.02, 47: 0.02, 48: 0.02, 49: 0.02, 50: 0.02}\n",
      "{1: 0.08333333333333333, 2: 0.08333333333333333, 3: 0.08333333333333333, 4: 0.08333333333333333, 5: 0.08333333333333333, 6: 0.08333333333333333, 7: 0.08333333333333333, 8: 0.08333333333333333, 9: 0.08333333333333333, 10: 0.08333333333333333, 11: 0.08333333333333333, 12: 0.08333333333333333}\n"
     ]
    }
   ],
   "source": [
    "probabilities = {i+1: 1/50 for i in range(50)}\n",
    "print(probabilities)\n",
    "probabilities_ls = {i+1: 1/12 for i in range(12)}\n",
    "print(probabilities_ls)"
   ],
   "metadata": {
    "collapsed": false,
    "ExecuteTime": {
     "end_time": "2023-09-28T16:46:34.401782300Z",
     "start_time": "2023-09-28T16:46:34.375635200Z"
    }
   }
  },
  {
   "cell_type": "markdown",
   "source": [
    "Now we sum the number of occurrences for each ball using numpy's unique function:"
   ],
   "metadata": {
    "collapsed": false
   }
  },
  {
   "cell_type": "code",
   "execution_count": 3,
   "outputs": [
    {
     "name": "stdout",
     "output_type": "stream",
     "text": [
      "[ 1  2  3  4  5  6  7  8  9 10 11 12 13 14 15 16 17 18 19 20 21 22 23 24\n",
      " 25 26 27 28 29 30 31 32 33 34 35 36 37 38 39 40 41 42 43 44 45 46 47 48\n",
      " 49 50] 50\n",
      "{1: 10, 2: 14, 3: 19, 4: 9, 5: 14, 6: 18, 7: 16, 8: 14, 9: 15, 10: 20, 11: 18, 12: 18, 13: 19, 14: 16, 15: 14, 16: 17, 17: 21, 18: 15, 19: 20, 20: 14, 21: 25, 22: 9, 23: 22, 24: 19, 25: 22, 26: 17, 27: 19, 28: 16, 29: 18, 30: 9, 31: 18, 32: 17, 33: 17, 34: 27, 35: 27, 36: 17, 37: 17, 38: 16, 39: 11, 40: 16, 41: 12, 42: 19, 43: 15, 44: 20, 45: 19, 46: 12, 47: 18, 48: 24, 49: 12, 50: 14}\n"
     ]
    }
   ],
   "source": [
    "import numpy as np\n",
    "n = df.shape[0] * 5\n",
    "occurrences = np.concatenate([df[\"Ball 1\"], df[\"Ball 2\"], df[\"Ball 3\"], df[\"Ball 4\"], df[\"Ball 5\"]])\n",
    "\n",
    "unique, counts = np.unique(occurrences, return_counts=True)\n",
    "print(unique, len(unique))\n",
    "running_counts = dict(zip(unique, counts))\n",
    "print(running_counts)\n"
   ],
   "metadata": {
    "collapsed": false,
    "ExecuteTime": {
     "end_time": "2023-09-28T16:46:37.405366800Z",
     "start_time": "2023-09-28T16:46:37.365569400Z"
    }
   }
  },
  {
   "cell_type": "markdown",
   "source": [
    "Same unique counts for the lucky star balls:"
   ],
   "metadata": {
    "collapsed": false
   }
  },
  {
   "cell_type": "code",
   "execution_count": 4,
   "outputs": [
    {
     "name": "stdout",
     "output_type": "stream",
     "text": [
      "[ 1  2  3  4  5  6  7  8  9 10 11 12] 12\n",
      "{1: 21, 2: 30, 3: 39, 4: 18, 5: 25, 6: 31, 7: 27, 8: 26, 9: 22, 10: 35, 11: 40, 12: 24}\n"
     ]
    }
   ],
   "source": [
    "n_ls = df.shape[0] * 2\n",
    "occurrences_ls = np.concatenate([df[\"Lucky Star 1\"], df[\"Lucky Star 2\"]])\n",
    "\n",
    "unique_ls, counts_ls = np.unique(occurrences_ls, return_counts=True)\n",
    "print(unique_ls, len(unique_ls))\n",
    "running_counts_ls = dict(zip(unique_ls, counts_ls))\n",
    "print(running_counts_ls)\n"
   ],
   "metadata": {
    "collapsed": false,
    "ExecuteTime": {
     "end_time": "2023-09-28T16:46:38.333337Z",
     "start_time": "2023-09-28T16:46:38.300196800Z"
    }
   }
  },
  {
   "cell_type": "markdown",
   "source": [
    "Now we calculate the probability of each number and how it deviates from the raw unbiased probabilities calculated previously. It turns out the standard deviation is around a quarter of the mean, and by using the central limit theorem, we get the s.d. of the true distribution as "
   ],
   "metadata": {
    "collapsed": false
   }
  },
  {
   "cell_type": "code",
   "execution_count": 5,
   "outputs": [
    {
     "name": "stdout",
     "output_type": "stream",
     "text": [
      "{1: 0.011834319526627219, 2: 0.016568047337278107, 3: 0.022485207100591716, 4: 0.010650887573964497, 5: 0.016568047337278107, 6: 0.021301775147928994, 7: 0.01893491124260355, 8: 0.016568047337278107, 9: 0.01775147928994083, 10: 0.023668639053254437, 11: 0.021301775147928994, 12: 0.021301775147928994, 13: 0.022485207100591716, 14: 0.01893491124260355, 15: 0.016568047337278107, 16: 0.020118343195266272, 17: 0.02485207100591716, 18: 0.01775147928994083, 19: 0.023668639053254437, 20: 0.016568047337278107, 21: 0.029585798816568046, 22: 0.010650887573964497, 23: 0.02603550295857988, 24: 0.022485207100591716, 25: 0.02603550295857988, 26: 0.020118343195266272, 27: 0.022485207100591716, 28: 0.01893491124260355, 29: 0.021301775147928994, 30: 0.010650887573964497, 31: 0.021301775147928994, 32: 0.020118343195266272, 33: 0.020118343195266272, 34: 0.03195266272189349, 35: 0.03195266272189349, 36: 0.020118343195266272, 37: 0.020118343195266272, 38: 0.01893491124260355, 39: 0.01301775147928994, 40: 0.01893491124260355, 41: 0.014201183431952662, 42: 0.022485207100591716, 43: 0.01775147928994083, 44: 0.023668639053254437, 45: 0.022485207100591716, 46: 0.014201183431952662, 47: 0.021301775147928994, 48: 0.028402366863905324, 49: 0.014201183431952662, 50: 0.016568047337278107}\n",
      "0.020000000000000004 0.004903751326651043\n",
      "s.d. of the true distribution 0.00037721164051161864\n"
     ]
    }
   ],
   "source": [
    "import math\n",
    "running_probabilities = {i+1: (running_counts[i + 1] / n) for i in range(50)}\n",
    "print(running_probabilities)\n",
    "ave = sum([running_probabilities[i + 1] for i in range(50)]) / 50.0\n",
    "sd = math.sqrt(sum([(ave - running_probabilities[i + 1])**2 for i in range(50)]) / 50.0)\n",
    "print(ave, sd)\n",
    "print(\"s.d. of the true distribution\", sd/math.sqrt(len(df[0:])))"
   ],
   "metadata": {
    "collapsed": false,
    "ExecuteTime": {
     "end_time": "2023-09-28T16:46:39.048235300Z",
     "start_time": "2023-09-28T16:46:38.996640600Z"
    }
   }
  },
  {
   "cell_type": "markdown",
   "source": [
    "This suggests there is an inherent bias in the sample of around 4 in 10000, and is consistent with why the probability of a win is a few order of magnitudes larger than it is supposed to be from a purely theoretical evaluation.\n",
    "Same calculation for the lucky star balls suggests a much larger bias here:"
   ],
   "metadata": {
    "collapsed": false
   }
  },
  {
   "cell_type": "code",
   "execution_count": 6,
   "outputs": [
    {
     "name": "stdout",
     "output_type": "stream",
     "text": [
      "{1: 0.0621301775147929, 2: 0.08875739644970414, 3: 0.11538461538461539, 4: 0.05325443786982249, 5: 0.07396449704142012, 6: 0.09171597633136094, 7: 0.07988165680473373, 8: 0.07692307692307693, 9: 0.0650887573964497, 10: 0.10355029585798817, 11: 0.11834319526627218, 12: 0.07100591715976332}\n",
      "0.08333333333333333 0.019877361312373148\n",
      "s.d. of the true distribution 0.001529027793259473\n"
     ]
    }
   ],
   "source": [
    "running_probabilities_ls = {i+1: (running_counts_ls[i + 1] / n_ls) for i in range(12)}\n",
    "print(running_probabilities_ls)\n",
    "ave_ls = sum([running_probabilities_ls[i + 1] for i in range(12)]) / 12.0\n",
    "sd_ls = math.sqrt(sum([(ave_ls - running_probabilities_ls[i + 1])**2 for i in range(12)]) / 12.0)\n",
    "print(ave_ls, sd_ls)\n",
    "print(\"s.d. of the true distribution\", sd_ls/math.sqrt(len(df[0:])))\n"
   ],
   "metadata": {
    "collapsed": false,
    "ExecuteTime": {
     "end_time": "2023-09-28T16:46:39.577332200Z",
     "start_time": "2023-09-28T16:46:39.544237800Z"
    }
   }
  },
  {
   "cell_type": "markdown",
   "source": [
    "Now we evaluate how far apart each ball is compared to the truly unbiased mid-points of a perfectly unbiased distribution. ave_dv below is what the separation is supposed to be in a non-biased distribution but sd_dv is how that figure deviates from the ideal case, square rooted to accommodate the deviation in either direction. And it turns out the numbers tend to be less spread out from each other than the non-biased case, by around a quarter."
   ],
   "metadata": {
    "collapsed": false
   }
  },
  {
   "cell_type": "code",
   "execution_count": 7,
   "outputs": [
    {
     "name": "stdout",
     "output_type": "stream",
     "text": [
      "8.333333333333334 6.410461535179594\n"
     ]
    }
   ],
   "source": [
    "dv = 0\n",
    "ddv = 0\n",
    "for i in range(int(n / 5)):\n",
    "    dv += sum([\n",
    "        df[\"Ball 1\"][i],\n",
    "        df[\"Ball 2\"][i] - df[\"Ball 1\"][i],\n",
    "        df[\"Ball 3\"][i] - df[\"Ball 2\"][i],\n",
    "        df[\"Ball 4\"][i] - df[\"Ball 3\"][i],\n",
    "        df[\"Ball 5\"][i] - df[\"Ball 4\"][i],\n",
    "        50 - df[\"Ball 5\"][i]\n",
    "    ])\n",
    "ave_dv = dv / (n * 6 / 5)\n",
    "\n",
    "for i in range(int(n / 5)):\n",
    "    ddv += sum([\n",
    "        (ave_dv - df[\"Ball 1\"][i])**2,\n",
    "        (ave_dv - (df[\"Ball 2\"][i] - df[\"Ball 1\"][i]))**2,\n",
    "        (ave_dv - (df[\"Ball 3\"][i] - df[\"Ball 2\"][i]))**2,\n",
    "        (ave_dv - (df[\"Ball 4\"][i] - df[\"Ball 3\"][i]))**2,\n",
    "        (ave_dv - (df[\"Ball 5\"][i] - df[\"Ball 4\"][i]))**2,\n",
    "        (ave_dv - (50 - df[\"Ball 5\"][i]))**2\n",
    "    ])\n",
    "sd_dv = math.sqrt(ddv / (n * 6 / 5))\n",
    "print(ave_dv, sd_dv)\n"
   ],
   "metadata": {
    "collapsed": false,
    "ExecuteTime": {
     "end_time": "2023-09-28T16:46:40.356882300Z",
     "start_time": "2023-09-28T16:46:40.318061100Z"
    }
   }
  },
  {
   "cell_type": "markdown",
   "source": [
    "Repeat the same for lucky star balls, and it turns out there is even more bias, around a third: "
   ],
   "metadata": {
    "collapsed": false
   }
  },
  {
   "cell_type": "code",
   "execution_count": 8,
   "outputs": [
    {
     "name": "stdout",
     "output_type": "stream",
     "text": [
      "4.0 2.721091554963393\n"
     ]
    }
   ],
   "source": [
    "dv_ls = 0\n",
    "ddv_ls = 0\n",
    "for i in range(int(n_ls / 2)):\n",
    "    dv_ls += sum([\n",
    "        df[\"Lucky Star 1\"][i],\n",
    "        df[\"Lucky Star 2\"][i] - df[\"Lucky Star 1\"][i],\n",
    "        12 - df[\"Lucky Star 2\"][i]\n",
    "    ])\n",
    "ave_dv_ls = dv_ls / (n_ls * 3 / 2)\n",
    "\n",
    "for i in range(int(n_ls / 2)):\n",
    "    ddv_ls += sum([\n",
    "        (ave_dv_ls - df[\"Lucky Star 1\"][i])**2,\n",
    "        (ave_dv_ls - (df[\"Lucky Star 2\"][i] - df[\"Lucky Star 1\"][i]))**2,\n",
    "        (ave_dv_ls - (12 - df[\"Lucky Star 2\"][i]))**2\n",
    "    ])\n",
    "sd_dv_ls = math.sqrt(ddv_ls / (n_ls * 3 / 2))\n",
    "print(ave_dv_ls, sd_dv_ls)"
   ],
   "metadata": {
    "collapsed": false,
    "ExecuteTime": {
     "end_time": "2023-09-28T16:46:41.015122400Z",
     "start_time": "2023-09-28T16:46:40.982420400Z"
    }
   }
  },
  {
   "cell_type": "markdown",
   "source": [
    "One way to make sense of this is to consider the case for lucky star balls. In a situation where there is no bias and there are infinite samples to choose from, the average probability of getting the two balls will be 4 and 8, 4 representing the smaller ball values and 8 the bigger ones. In this case the average outcome of the balls are perfectly and evenly skewed, and the distance between each draw and its neighbour is 4. that is to say 0-4, 4-8, 8-12 all have neighbouring distances of 4. \n",
    "\n",
    "Now consider our case where this figure is closer to 2.71, this means it is more likely to get a neighbouring average figure of 2.71, so it is more likely to get numbers like 0-2, 2-4, 4-12, which would give `sqrt((4-2)**2 + (4-2)**2 + (4-8)**2 / 3) ~ 2.82`\n",
    "\n",
    "Now we look at repetitions in the past 10 draws for each ball:"
   ],
   "metadata": {
    "collapsed": false
   }
  },
  {
   "cell_type": "code",
   "execution_count": 9,
   "outputs": [
    {
     "name": "stdout",
     "output_type": "stream",
     "text": [
      "{1: 7, 2: 8, 3: 14, 4: 4, 5: 10, 6: 11, 7: 12, 8: 13, 9: 10, 10: 27, 11: 23, 12: 12, 13: 16, 14: 11, 15: 7, 16: 22, 17: 24, 18: 17, 19: 22, 20: 12, 21: 39, 22: 5, 23: 24, 24: 21, 25: 20, 26: 13, 27: 19, 28: 22, 29: 13, 30: 4, 31: 15, 32: 15, 33: 14, 34: 36, 35: 51, 36: 14, 37: 15, 38: 8, 39: 6, 40: 15, 41: 12, 42: 18, 43: 14, 44: 22, 45: 16, 46: 9, 47: 16, 48: 36, 49: 6, 50: 11}\n",
      "{1: 0.008631319358816275, 2: 0.009864364981504316, 3: 0.01726263871763255, 4: 0.004932182490752158, 5: 0.012330456226880395, 6: 0.013563501849568433, 7: 0.014796547472256474, 8: 0.016029593094944512, 9: 0.012330456226880395, 10: 0.03329223181257707, 11: 0.02836004932182491, 12: 0.014796547472256474, 13: 0.01972872996300863, 14: 0.013563501849568433, 15: 0.008631319358816275, 16: 0.027127003699136867, 17: 0.029593094944512947, 18: 0.02096177558569667, 19: 0.027127003699136867, 20: 0.014796547472256474, 21: 0.04808877928483354, 22: 0.006165228113440197, 23: 0.029593094944512947, 24: 0.025893958076448828, 25: 0.02466091245376079, 26: 0.016029593094944512, 27: 0.02342786683107275, 28: 0.027127003699136867, 29: 0.016029593094944512, 30: 0.004932182490752158, 31: 0.018495684340320593, 32: 0.018495684340320593, 33: 0.01726263871763255, 34: 0.04438964241676942, 35: 0.06288532675709001, 36: 0.01726263871763255, 37: 0.018495684340320593, 38: 0.009864364981504316, 39: 0.007398273736128237, 40: 0.018495684340320593, 41: 0.014796547472256474, 42: 0.02219482120838471, 43: 0.01726263871763255, 44: 0.027127003699136867, 45: 0.01972872996300863, 46: 0.011097410604192354, 47: 0.01972872996300863, 48: 0.04438964241676942, 49: 0.007398273736128237, 50: 0.013563501849568433}\n",
      "0.02 0.011374242696841858\n"
     ]
    }
   ],
   "source": [
    "rep_counts = {i+1: 0 for i in range(50)}\n",
    "total_reps = 0\n",
    "for i in range(int(n / 5) - 10):\n",
    "    for j in range(10):\n",
    "        for k in range(5):\n",
    "            if (any([\n",
    "                df[\"Ball {}\".format(k + 1)][i] == df[\"Ball 1\"][i + j + 1],\n",
    "                df[\"Ball {}\".format(k + 1)][i] == df[\"Ball 2\"][i + j + 1],\n",
    "                df[\"Ball {}\".format(k + 1)][i] == df[\"Ball 3\"][i + j + 1],\n",
    "                df[\"Ball {}\".format(k + 1)][i] == df[\"Ball 4\"][i + j + 1],\n",
    "                df[\"Ball {}\".format(k + 1)][i] == df[\"Ball 5\"][i + j + 1]\n",
    "            ])):\n",
    "                rep_counts[df[\"Ball {}\".format(k + 1)][i]] += 1\n",
    "                total_reps += 1\n",
    "print(rep_counts)\n",
    "rep_averages = {}\n",
    "for i in range(50):\n",
    "    rep_averages[i + 1] = rep_counts[i + 1] / total_reps\n",
    "print(rep_averages)\n",
    "rep_ave = sum([rep_averages[i + 1] for i in range(50)]) / 50.0\n",
    "rep_sd = math.sqrt(sum([(rep_ave - rep_averages[i + 1])**2 for i in range(50)]) / 50.0)\n",
    "print(rep_ave, rep_sd)"
   ],
   "metadata": {
    "collapsed": false,
    "ExecuteTime": {
     "end_time": "2023-09-28T16:46:42.167708700Z",
     "start_time": "2023-09-28T16:46:41.596749300Z"
    }
   }
  },
  {
   "cell_type": "markdown",
   "source": [
    "Now the probability of a repetition for each ball is 0.2 * 1/10 attempts so roughly 0.02 which is very close to the average evaluated. However, the standard deviation is very large here, showing a tendency of numbers to repeat themselves in these smaller cycles. \n",
    "\n",
    "Repeating the same operation for lucky star numbers:"
   ],
   "metadata": {
    "collapsed": false
   }
  },
  {
   "cell_type": "code",
   "execution_count": 10,
   "outputs": [
    {
     "name": "stdout",
     "output_type": "stream",
     "text": [
      "{1: 36, 2: 41, 3: 99, 4: 14, 5: 33, 6: 54, 7: 37, 8: 29, 9: 23, 10: 67, 11: 83, 12: 23}\n",
      "{1: 0.06679035250463822, 2: 0.07606679035250463, 3: 0.1836734693877551, 4: 0.025974025974025976, 5: 0.061224489795918366, 6: 0.10018552875695733, 7: 0.0686456400742115, 8: 0.05380333951762523, 9: 0.04267161410018553, 10: 0.12430426716141002, 11: 0.15398886827458255, 12: 0.04267161410018553}\n",
      "0.08333333333333336 0.04611834873950868\n"
     ]
    }
   ],
   "source": [
    "rep_counts_ls = {i+1: 0 for i in range(12)}\n",
    "total_reps_ls = 0\n",
    "for i in range(int(n / 5) - 10):\n",
    "    for j in range(10):\n",
    "        for k in range(2):\n",
    "            if (any([\n",
    "                df[\"Lucky Star {}\".format(k + 1)][i] == df[\"Lucky Star 1\"][i + j + 1],\n",
    "                df[\"Lucky Star {}\".format(k + 1)][i] == df[\"Lucky Star 2\"][i + j + 1],\n",
    "            ])):\n",
    "                rep_counts_ls[df[\"Lucky Star {}\".format(k + 1)][i]] += 1\n",
    "                total_reps_ls += 1\n",
    "print(rep_counts_ls)\n",
    "rep_averages_ls = {}\n",
    "for i in range(12):\n",
    "    rep_averages_ls[i + 1] = rep_counts_ls[i + 1] / total_reps_ls\n",
    "print(rep_averages_ls)\n",
    "rep_ave_ls = sum([rep_averages_ls[i + 1] for i in range(12)]) / 12.0\n",
    "rep_sd_ls = math.sqrt(sum([(rep_ave_ls - rep_averages_ls[i + 1])**2 for i in range(12)]) / 12.0)\n",
    "print(rep_ave_ls, rep_sd_ls)\n"
   ],
   "metadata": {
    "collapsed": false,
    "ExecuteTime": {
     "end_time": "2023-09-28T16:46:42.465053400Z",
     "start_time": "2023-09-28T16:46:42.397318600Z"
    }
   }
  },
  {
   "cell_type": "markdown",
   "source": [
    "We see that the s.d. here is also quite large it is generally apparent that balls repeat themselves in cycles of 10. The degree to which this is true is still unknown but is possible to evaluate it if a running average of this figure is kept and its variance evaluated over a longer period.\n",
    "\n",
    "Now we put together our findings and try to assign a weight to each of the evaluated probabilities in a way that the new guesses will get scores based on them. \n",
    "\n",
    "It is difficult to guess how much each probability would influence future events but this should be looked at and adjusted over time to monitor how the bias is shifting in the outcome distributions. Perhaps a GAN can be optimised to consider all of these factors in guessing of new numbers."
   ],
   "metadata": {
    "collapsed": false
   }
  },
  {
   "cell_type": "code",
   "execution_count": 11,
   "outputs": [],
   "source": [
    "from random import randint\n",
    "candidates = {}\n",
    "for i in range(0, 1000):\n",
    "    new_guess = []\n",
    "    while len(new_guess) < 5:\n",
    "        new_random = randint(1, 50)\n",
    "        if new_random not in new_guess:\n",
    "            new_guess.append(new_random)\n",
    "    if (str(new_guess) in candidates):\n",
    "        continue\n",
    "\n",
    "    new_guess.sort()\n",
    "    # print(new_guess)\n",
    "    score = 0\n",
    "    ave_score = 0\n",
    "    rep_score = 0\n",
    "    for j in range(len(new_guess)):\n",
    "        if abs(running_probabilities[new_guess[j]] - ave) < (1.75*sd):\n",
    "            ave_score += abs((abs(running_probabilities[new_guess[j]] - ave) - sd))\n",
    "        else:\n",
    "            ave_score += abs(running_probabilities[new_guess[j]] - ave)\n",
    "\n",
    "        if (rep_averages[new_guess[j]] - rep_ave) < (1.45*rep_sd):\n",
    "            rep_score += abs((abs(rep_averages[new_guess[j]] - rep_ave) - rep_sd))\n",
    "        else:\n",
    "            rep_score += abs(rep_averages[new_guess[j]] - rep_ave)\n",
    "    # print(ave_score)\n",
    "    # print(rep_score)\n",
    "\n",
    "    guess_ave_dv = sum([\n",
    "        new_guess[0],\n",
    "        new_guess[1] - new_guess[0],\n",
    "        new_guess[2] - new_guess[1],\n",
    "        new_guess[3] - new_guess[2],\n",
    "        new_guess[4] - new_guess[3],\n",
    "        50 - new_guess[4]\n",
    "    ]) / 6\n",
    "\n",
    "    guess_ddv = sum([\n",
    "        (guess_ave_dv - new_guess[0])**2,\n",
    "        (guess_ave_dv - (new_guess[1] - new_guess[0]))**2,\n",
    "        (guess_ave_dv - (new_guess[2] - new_guess[1]))**2,\n",
    "        (guess_ave_dv - (new_guess[3] - new_guess[2]))**2,\n",
    "        (guess_ave_dv - (new_guess[4] - new_guess[3]))**2,\n",
    "        (guess_ave_dv - (50 - new_guess[4]))**2\n",
    "    ])\n",
    "    guess_sd_dv = math.sqrt(guess_ddv / 6)\n",
    "    ddv_score = abs(sd_dv - guess_sd_dv) / (n / 5)\n",
    "    # print(ddv_score)\n",
    "\n",
    "    candidates[str(new_guess)] = ave_score + rep_score + ddv_score\n",
    "\n",
    "\n"
   ],
   "metadata": {
    "collapsed": false,
    "ExecuteTime": {
     "end_time": "2023-09-28T16:46:43.514096800Z",
     "start_time": "2023-09-28T16:46:43.482226100Z"
    }
   }
  },
  {
   "cell_type": "code",
   "execution_count": 12,
   "outputs": [],
   "source": [
    "candidates_ls = {}\n",
    "for i in range(0, 1000):\n",
    "    new_guess_ls = []\n",
    "    while len(new_guess_ls) < 2:\n",
    "        new_random = randint(1, 12)\n",
    "        if new_random not in new_guess_ls:\n",
    "            new_guess_ls.append(new_random)\n",
    "    if (str(new_guess_ls) in candidates_ls):\n",
    "        continue\n",
    "\n",
    "    new_guess_ls.sort()\n",
    "    # print(new_guess_ls)\n",
    "    score = 0\n",
    "    ave_score = 0\n",
    "    rep_score = 0\n",
    "    for j in range(len(new_guess_ls)):\n",
    "        if abs(running_probabilities_ls[new_guess_ls[j]] - ave_ls) < (sd_ls):\n",
    "            ave_score += abs((abs(running_probabilities_ls[new_guess_ls[j]] - ave_ls) - sd_ls))\n",
    "        else:\n",
    "            ave_score += abs(running_probabilities_ls[new_guess_ls[j]] - ave_ls)\n",
    "\n",
    "        if (rep_averages_ls[new_guess_ls[j]] - rep_ave_ls) < (2*rep_sd_ls):\n",
    "            rep_score += abs((abs(rep_averages_ls[new_guess_ls[j]] - rep_ave_ls) - rep_sd_ls))\n",
    "        else:\n",
    "            rep_score += abs(rep_averages_ls[new_guess_ls[j]] - rep_ave_ls)\n",
    "    # print(ave_score)\n",
    "    # print(rep_score)\n",
    "\n",
    "    guess_ave_dv = sum([\n",
    "        new_guess_ls[0],\n",
    "        new_guess_ls[1] - new_guess_ls[0],\n",
    "        12 - new_guess_ls[1]\n",
    "    ]) / 3\n",
    "\n",
    "    guess_ddv = sum([\n",
    "        (guess_ave_dv - new_guess_ls[0])**2,\n",
    "        (guess_ave_dv - (new_guess_ls[1] - new_guess_ls[0]))**2,\n",
    "        (guess_ave_dv - (12 - new_guess_ls[1]))**2\n",
    "    ])\n",
    "    guess_sd_dv = math.sqrt(guess_ddv / 3)\n",
    "    ddv_score = abs(sd_dv_ls - guess_sd_dv) / (n_ls / 2)\n",
    "    # print(ddv_score)\n",
    "\n",
    "    candidates_ls[str(new_guess_ls)] = ave_score + rep_score + ddv_score\n",
    "\n"
   ],
   "metadata": {
    "collapsed": false,
    "ExecuteTime": {
     "end_time": "2023-09-28T16:46:44.179575Z",
     "start_time": "2023-09-28T16:46:44.158568500Z"
    }
   }
  },
  {
   "cell_type": "markdown",
   "source": [
    "200th to 240th best guesses for the ball numbers:"
   ],
   "metadata": {
    "collapsed": false
   }
  },
  {
   "cell_type": "code",
   "execution_count": 13,
   "outputs": [
    {
     "name": "stdout",
     "output_type": "stream",
     "text": [
      "('[1, 16, 27, 28, 31]', 0.04822465220008795)\n",
      "('[5, 25, 31, 40, 50]', 0.048281454340841815)\n",
      "('[17, 25, 26, 38, 45]', 0.048290491464448776)\n",
      "('[10, 36, 38, 39, 43]', 0.04837258923186778)\n",
      "('[1, 17, 22, 27, 40]', 0.04842283897563189)\n",
      "('[19, 28, 33, 43, 50]', 0.04851817028755132)\n",
      "('[10, 12, 13, 27, 39]', 0.04853003115318179)\n",
      "('[4, 19, 20, 23, 27]', 0.04856248089797499)\n",
      "('[4, 24, 46, 49, 50]', 0.04856331759664642)\n",
      "('[18, 19, 25, 36, 46]', 0.04858643107864346)\n",
      "('[4, 17, 23, 26, 41]', 0.048586505045757455)\n",
      "('[16, 22, 27, 38, 39]', 0.048601320411285606)\n",
      "('[4, 5, 16, 19, 36]', 0.048640070109278254)\n",
      "('[10, 12, 28, 39, 47]', 0.04864535079929605)\n",
      "('[5, 8, 19, 23, 37]', 0.04864570888360313)\n",
      "('[1, 12, 27, 40, 46]', 0.04869521050925775)\n",
      "('[4, 6, 7, 27, 38]', 0.048746805748856946)\n",
      "('[16, 31, 38, 45, 49]', 0.04880806604762517)\n",
      "('[19, 20, 24, 29, 40]', 0.04888647923951949)\n",
      "('[4, 15, 18, 22, 28]', 0.048900552650966475)\n",
      "('[11, 17, 33, 39, 40]', 0.04892382397371297)\n",
      "('[6, 14, 27, 41, 49]', 0.04908440243780583)\n",
      "('[7, 22, 38, 42, 46]', 0.049109639429531324)\n",
      "('[17, 20, 27, 29, 42]', 0.049127359432024335)\n",
      "('[4, 19, 29, 45, 49]', 0.049172419273901403)\n",
      "('[14, 18, 23, 24, 45]', 0.04919343454875542)\n",
      "('[6, 11, 14, 26, 44]', 0.049235239945419555)\n",
      "('[5, 9, 14, 18, 42]', 0.049257688915654976)\n",
      "('[17, 20, 27, 38, 45]', 0.04932684682321764)\n",
      "('[9, 16, 27, 39, 50]', 0.04932869921353856)\n",
      "('[2, 3, 28, 36, 39]', 0.04940254741308316)\n",
      "('[20, 27, 28, 32, 49]', 0.04943863912326264)\n",
      "('[6, 8, 10, 18, 40]', 0.04949665086145683)\n",
      "('[1, 7, 13, 26, 44]', 0.04951552466984182)\n",
      "('[9, 23, 33, 38, 46]', 0.04954520128201481)\n",
      "('[18, 26, 36, 46, 49]', 0.049570790664129304)\n",
      "('[2, 3, 8, 26, 40]', 0.04957105079980718)\n",
      "('[2, 16, 22, 26, 29]', 0.04962107693748138)\n",
      "('[6, 9, 24, 28, 45]', 0.04962929135917016)\n",
      "('[15, 18, 20, 30, 39]', 0.04964068233472116)\n"
     ]
    }
   ],
   "source": [
    "for i in sorted(candidates.items(), key=lambda item: item[1])[200:240]:\n",
    "    print(i)"
   ],
   "metadata": {
    "collapsed": false,
    "ExecuteTime": {
     "end_time": "2023-09-28T16:46:45.763048800Z",
     "start_time": "2023-09-28T16:46:45.731649100Z"
    }
   }
  },
  {
   "cell_type": "markdown",
   "source": [
    "top guesses for the lucky star numbers:"
   ],
   "metadata": {
    "collapsed": false
   }
  },
  {
   "cell_type": "code",
   "execution_count": 14,
   "outputs": [
    {
     "name": "stdout",
     "output_type": "stream",
     "text": [
      "('[9, 12]', 0.026134840602816425)\n",
      "('[9, 10]', 0.037411984797505536)\n",
      "('[8, 9]', 0.03846338792559345)\n",
      "('[8, 12]', 0.04628626387195414)\n",
      "('[10, 12]', 0.04783487068465428)\n",
      "('[5, 12]', 0.04884311808554339)\n",
      "('[5, 9]', 0.052877237850177186)\n",
      "('[6, 12]', 0.05440256799008534)\n",
      "('[6, 9]', 0.05558329238539599)\n",
      "('[8, 10]', 0.05605495897669527)\n",
      "('[4, 12]', 0.05755065812934637)\n",
      "('[7, 9]', 0.05826436257496997)\n",
      "('[1, 9]', 0.059186451829030116)\n",
      "('[4, 9]', 0.059679061710933096)\n",
      "('[7, 12]', 0.06218142812715014)\n",
      "('[2, 9]', 0.06371312626549187)\n",
      "('[5, 10]', 0.06761541353195585)\n",
      "('[9, 11]', 0.07159465549609806)\n",
      "('[6, 10]', 0.0725637010965416)\n",
      "('[4, 10]', 0.0731226835496209)\n",
      "('[2, 12]', 0.07577559720324972)\n",
      "('[5, 8]', 0.07584328279424411)\n",
      "('[7, 10]', 0.07653932512920644)\n",
      "('[1, 12]', 0.07707186318883977)\n",
      "('[6, 8]', 0.07725478348637205)\n",
      "('[4, 5]', 0.077444995620539)\n",
      "('[5, 6]', 0.07859750928174308)\n",
      "('[2, 10]', 0.07930460310546027)\n",
      "('[7, 8]', 0.07951891140475352)\n",
      "('[1, 10]', 0.08110109364500914)\n",
      "('[1, 8]', 0.0824410948699471)\n",
      "('[11, 12]', 0.08584038759416518)\n",
      "('[1, 5]', 0.08690366526658344)\n",
      "('[4, 8]', 0.08747644737054869)\n",
      "('[4, 6]', 0.08851917774376428)\n",
      "('[2, 8]', 0.0897990158108241)\n",
      "('[5, 7]', 0.09010737636002937)\n",
      "('[8, 11]', 0.09092102117842246)\n",
      "('[2, 5]', 0.09114174160619512)\n",
      "('[6, 7]', 0.09193581932334982)\n",
      "('[1, 4]', 0.0934168910304893)\n",
      "('[10, 11]', 0.0939146748734638)\n",
      "('[1, 6]', 0.09485800278854342)\n",
      "('[2, 4]', 0.09526007975268296)\n",
      "('[5, 11]', 0.0973836857861922)\n",
      "('[4, 7]', 0.10044598709324311)\n",
      "('[2, 6]', 0.10050442761513703)\n",
      "('[1, 7]', 0.10195347142247356)\n",
      "('[4, 11]', 0.10247401353266475)\n",
      "('[6, 11]', 0.10362652719386882)\n",
      "('[2, 7]', 0.10889445009215805)\n",
      "('[7, 11]', 0.10901049971351559)\n",
      "('[1, 2]', 0.11308687698673385)\n",
      "('[2, 11]', 0.11781034456892997)\n",
      "('[1, 11]', 0.11932882116673092)\n",
      "('[3, 9]', 0.14721383886086958)\n",
      "('[3, 12]', 0.15143684382666986)\n",
      "('[3, 10]', 0.16107440297074987)\n",
      "('[3, 5]', 0.17022805575721664)\n",
      "('[3, 8]', 0.17371667067739427)\n",
      "('[3, 4]', 0.17502978540683914)\n",
      "('[3, 6]', 0.18088529560924943)\n",
      "('[1, 3]', 0.1881281343146261)\n",
      "('[2, 3]', 0.19065471453995442)\n",
      "('[3, 7]', 0.19151755111563737)\n",
      "('[3, 11]', 0.19325697945820897)\n"
     ]
    }
   ],
   "source": [
    "for i in sorted(candidates_ls.items(), key=lambda item: item[1]):\n",
    "    print(i)"
   ],
   "metadata": {
    "collapsed": false,
    "ExecuteTime": {
     "end_time": "2023-09-28T16:46:47.151358300Z",
     "start_time": "2023-09-28T16:46:47.116934600Z"
    }
   }
  },
  {
   "cell_type": "markdown",
   "source": [
    "# GAN timeseries generation\n",
    "\n",
    "In this section we will extract the data to be loaded into a neural net to make predictions and compare them to the existing ones we evaluated here. Eventually the idea is to use a GAN to enhance this prediction."
   ],
   "metadata": {
    "collapsed": false
   }
  },
  {
   "cell_type": "code",
   "execution_count": 15,
   "outputs": [],
   "source": [
    "df[[\"Lucky Star 1\", \"Lucky Star 2\", \"Ball 1\", \"Ball 2\", \"Ball 3\", \"Ball 4\", \"Ball 5\"]].to_csv(\"euromillions-dataset.csv\", index=None)"
   ],
   "metadata": {
    "collapsed": false,
    "ExecuteTime": {
     "end_time": "2023-09-28T16:48:21.266465400Z",
     "start_time": "2023-09-28T16:48:21.235168300Z"
    }
   }
  },
  {
   "cell_type": "code",
   "execution_count": null,
   "outputs": [],
   "source": [],
   "metadata": {
    "collapsed": false
   }
  }
 ],
 "metadata": {
  "kernelspec": {
   "display_name": "Python 3",
   "language": "python",
   "name": "python3"
  },
  "language_info": {
   "codemirror_mode": {
    "name": "ipython",
    "version": 2
   },
   "file_extension": ".py",
   "mimetype": "text/x-python",
   "name": "python",
   "nbconvert_exporter": "python",
   "pygments_lexer": "ipython2",
   "version": "2.7.6"
  }
 },
 "nbformat": 4,
 "nbformat_minor": 0
}
