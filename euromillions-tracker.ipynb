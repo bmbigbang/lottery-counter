{
 "cells": [
  {
   "cell_type": "markdown",
   "source": [
    "# Euro-millions Number analysis\n",
    "Read out the historic data to base our new numbers with and perform some data exploration."
   ],
   "metadata": {
    "collapsed": false
   }
  },
  {
   "cell_type": "code",
   "execution_count": 1,
   "metadata": {
    "collapsed": true,
    "ExecuteTime": {
     "end_time": "2023-10-06T16:04:15.166967900Z",
     "start_time": "2023-10-06T16:04:14.355401900Z"
    }
   },
   "outputs": [
    {
     "data": {
      "text/plain": "              DrawDate  Ball 1  Ball 2  Ball 3  Ball 4  Ball 5  Lucky Star 1  \\\n0  2023-10-03 00:00:00       6      20      22      24      45             4   \n1  2023-09-29 00:00:00       9      11      13      21      32             2   \n2  2023-09-26 00:00:00       2       6      14      19      23             5   \n3  2023-09-22 00:00:00       3      23      24      34      35             5   \n4  2023-09-19 00:00:00      10      15      31      41      42             2   \n\n   Lucky Star 2  \n0             5  \n1             7  \n2             7  \n3             8  \n4             5  ",
      "text/html": "<div>\n<style scoped>\n    .dataframe tbody tr th:only-of-type {\n        vertical-align: middle;\n    }\n\n    .dataframe tbody tr th {\n        vertical-align: top;\n    }\n\n    .dataframe thead th {\n        text-align: right;\n    }\n</style>\n<table border=\"1\" class=\"dataframe\">\n  <thead>\n    <tr style=\"text-align: right;\">\n      <th></th>\n      <th>DrawDate</th>\n      <th>Ball 1</th>\n      <th>Ball 2</th>\n      <th>Ball 3</th>\n      <th>Ball 4</th>\n      <th>Ball 5</th>\n      <th>Lucky Star 1</th>\n      <th>Lucky Star 2</th>\n    </tr>\n  </thead>\n  <tbody>\n    <tr>\n      <th>0</th>\n      <td>2023-10-03 00:00:00</td>\n      <td>6</td>\n      <td>20</td>\n      <td>22</td>\n      <td>24</td>\n      <td>45</td>\n      <td>4</td>\n      <td>5</td>\n    </tr>\n    <tr>\n      <th>1</th>\n      <td>2023-09-29 00:00:00</td>\n      <td>9</td>\n      <td>11</td>\n      <td>13</td>\n      <td>21</td>\n      <td>32</td>\n      <td>2</td>\n      <td>7</td>\n    </tr>\n    <tr>\n      <th>2</th>\n      <td>2023-09-26 00:00:00</td>\n      <td>2</td>\n      <td>6</td>\n      <td>14</td>\n      <td>19</td>\n      <td>23</td>\n      <td>5</td>\n      <td>7</td>\n    </tr>\n    <tr>\n      <th>3</th>\n      <td>2023-09-22 00:00:00</td>\n      <td>3</td>\n      <td>23</td>\n      <td>24</td>\n      <td>34</td>\n      <td>35</td>\n      <td>5</td>\n      <td>8</td>\n    </tr>\n    <tr>\n      <th>4</th>\n      <td>2023-09-19 00:00:00</td>\n      <td>10</td>\n      <td>15</td>\n      <td>31</td>\n      <td>41</td>\n      <td>42</td>\n      <td>2</td>\n      <td>5</td>\n    </tr>\n  </tbody>\n</table>\n</div>"
     },
     "execution_count": 1,
     "metadata": {},
     "output_type": "execute_result"
    }
   ],
   "source": [
    "import pandas as pd\n",
    "\n",
    "df = pd.read_excel(\"lottery-numbers-tracker.xlsx\", sheet_name=\"EuroMillions\", header=0)\n",
    "\n",
    "df.head()\n"
   ]
  },
  {
   "cell_type": "markdown",
   "source": [
    "The probability for each ball to be drawn given that there is no bias is:"
   ],
   "metadata": {
    "collapsed": false
   }
  },
  {
   "cell_type": "code",
   "execution_count": 2,
   "outputs": [
    {
     "name": "stdout",
     "output_type": "stream",
     "text": [
      "{1: 0.02, 2: 0.02, 3: 0.02, 4: 0.02, 5: 0.02, 6: 0.02, 7: 0.02, 8: 0.02, 9: 0.02, 10: 0.02, 11: 0.02, 12: 0.02, 13: 0.02, 14: 0.02, 15: 0.02, 16: 0.02, 17: 0.02, 18: 0.02, 19: 0.02, 20: 0.02, 21: 0.02, 22: 0.02, 23: 0.02, 24: 0.02, 25: 0.02, 26: 0.02, 27: 0.02, 28: 0.02, 29: 0.02, 30: 0.02, 31: 0.02, 32: 0.02, 33: 0.02, 34: 0.02, 35: 0.02, 36: 0.02, 37: 0.02, 38: 0.02, 39: 0.02, 40: 0.02, 41: 0.02, 42: 0.02, 43: 0.02, 44: 0.02, 45: 0.02, 46: 0.02, 47: 0.02, 48: 0.02, 49: 0.02, 50: 0.02}\n",
      "{1: 0.08333333333333333, 2: 0.08333333333333333, 3: 0.08333333333333333, 4: 0.08333333333333333, 5: 0.08333333333333333, 6: 0.08333333333333333, 7: 0.08333333333333333, 8: 0.08333333333333333, 9: 0.08333333333333333, 10: 0.08333333333333333, 11: 0.08333333333333333, 12: 0.08333333333333333}\n"
     ]
    }
   ],
   "source": [
    "probabilities = {i+1: 1/50 for i in range(50)}\n",
    "print(probabilities)\n",
    "probabilities_ls = {i+1: 1/12 for i in range(12)}\n",
    "print(probabilities_ls)"
   ],
   "metadata": {
    "collapsed": false,
    "ExecuteTime": {
     "end_time": "2023-10-06T16:04:17.976562900Z",
     "start_time": "2023-10-06T16:04:17.974330300Z"
    }
   }
  },
  {
   "cell_type": "markdown",
   "source": [
    "Now we sum the number of occurrences for each ball using numpy's unique function:"
   ],
   "metadata": {
    "collapsed": false
   }
  },
  {
   "cell_type": "code",
   "execution_count": 3,
   "outputs": [
    {
     "name": "stdout",
     "output_type": "stream",
     "text": [
      "[ 1  2  3  4  5  6  7  8  9 10 11 12 13 14 15 16 17 18 19 20 21 22 23 24\n",
      " 25 26 27 28 29 30 31 32 33 34 35 36 37 38 39 40 41 42 43 44 45 46 47 48\n",
      " 49 50] 50\n",
      "{1: 10, 2: 14, 3: 19, 4: 9, 5: 14, 6: 19, 7: 16, 8: 14, 9: 16, 10: 20, 11: 19, 12: 18, 13: 20, 14: 16, 15: 14, 16: 17, 17: 21, 18: 15, 19: 20, 20: 15, 21: 26, 22: 10, 23: 22, 24: 20, 25: 22, 26: 17, 27: 19, 28: 16, 29: 18, 30: 9, 31: 18, 32: 18, 33: 17, 34: 27, 35: 27, 36: 17, 37: 17, 38: 16, 39: 11, 40: 16, 41: 12, 42: 19, 43: 15, 44: 20, 45: 20, 46: 12, 47: 18, 48: 24, 49: 12, 50: 14}\n"
     ]
    }
   ],
   "source": [
    "import numpy as np\n",
    "n = df.shape[0] * 5\n",
    "occurrences = np.concatenate([df[\"Ball 1\"], df[\"Ball 2\"], df[\"Ball 3\"], df[\"Ball 4\"], df[\"Ball 5\"]])\n",
    "\n",
    "unique, counts = np.unique(occurrences, return_counts=True)\n",
    "print(unique, len(unique))\n",
    "running_counts = dict(zip(unique, counts))\n",
    "print(running_counts)\n"
   ],
   "metadata": {
    "collapsed": false,
    "ExecuteTime": {
     "end_time": "2023-10-06T16:04:19.488507900Z",
     "start_time": "2023-10-06T16:04:19.422599700Z"
    }
   }
  },
  {
   "cell_type": "markdown",
   "source": [
    "Same unique counts for the lucky star balls:"
   ],
   "metadata": {
    "collapsed": false
   }
  },
  {
   "cell_type": "code",
   "execution_count": 4,
   "outputs": [
    {
     "name": "stdout",
     "output_type": "stream",
     "text": [
      "[ 1  2  3  4  5  6  7  8  9 10 11 12] 12\n",
      "{1: 21, 2: 31, 3: 39, 4: 19, 5: 26, 6: 31, 7: 28, 8: 26, 9: 22, 10: 35, 11: 40, 12: 24}\n"
     ]
    }
   ],
   "source": [
    "n_ls = df.shape[0] * 2\n",
    "occurrences_ls = np.concatenate([df[\"Lucky Star 1\"], df[\"Lucky Star 2\"]])\n",
    "\n",
    "unique_ls, counts_ls = np.unique(occurrences_ls, return_counts=True)\n",
    "print(unique_ls, len(unique_ls))\n",
    "running_counts_ls = dict(zip(unique_ls, counts_ls))\n",
    "print(running_counts_ls)\n"
   ],
   "metadata": {
    "collapsed": false,
    "ExecuteTime": {
     "end_time": "2023-10-06T16:04:21.180597300Z",
     "start_time": "2023-10-06T16:04:21.178128300Z"
    }
   }
  },
  {
   "cell_type": "markdown",
   "source": [
    "Now we calculate the probability of each number and how it deviates from the raw unbiased probabilities calculated previously. It turns out the standard deviation is around a quarter of the mean, and by using the central limit theorem, we get the s.d. of the true distribution as "
   ],
   "metadata": {
    "collapsed": false
   }
  },
  {
   "cell_type": "code",
   "execution_count": 5,
   "outputs": [
    {
     "name": "stdout",
     "output_type": "stream",
     "text": [
      "{1: 0.011695906432748537, 2: 0.016374269005847954, 3: 0.022222222222222223, 4: 0.010526315789473684, 5: 0.016374269005847954, 6: 0.022222222222222223, 7: 0.01871345029239766, 8: 0.016374269005847954, 9: 0.01871345029239766, 10: 0.023391812865497075, 11: 0.022222222222222223, 12: 0.021052631578947368, 13: 0.023391812865497075, 14: 0.01871345029239766, 15: 0.016374269005847954, 16: 0.019883040935672516, 17: 0.02456140350877193, 18: 0.017543859649122806, 19: 0.023391812865497075, 20: 0.017543859649122806, 21: 0.0304093567251462, 22: 0.011695906432748537, 23: 0.025730994152046785, 24: 0.023391812865497075, 25: 0.025730994152046785, 26: 0.019883040935672516, 27: 0.022222222222222223, 28: 0.01871345029239766, 29: 0.021052631578947368, 30: 0.010526315789473684, 31: 0.021052631578947368, 32: 0.021052631578947368, 33: 0.019883040935672516, 34: 0.031578947368421054, 35: 0.031578947368421054, 36: 0.019883040935672516, 37: 0.019883040935672516, 38: 0.01871345029239766, 39: 0.012865497076023392, 40: 0.01871345029239766, 41: 0.014035087719298246, 42: 0.022222222222222223, 43: 0.017543859649122806, 44: 0.023391812865497075, 45: 0.023391812865497075, 46: 0.014035087719298246, 47: 0.021052631578947368, 48: 0.028070175438596492, 49: 0.014035087719298246, 50: 0.016374269005847954}\n",
      "0.02 0.00489135056522257\n",
      "s.d. of the true distribution 0.00037405092651290764\n"
     ]
    }
   ],
   "source": [
    "import math\n",
    "running_probabilities = {i+1: (running_counts[i + 1] / n) for i in range(50)}\n",
    "print(running_probabilities)\n",
    "ave = sum([running_probabilities[i + 1] for i in range(50)]) / 50.0\n",
    "sd = math.sqrt(sum([(ave - running_probabilities[i + 1])**2 for i in range(50)]) / 50.0)\n",
    "print(ave, sd)\n",
    "print(\"s.d. of the true distribution\", sd/math.sqrt(len(df[0:])))"
   ],
   "metadata": {
    "collapsed": false,
    "ExecuteTime": {
     "end_time": "2023-10-06T16:04:23.674426300Z",
     "start_time": "2023-10-06T16:04:23.661346800Z"
    }
   }
  },
  {
   "cell_type": "markdown",
   "source": [
    "This suggests there is an inherent bias in the sample of around 4 in 10000, and is consistent with why the probability of a win is a few order of magnitudes larger than it is supposed to be from a purely theoretical evaluation.\n",
    "Same calculation for the lucky star balls suggests a much larger bias here:"
   ],
   "metadata": {
    "collapsed": false
   }
  },
  {
   "cell_type": "code",
   "execution_count": 6,
   "outputs": [
    {
     "name": "stdout",
     "output_type": "stream",
     "text": [
      "{1: 0.06140350877192982, 2: 0.09064327485380116, 3: 0.11403508771929824, 4: 0.05555555555555555, 5: 0.07602339181286549, 6: 0.09064327485380116, 7: 0.08187134502923976, 8: 0.07602339181286549, 9: 0.06432748538011696, 10: 0.1023391812865497, 11: 0.11695906432748537, 12: 0.07017543859649122}\n",
      "0.08333333333333333 0.0192294538566753\n",
      "s.d. of the true distribution 0.0014705130894864227\n"
     ]
    }
   ],
   "source": [
    "running_probabilities_ls = {i+1: (running_counts_ls[i + 1] / n_ls) for i in range(12)}\n",
    "print(running_probabilities_ls)\n",
    "ave_ls = sum([running_probabilities_ls[i + 1] for i in range(12)]) / 12.0\n",
    "sd_ls = math.sqrt(sum([(ave_ls - running_probabilities_ls[i + 1])**2 for i in range(12)]) / 12.0)\n",
    "print(ave_ls, sd_ls)\n",
    "print(\"s.d. of the true distribution\", sd_ls/math.sqrt(len(df[0:])))\n"
   ],
   "metadata": {
    "collapsed": false,
    "ExecuteTime": {
     "end_time": "2023-10-06T16:04:40.768906Z",
     "start_time": "2023-10-06T16:04:40.759239900Z"
    }
   }
  },
  {
   "cell_type": "markdown",
   "source": [
    "Now we evaluate how far apart each ball is compared to the truly unbiased mid-points of a perfectly unbiased distribution. ave_dv below is what the separation is supposed to be in a non-biased distribution but sd_dv is how that figure deviates from the ideal case, square rooted to accommodate the deviation in either direction. And it turns out the numbers tend to be less spread out from each other than the non-biased case, by around a quarter."
   ],
   "metadata": {
    "collapsed": false
   }
  },
  {
   "cell_type": "code",
   "execution_count": 7,
   "outputs": [
    {
     "name": "stdout",
     "output_type": "stream",
     "text": [
      "8.333333333333334 6.408753760001652\n"
     ]
    }
   ],
   "source": [
    "dv = 0\n",
    "ddv = 0\n",
    "for i in range(int(n / 5)):\n",
    "    dv += sum([\n",
    "        df[\"Ball 1\"][i],\n",
    "        df[\"Ball 2\"][i] - df[\"Ball 1\"][i],\n",
    "        df[\"Ball 3\"][i] - df[\"Ball 2\"][i],\n",
    "        df[\"Ball 4\"][i] - df[\"Ball 3\"][i],\n",
    "        df[\"Ball 5\"][i] - df[\"Ball 4\"][i],\n",
    "        50 - df[\"Ball 5\"][i]\n",
    "    ])\n",
    "ave_dv = dv / (n * 6 / 5)\n",
    "\n",
    "for i in range(int(n / 5)):\n",
    "    ddv += sum([\n",
    "        (ave_dv - df[\"Ball 1\"][i])**2,\n",
    "        (ave_dv - (df[\"Ball 2\"][i] - df[\"Ball 1\"][i]))**2,\n",
    "        (ave_dv - (df[\"Ball 3\"][i] - df[\"Ball 2\"][i]))**2,\n",
    "        (ave_dv - (df[\"Ball 4\"][i] - df[\"Ball 3\"][i]))**2,\n",
    "        (ave_dv - (df[\"Ball 5\"][i] - df[\"Ball 4\"][i]))**2,\n",
    "        (ave_dv - (50 - df[\"Ball 5\"][i]))**2\n",
    "    ])\n",
    "sd_dv = math.sqrt(ddv / (n * 6 / 5))\n",
    "print(ave_dv, sd_dv)\n"
   ],
   "metadata": {
    "collapsed": false,
    "ExecuteTime": {
     "end_time": "2023-10-06T16:05:06.629314Z",
     "start_time": "2023-10-06T16:05:06.618040400Z"
    }
   }
  },
  {
   "cell_type": "markdown",
   "source": [
    "Repeat the same for lucky star balls, and it turns out there is even more bias, around a third: "
   ],
   "metadata": {
    "collapsed": false
   }
  },
  {
   "cell_type": "code",
   "execution_count": 8,
   "outputs": [
    {
     "name": "stdout",
     "output_type": "stream",
     "text": [
      "4.0 2.7137653577923784\n"
     ]
    }
   ],
   "source": [
    "dv_ls = 0\n",
    "ddv_ls = 0\n",
    "for i in range(int(n_ls / 2)):\n",
    "    dv_ls += sum([\n",
    "        df[\"Lucky Star 1\"][i],\n",
    "        df[\"Lucky Star 2\"][i] - df[\"Lucky Star 1\"][i],\n",
    "        12 - df[\"Lucky Star 2\"][i]\n",
    "    ])\n",
    "ave_dv_ls = dv_ls / (n_ls * 3 / 2)\n",
    "\n",
    "for i in range(int(n_ls / 2)):\n",
    "    ddv_ls += sum([\n",
    "        (ave_dv_ls - df[\"Lucky Star 1\"][i])**2,\n",
    "        (ave_dv_ls - (df[\"Lucky Star 2\"][i] - df[\"Lucky Star 1\"][i]))**2,\n",
    "        (ave_dv_ls - (12 - df[\"Lucky Star 2\"][i]))**2\n",
    "    ])\n",
    "sd_dv_ls = math.sqrt(ddv_ls / (n_ls * 3 / 2))\n",
    "print(ave_dv_ls, sd_dv_ls)"
   ],
   "metadata": {
    "collapsed": false,
    "ExecuteTime": {
     "end_time": "2023-10-06T16:05:09.748060300Z",
     "start_time": "2023-10-06T16:05:09.720246Z"
    }
   }
  },
  {
   "cell_type": "markdown",
   "source": [
    "One way to make sense of this is to consider the case for lucky star balls. In a situation where there is no bias and there are infinite samples to choose from, the average probability of getting the two balls will be 4 and 8, 4 representing the smaller ball values and 8 the bigger ones. In this case the average outcome of the balls are perfectly and evenly skewed, and the distance between each draw and its neighbour is 4. that is to say 0-4, 4-8, 8-12 all have neighbouring distances of 4. \n",
    "\n",
    "Now consider our case where this figure is closer to 2.71, this means it is more likely to get a neighbouring average figure of 2.71, so it is more likely to get numbers like 0-2, 2-4, 4-12, which would give `sqrt((4-2)**2 + (4-2)**2 + (4-8)**2 / 3) ~ 2.82`\n",
    "\n",
    "Now we look at repetitions in the past 10 draws for each ball:"
   ],
   "metadata": {
    "collapsed": false
   }
  },
  {
   "cell_type": "code",
   "execution_count": 9,
   "outputs": [
    {
     "name": "stdout",
     "output_type": "stream",
     "text": [
      "{1: 7, 2: 8, 3: 14, 4: 4, 5: 10, 6: 12, 7: 12, 8: 13, 9: 10, 10: 27, 11: 23, 12: 12, 13: 16, 14: 11, 15: 7, 16: 22, 17: 24, 18: 17, 19: 22, 20: 13, 21: 42, 22: 5, 23: 24, 24: 23, 25: 20, 26: 13, 27: 19, 28: 22, 29: 13, 30: 4, 31: 15, 32: 16, 33: 14, 34: 36, 35: 51, 36: 14, 37: 15, 38: 8, 39: 6, 40: 15, 41: 12, 42: 18, 43: 14, 44: 22, 45: 17, 46: 9, 47: 16, 48: 36, 49: 6, 50: 11}\n",
      "{1: 0.00853658536585366, 2: 0.00975609756097561, 3: 0.01707317073170732, 4: 0.004878048780487805, 5: 0.012195121951219513, 6: 0.014634146341463415, 7: 0.014634146341463415, 8: 0.015853658536585366, 9: 0.012195121951219513, 10: 0.032926829268292684, 11: 0.02804878048780488, 12: 0.014634146341463415, 13: 0.01951219512195122, 14: 0.013414634146341463, 15: 0.00853658536585366, 16: 0.026829268292682926, 17: 0.02926829268292683, 18: 0.020731707317073172, 19: 0.026829268292682926, 20: 0.015853658536585366, 21: 0.05121951219512195, 22: 0.006097560975609756, 23: 0.02926829268292683, 24: 0.02804878048780488, 25: 0.024390243902439025, 26: 0.015853658536585366, 27: 0.023170731707317073, 28: 0.026829268292682926, 29: 0.015853658536585366, 30: 0.004878048780487805, 31: 0.018292682926829267, 32: 0.01951219512195122, 33: 0.01707317073170732, 34: 0.04390243902439024, 35: 0.06219512195121951, 36: 0.01707317073170732, 37: 0.018292682926829267, 38: 0.00975609756097561, 39: 0.007317073170731708, 40: 0.018292682926829267, 41: 0.014634146341463415, 42: 0.02195121951219512, 43: 0.01707317073170732, 44: 0.026829268292682926, 45: 0.020731707317073172, 46: 0.01097560975609756, 47: 0.01951219512195122, 48: 0.04390243902439024, 49: 0.007317073170731708, 50: 0.013414634146341463}\n",
      "0.020000000000000014 0.011445237274780551\n"
     ]
    }
   ],
   "source": [
    "rep_counts = {i+1: 0 for i in range(50)}\n",
    "total_reps = 0\n",
    "for i in range(int(n / 5) - 10):\n",
    "    for j in range(10):\n",
    "        for k in range(5):\n",
    "            if (any([\n",
    "                df[\"Ball {}\".format(k + 1)][i] == df[\"Ball 1\"][i + j + 1],\n",
    "                df[\"Ball {}\".format(k + 1)][i] == df[\"Ball 2\"][i + j + 1],\n",
    "                df[\"Ball {}\".format(k + 1)][i] == df[\"Ball 3\"][i + j + 1],\n",
    "                df[\"Ball {}\".format(k + 1)][i] == df[\"Ball 4\"][i + j + 1],\n",
    "                df[\"Ball {}\".format(k + 1)][i] == df[\"Ball 5\"][i + j + 1]\n",
    "            ])):\n",
    "                rep_counts[df[\"Ball {}\".format(k + 1)][i]] += 1\n",
    "                total_reps += 1\n",
    "print(rep_counts)\n",
    "rep_averages = {}\n",
    "for i in range(50):\n",
    "    rep_averages[i + 1] = rep_counts[i + 1] / total_reps\n",
    "print(rep_averages)\n",
    "rep_ave = sum([rep_averages[i + 1] for i in range(50)]) / 50.0\n",
    "rep_sd = math.sqrt(sum([(rep_ave - rep_averages[i + 1])**2 for i in range(50)]) / 50.0)\n",
    "print(rep_ave, rep_sd)"
   ],
   "metadata": {
    "collapsed": false,
    "ExecuteTime": {
     "end_time": "2023-10-06T16:05:25.100503100Z",
     "start_time": "2023-10-06T16:05:24.913006100Z"
    }
   }
  },
  {
   "cell_type": "markdown",
   "source": [
    "Now the probability of a repetition for each ball is 0.2 * 1/10 attempts so roughly 0.02 which is very close to the average evaluated. However, the standard deviation is very large here, showing a tendency of numbers to repeat themselves in these smaller cycles. \n",
    "\n",
    "Repeating the same operation for lucky star numbers:"
   ],
   "metadata": {
    "collapsed": false
   }
  },
  {
   "cell_type": "code",
   "execution_count": 10,
   "outputs": [
    {
     "name": "stdout",
     "output_type": "stream",
     "text": [
      "{1: 36, 2: 43, 3: 99, 4: 15, 5: 37, 6: 54, 7: 38, 8: 29, 9: 23, 10: 67, 11: 83, 12: 23}\n",
      "{1: 0.06581352833638025, 2: 0.07861060329067641, 3: 0.1809872029250457, 4: 0.027422303473491772, 5: 0.06764168190127971, 6: 0.09872029250457039, 7: 0.06946983546617916, 8: 0.05301645338208409, 9: 0.04204753199268738, 10: 0.12248628884826325, 11: 0.15173674588665448, 12: 0.04204753199268738}\n",
      "0.08333333333333333 0.04491369597338533\n"
     ]
    }
   ],
   "source": [
    "rep_counts_ls = {i+1: 0 for i in range(12)}\n",
    "total_reps_ls = 0\n",
    "for i in range(int(n / 5) - 10):\n",
    "    for j in range(10):\n",
    "        for k in range(2):\n",
    "            if (any([\n",
    "                df[\"Lucky Star {}\".format(k + 1)][i] == df[\"Lucky Star 1\"][i + j + 1],\n",
    "                df[\"Lucky Star {}\".format(k + 1)][i] == df[\"Lucky Star 2\"][i + j + 1],\n",
    "            ])):\n",
    "                rep_counts_ls[df[\"Lucky Star {}\".format(k + 1)][i]] += 1\n",
    "                total_reps_ls += 1\n",
    "print(rep_counts_ls)\n",
    "rep_averages_ls = {}\n",
    "for i in range(12):\n",
    "    rep_averages_ls[i + 1] = rep_counts_ls[i + 1] / total_reps_ls\n",
    "print(rep_averages_ls)\n",
    "rep_ave_ls = sum([rep_averages_ls[i + 1] for i in range(12)]) / 12.0\n",
    "rep_sd_ls = math.sqrt(sum([(rep_ave_ls - rep_averages_ls[i + 1])**2 for i in range(12)]) / 12.0)\n",
    "print(rep_ave_ls, rep_sd_ls)\n"
   ],
   "metadata": {
    "collapsed": false,
    "ExecuteTime": {
     "end_time": "2023-10-06T16:05:43.523517400Z",
     "start_time": "2023-10-06T16:05:43.489253600Z"
    }
   }
  },
  {
   "cell_type": "markdown",
   "source": [
    "We see that the s.d. here is also quite large it is generally apparent that balls repeat themselves in cycles of 10. The degree to which this is true is still unknown but is possible to evaluate it if a running average of this figure is kept and its variance evaluated over a longer period.\n",
    "\n",
    "Now we put together our findings and try to assign a weight to each of the evaluated probabilities in a way that the new guesses will get scores based on them. \n",
    "\n",
    "It is difficult to guess how much each probability would influence future events but this should be looked at and adjusted over time to monitor how the bias is shifting in the outcome distributions. Perhaps a GAN can be optimised to consider all of these factors in guessing of new numbers."
   ],
   "metadata": {
    "collapsed": false
   }
  },
  {
   "cell_type": "code",
   "execution_count": 11,
   "outputs": [],
   "source": [
    "from random import randint\n",
    "candidates = {}\n",
    "for i in range(0, 1000):\n",
    "    new_guess = []\n",
    "    while len(new_guess) < 5:\n",
    "        new_random = randint(1, 50)\n",
    "        if new_random not in new_guess:\n",
    "            new_guess.append(new_random)\n",
    "    if (str(new_guess) in candidates):\n",
    "        continue\n",
    "\n",
    "    new_guess.sort()\n",
    "    # print(new_guess)\n",
    "    score = 0\n",
    "    ave_score = 0\n",
    "    rep_score = 0\n",
    "    for j in range(len(new_guess)):\n",
    "        if abs(running_probabilities[new_guess[j]] - ave) < (1.75*sd):\n",
    "            ave_score += abs((abs(running_probabilities[new_guess[j]] - ave) - sd))\n",
    "        else:\n",
    "            ave_score += abs(running_probabilities[new_guess[j]] - ave)\n",
    "\n",
    "        if (rep_averages[new_guess[j]] - rep_ave) < (1.45*rep_sd):\n",
    "            rep_score += abs((abs(rep_averages[new_guess[j]] - rep_ave) - rep_sd))\n",
    "        else:\n",
    "            rep_score += abs(rep_averages[new_guess[j]] - rep_ave)\n",
    "    # print(ave_score)\n",
    "    # print(rep_score)\n",
    "\n",
    "    guess_ave_dv = sum([\n",
    "        new_guess[0],\n",
    "        new_guess[1] - new_guess[0],\n",
    "        new_guess[2] - new_guess[1],\n",
    "        new_guess[3] - new_guess[2],\n",
    "        new_guess[4] - new_guess[3],\n",
    "        50 - new_guess[4]\n",
    "    ]) / 6\n",
    "\n",
    "    guess_ddv = sum([\n",
    "        (guess_ave_dv - new_guess[0])**2,\n",
    "        (guess_ave_dv - (new_guess[1] - new_guess[0]))**2,\n",
    "        (guess_ave_dv - (new_guess[2] - new_guess[1]))**2,\n",
    "        (guess_ave_dv - (new_guess[3] - new_guess[2]))**2,\n",
    "        (guess_ave_dv - (new_guess[4] - new_guess[3]))**2,\n",
    "        (guess_ave_dv - (50 - new_guess[4]))**2\n",
    "    ])\n",
    "    guess_sd_dv = math.sqrt(guess_ddv / 6)\n",
    "    ddv_score = abs(sd_dv - guess_sd_dv) / (n / 5)\n",
    "    # print(ddv_score)\n",
    "\n",
    "    candidates[str(new_guess)] = ave_score + rep_score + ddv_score\n",
    "\n",
    "\n"
   ],
   "metadata": {
    "collapsed": false,
    "ExecuteTime": {
     "end_time": "2023-10-06T16:05:45.646833900Z",
     "start_time": "2023-10-06T16:05:45.636253700Z"
    }
   }
  },
  {
   "cell_type": "code",
   "execution_count": 12,
   "outputs": [],
   "source": [
    "candidates_ls = {}\n",
    "for i in range(0, 1000):\n",
    "    new_guess_ls = []\n",
    "    while len(new_guess_ls) < 2:\n",
    "        new_random = randint(1, 12)\n",
    "        if new_random not in new_guess_ls:\n",
    "            new_guess_ls.append(new_random)\n",
    "    if (str(new_guess_ls) in candidates_ls):\n",
    "        continue\n",
    "\n",
    "    new_guess_ls.sort()\n",
    "    # print(new_guess_ls)\n",
    "    score = 0\n",
    "    ave_score = 0\n",
    "    rep_score = 0\n",
    "    for j in range(len(new_guess_ls)):\n",
    "        if abs(running_probabilities_ls[new_guess_ls[j]] - ave_ls) < (sd_ls):\n",
    "            ave_score += abs((abs(running_probabilities_ls[new_guess_ls[j]] - ave_ls) - sd_ls))\n",
    "        else:\n",
    "            ave_score += abs(running_probabilities_ls[new_guess_ls[j]] - ave_ls)\n",
    "\n",
    "        if (rep_averages_ls[new_guess_ls[j]] - rep_ave_ls) < (2*rep_sd_ls):\n",
    "            rep_score += abs((abs(rep_averages_ls[new_guess_ls[j]] - rep_ave_ls) - rep_sd_ls))\n",
    "        else:\n",
    "            rep_score += abs(rep_averages_ls[new_guess_ls[j]] - rep_ave_ls)\n",
    "    # print(ave_score)\n",
    "    # print(rep_score)\n",
    "\n",
    "    guess_ave_dv = sum([\n",
    "        new_guess_ls[0],\n",
    "        new_guess_ls[1] - new_guess_ls[0],\n",
    "        12 - new_guess_ls[1]\n",
    "    ]) / 3\n",
    "\n",
    "    guess_ddv = sum([\n",
    "        (guess_ave_dv - new_guess_ls[0])**2,\n",
    "        (guess_ave_dv - (new_guess_ls[1] - new_guess_ls[0]))**2,\n",
    "        (guess_ave_dv - (12 - new_guess_ls[1]))**2\n",
    "    ])\n",
    "    guess_sd_dv = math.sqrt(guess_ddv / 3)\n",
    "    ddv_score = abs(sd_dv_ls - guess_sd_dv) / (n_ls / 2)\n",
    "    # print(ddv_score)\n",
    "\n",
    "    candidates_ls[str(new_guess_ls)] = ave_score + rep_score + ddv_score\n",
    "\n"
   ],
   "metadata": {
    "collapsed": false,
    "ExecuteTime": {
     "end_time": "2023-10-06T16:05:46.621304Z",
     "start_time": "2023-10-06T16:05:46.613541700Z"
    }
   }
  },
  {
   "cell_type": "markdown",
   "source": [
    "200th to 240th best guesses for the ball numbers:"
   ],
   "metadata": {
    "collapsed": false
   }
  },
  {
   "cell_type": "code",
   "execution_count": 13,
   "outputs": [
    {
     "name": "stdout",
     "output_type": "stream",
     "text": [
      "('[9, 13, 29, 49, 50]', 0.04564721331862864)\n",
      "('[1, 24, 27, 30, 41]', 0.04568386981862649)\n",
      "('[3, 20, 26, 39, 50]', 0.04570276199144559)\n",
      "('[8, 12, 26, 28, 46]', 0.0457058052934905)\n",
      "('[11, 30, 38, 45, 50]', 0.045795399038434575)\n",
      "('[3, 9, 17, 20, 25]', 0.04583971369103265)\n",
      "('[18, 22, 29, 45, 46]', 0.04594747044628069)\n",
      "('[4, 12, 22, 24, 29]', 0.04598175137491835)\n",
      "('[5, 9, 22, 38, 45]', 0.04600479141056466)\n",
      "('[5, 9, 17, 28, 45]', 0.046056372453571935)\n",
      "('[23, 26, 28, 43, 49]', 0.04608366356684283)\n",
      "('[1, 2, 12, 37, 39]', 0.04614364053494007)\n",
      "('[2, 19, 24, 25, 47]', 0.04616014068899912)\n",
      "('[20, 24, 26, 43, 46]', 0.046202414692968194)\n",
      "('[1, 7, 19, 32, 46]', 0.04621793230876897)\n",
      "('[3, 10, 16, 22, 38]', 0.04629720535201941)\n",
      "('[14, 22, 36, 44, 49]', 0.04638141231181668)\n",
      "('[7, 9, 12, 33, 44]', 0.046492182404691475)\n",
      "('[6, 7, 22, 25, 49]', 0.046613662754910676)\n",
      "('[6, 8, 22, 28, 31]', 0.04662070269822185)\n",
      "('[8, 26, 41, 42, 44]', 0.04676783944129877)\n",
      "('[23, 26, 28, 39, 47]', 0.04677244827258653)\n",
      "('[2, 6, 26, 27, 46]', 0.046869603754642046)\n",
      "('[14, 20, 41, 46, 47]', 0.04691379191439453)\n",
      "('[3, 7, 10, 19, 31]', 0.046979717796496914)\n",
      "('[1, 6, 10, 39, 43]', 0.04714848637208663)\n",
      "('[1, 5, 15, 45, 46]', 0.04716830276442846)\n",
      "('[22, 25, 32, 36, 39]', 0.04718228820220809)\n",
      "('[1, 5, 27, 49, 50]', 0.047204638123291225)\n",
      "('[6, 11, 29, 30, 49]', 0.047392377938992786)\n",
      "('[2, 9, 33, 41, 45]', 0.04742192688809015)\n",
      "('[3, 9, 13, 17, 27]', 0.04747158658345033)\n",
      "('[9, 16, 17, 26, 27]', 0.04774307759820667)\n",
      "('[2, 16, 25, 36, 38]', 0.04776146337776398)\n",
      "('[3, 13, 22, 25, 28]', 0.04776658344071061)\n",
      "('[6, 12, 23, 41, 42]', 0.04777949989311356)\n",
      "('[4, 8, 10, 22, 45]', 0.04783005554110774)\n",
      "('[7, 9, 11, 20, 30]', 0.04783926646436807)\n",
      "('[2, 12, 18, 36, 39]', 0.04799312057025894)\n",
      "('[1, 7, 15, 32, 45]', 0.04800321196061867)\n"
     ]
    }
   ],
   "source": [
    "for i in sorted(candidates.items(), key=lambda item: item[1])[200:240]:\n",
    "    print(i)"
   ],
   "metadata": {
    "collapsed": false,
    "ExecuteTime": {
     "end_time": "2023-10-06T16:05:50.600537400Z",
     "start_time": "2023-10-06T16:05:50.591721Z"
    }
   }
  },
  {
   "cell_type": "markdown",
   "source": [
    "top guesses for the lucky star numbers:"
   ],
   "metadata": {
    "collapsed": false
   }
  },
  {
   "cell_type": "code",
   "execution_count": 14,
   "outputs": [
    {
     "name": "stdout",
     "output_type": "stream",
     "text": [
      "('[9, 10]', 0.014778892080674389)\n",
      "('[9, 12]', 0.019562018785739092)\n",
      "('[10, 12]', 0.02507987286972782)\n",
      "('[8, 9]', 0.03171376416345163)\n",
      "('[8, 10]', 0.03317121136911059)\n",
      "('[8, 12]', 0.03944514448470868)\n",
      "('[4, 10]', 0.05107976326554557)\n",
      "('[4, 12]', 0.05170392779059914)\n",
      "('[6, 12]', 0.05181623953978101)\n",
      "('[5, 12]', 0.05218694589902152)\n",
      "('[6, 9]', 0.052897467776421195)\n",
      "('[4, 9]', 0.053721751246424435)\n",
      "('[6, 10]', 0.0537509007396673)\n",
      "('[1, 9]', 0.05452115134294384)\n",
      "('[5, 10]', 0.05472562134132066)\n",
      "('[7, 9]', 0.055906114243684246)\n",
      "('[5, 9]', 0.0560881964597296)\n",
      "('[7, 10]', 0.05803896006940027)\n",
      "('[2, 10]', 0.05876536127770291)\n",
      "('[2, 9]', 0.059198928851807234)\n",
      "('[7, 12]', 0.05986305268029524)\n",
      "('[1, 10]', 0.060251107082311836)\n",
      "('[9, 11]', 0.06590999329284793)\n",
      "('[2, 12]', 0.07120600477474937)\n",
      "('[10, 11]', 0.07204058533557475)\n",
      "('[1, 12]', 0.07219737660497794)\n",
      "('[6, 8]', 0.07428288273609651)\n",
      "('[7, 8]', 0.07687946344995879)\n",
      "('[1, 8]', 0.07738551532898166)\n",
      "('[5, 8]', 0.07875302428187485)\n",
      "('[11, 12]', 0.07998910864123004)\n",
      "('[4, 8]', 0.08116141287516457)\n",
      "('[4, 5]', 0.08146213997457552)\n",
      "('[2, 8]', 0.08494711186467666)\n",
      "('[8, 11]', 0.08497771120134119)\n",
      "('[5, 6]', 0.08582475606456796)\n",
      "('[4, 6]', 0.08654166604198696)\n",
      "('[1, 4]', 0.08944476247097953)\n",
      "('[2, 4]', 0.09155612658002259)\n",
      "('[1, 5]', 0.09201074384817728)\n",
      "('[6, 7]', 0.09350086284584168)\n",
      "('[1, 6]', 0.09400691472486455)\n",
      "('[2, 5]', 0.09648898519314811)\n",
      "('[4, 11]', 0.09743603067112422)\n",
      "('[5, 7]', 0.09755893863821923)\n",
      "('[4, 7]', 0.09868791436903902)\n",
      "('[2, 6]', 0.09987703264468883)\n",
      "('[1, 7]', 0.1013783292453217)\n",
      "('[5, 11]', 0.1014939545003001)\n",
      "('[6, 11]', 0.10179864676111666)\n",
      "('[7, 11]', 0.10747858266570309)\n",
      "('[2, 7]', 0.10852786002761593)\n",
      "('[1, 2]', 0.11037498520434419)\n",
      "('[2, 11]', 0.1141689710235855)\n",
      "('[1, 11]', 0.11537995451149619)\n",
      "('[3, 10]', 0.13757692038826466)\n",
      "('[3, 9]', 0.13980684261574275)\n",
      "('[3, 12]', 0.14406614222721806)\n",
      "('[3, 8]', 0.16596709138201296)\n",
      "('[3, 4]', 0.16847667091082105)\n",
      "('[3, 5]', 0.1727341309038895)\n",
      "('[3, 6]', 0.17740159121790017)\n",
      "('[1, 3]', 0.1826223846980748)\n",
      "('[2, 3]', 0.1854091474271749)\n",
      "('[3, 11]', 0.18681700682067492)\n",
      "('[3, 7]', 0.18826842668248228)\n"
     ]
    }
   ],
   "source": [
    "for i in sorted(candidates_ls.items(), key=lambda item: item[1]):\n",
    "    print(i)"
   ],
   "metadata": {
    "collapsed": false,
    "ExecuteTime": {
     "end_time": "2023-10-06T16:06:06.170922400Z",
     "start_time": "2023-10-06T16:06:06.167194500Z"
    }
   }
  },
  {
   "cell_type": "markdown",
   "source": [
    "# GAN timeseries generation\n",
    "\n",
    "In this section we will extract the data to be loaded into a neural net to make predictions and compare them to the existing ones we evaluated here. Eventually the idea is to use a GAN to enhance this prediction."
   ],
   "metadata": {
    "collapsed": false
   }
  },
  {
   "cell_type": "code",
   "execution_count": 15,
   "outputs": [],
   "source": [
    "df[[\"Lucky Star 1\", \"Lucky Star 2\", \"Ball 1\", \"Ball 2\", \"Ball 3\", \"Ball 4\", \"Ball 5\"]].to_csv(\"euromillions-dataset.csv\", index=None)"
   ],
   "metadata": {
    "collapsed": false,
    "ExecuteTime": {
     "end_time": "2023-10-06T16:06:31.126572300Z",
     "start_time": "2023-10-06T16:06:31.117116700Z"
    }
   }
  },
  {
   "cell_type": "code",
   "execution_count": null,
   "outputs": [],
   "source": [],
   "metadata": {
    "collapsed": false
   }
  }
 ],
 "metadata": {
  "kernelspec": {
   "display_name": "Python 3",
   "language": "python",
   "name": "python3"
  },
  "language_info": {
   "codemirror_mode": {
    "name": "ipython",
    "version": 2
   },
   "file_extension": ".py",
   "mimetype": "text/x-python",
   "name": "python",
   "nbconvert_exporter": "python",
   "pygments_lexer": "ipython2",
   "version": "2.7.6"
  }
 },
 "nbformat": 4,
 "nbformat_minor": 0
}
