{
 "cells": [
  {
   "cell_type": "markdown",
   "source": [
    "# Euro-millions Number analysis\n",
    "Read out the historic data to base our new numbers with and perform some data exploration."
   ],
   "metadata": {
    "collapsed": false
   }
  },
  {
   "cell_type": "code",
   "execution_count": 1,
   "metadata": {
    "collapsed": true,
    "ExecuteTime": {
     "end_time": "2023-10-16T08:25:39.460462200Z",
     "start_time": "2023-10-16T08:25:38.950860600Z"
    }
   },
   "outputs": [
    {
     "data": {
      "text/plain": "              DrawDate  Ball 1  Ball 2  Ball 3  Ball 4  Ball 5  Lucky Star 1  \\\n0  2023-10-13 00:00:00      21      26      28      40      41             2   \n1  2023-10-10 00:00:00      18      20      22      33      43             3   \n2  2023-10-06 00:00:00      21      29      31      34      43             2   \n3  2023-10-03 00:00:00       6      20      22      24      45             4   \n4  2023-09-29 00:00:00       9      11      13      21      32             2   \n\n   Lucky Star 2  \n0             4  \n1             9  \n2             9  \n3             5  \n4             7  ",
      "text/html": "<div>\n<style scoped>\n    .dataframe tbody tr th:only-of-type {\n        vertical-align: middle;\n    }\n\n    .dataframe tbody tr th {\n        vertical-align: top;\n    }\n\n    .dataframe thead th {\n        text-align: right;\n    }\n</style>\n<table border=\"1\" class=\"dataframe\">\n  <thead>\n    <tr style=\"text-align: right;\">\n      <th></th>\n      <th>DrawDate</th>\n      <th>Ball 1</th>\n      <th>Ball 2</th>\n      <th>Ball 3</th>\n      <th>Ball 4</th>\n      <th>Ball 5</th>\n      <th>Lucky Star 1</th>\n      <th>Lucky Star 2</th>\n    </tr>\n  </thead>\n  <tbody>\n    <tr>\n      <th>0</th>\n      <td>2023-10-13 00:00:00</td>\n      <td>21</td>\n      <td>26</td>\n      <td>28</td>\n      <td>40</td>\n      <td>41</td>\n      <td>2</td>\n      <td>4</td>\n    </tr>\n    <tr>\n      <th>1</th>\n      <td>2023-10-10 00:00:00</td>\n      <td>18</td>\n      <td>20</td>\n      <td>22</td>\n      <td>33</td>\n      <td>43</td>\n      <td>3</td>\n      <td>9</td>\n    </tr>\n    <tr>\n      <th>2</th>\n      <td>2023-10-06 00:00:00</td>\n      <td>21</td>\n      <td>29</td>\n      <td>31</td>\n      <td>34</td>\n      <td>43</td>\n      <td>2</td>\n      <td>9</td>\n    </tr>\n    <tr>\n      <th>3</th>\n      <td>2023-10-03 00:00:00</td>\n      <td>6</td>\n      <td>20</td>\n      <td>22</td>\n      <td>24</td>\n      <td>45</td>\n      <td>4</td>\n      <td>5</td>\n    </tr>\n    <tr>\n      <th>4</th>\n      <td>2023-09-29 00:00:00</td>\n      <td>9</td>\n      <td>11</td>\n      <td>13</td>\n      <td>21</td>\n      <td>32</td>\n      <td>2</td>\n      <td>7</td>\n    </tr>\n  </tbody>\n</table>\n</div>"
     },
     "execution_count": 1,
     "metadata": {},
     "output_type": "execute_result"
    }
   ],
   "source": [
    "import pandas as pd\n",
    "\n",
    "df = pd.read_excel(\"lottery-numbers-tracker.xlsx\", sheet_name=\"EuroMillions\", header=0)\n",
    "\n",
    "df.head()\n"
   ]
  },
  {
   "cell_type": "code",
   "execution_count": 2,
   "outputs": [],
   "source": [
    "# write out the data to a csv file for training a neural network\n",
    "df[[\"Lucky Star 1\", \"Lucky Star 2\", \"Ball 1\", \"Ball 2\", \"Ball 3\", \"Ball 4\", \"Ball 5\"]].to_csv(\"euromillions-dataset.csv\", index=None)"
   ],
   "metadata": {
    "collapsed": false,
    "ExecuteTime": {
     "end_time": "2023-10-16T08:25:40.672970100Z",
     "start_time": "2023-10-16T08:25:40.649335300Z"
    }
   }
  },
  {
   "cell_type": "markdown",
   "source": [
    "The probability for each ball to be drawn given that there is no bias is:"
   ],
   "metadata": {
    "collapsed": false
   }
  },
  {
   "cell_type": "code",
   "execution_count": 3,
   "outputs": [
    {
     "name": "stdout",
     "output_type": "stream",
     "text": [
      "{1: 0.02, 2: 0.02, 3: 0.02, 4: 0.02, 5: 0.02, 6: 0.02, 7: 0.02, 8: 0.02, 9: 0.02, 10: 0.02, 11: 0.02, 12: 0.02, 13: 0.02, 14: 0.02, 15: 0.02, 16: 0.02, 17: 0.02, 18: 0.02, 19: 0.02, 20: 0.02, 21: 0.02, 22: 0.02, 23: 0.02, 24: 0.02, 25: 0.02, 26: 0.02, 27: 0.02, 28: 0.02, 29: 0.02, 30: 0.02, 31: 0.02, 32: 0.02, 33: 0.02, 34: 0.02, 35: 0.02, 36: 0.02, 37: 0.02, 38: 0.02, 39: 0.02, 40: 0.02, 41: 0.02, 42: 0.02, 43: 0.02, 44: 0.02, 45: 0.02, 46: 0.02, 47: 0.02, 48: 0.02, 49: 0.02, 50: 0.02}\n",
      "{1: 0.08333333333333333, 2: 0.08333333333333333, 3: 0.08333333333333333, 4: 0.08333333333333333, 5: 0.08333333333333333, 6: 0.08333333333333333, 7: 0.08333333333333333, 8: 0.08333333333333333, 9: 0.08333333333333333, 10: 0.08333333333333333, 11: 0.08333333333333333, 12: 0.08333333333333333}\n"
     ]
    }
   ],
   "source": [
    "probabilities = {i+1: 1/50 for i in range(50)}\n",
    "print(probabilities)\n",
    "probabilities_ls = {i+1: 1/12 for i in range(12)}\n",
    "print(probabilities_ls)"
   ],
   "metadata": {
    "collapsed": false,
    "ExecuteTime": {
     "end_time": "2023-10-16T08:25:43.064899500Z",
     "start_time": "2023-10-16T08:25:43.058246300Z"
    }
   }
  },
  {
   "cell_type": "markdown",
   "source": [
    "Now we sum the number of occurrences for each ball using numpy's unique function:"
   ],
   "metadata": {
    "collapsed": false
   }
  },
  {
   "cell_type": "code",
   "execution_count": 4,
   "outputs": [
    {
     "name": "stdout",
     "output_type": "stream",
     "text": [
      "[ 1  2  3  4  5  6  7  8  9 10 11 12 13 14 15 16 17 18 19 20 21 22 23 24\n",
      " 25 26 27 28 29 30 31 32 33 34 35 36 37 38 39 40 41 42 43 44 45 46 47 48\n",
      " 49 50] 50\n",
      "{1: 10, 2: 14, 3: 19, 4: 9, 5: 14, 6: 19, 7: 16, 8: 14, 9: 16, 10: 20, 11: 19, 12: 18, 13: 20, 14: 16, 15: 14, 16: 17, 17: 21, 18: 16, 19: 20, 20: 16, 21: 28, 22: 11, 23: 22, 24: 20, 25: 22, 26: 18, 27: 19, 28: 17, 29: 19, 30: 9, 31: 19, 32: 18, 33: 18, 34: 28, 35: 27, 36: 17, 37: 17, 38: 16, 39: 11, 40: 17, 41: 13, 42: 19, 43: 17, 44: 20, 45: 20, 46: 12, 47: 18, 48: 24, 49: 12, 50: 14}\n"
     ]
    }
   ],
   "source": [
    "import numpy as np\n",
    "n = df.shape[0] * 5\n",
    "occurrences = np.concatenate([df[\"Ball 1\"], df[\"Ball 2\"], df[\"Ball 3\"], df[\"Ball 4\"], df[\"Ball 5\"]])\n",
    "\n",
    "unique, counts = np.unique(occurrences, return_counts=True)\n",
    "print(unique, len(unique))\n",
    "running_counts = dict(zip(unique, counts))\n",
    "print(running_counts)\n"
   ],
   "metadata": {
    "collapsed": false,
    "ExecuteTime": {
     "end_time": "2023-10-16T08:25:44.517257800Z",
     "start_time": "2023-10-16T08:25:44.501376700Z"
    }
   }
  },
  {
   "cell_type": "markdown",
   "source": [
    "Same unique counts for the lucky star balls:"
   ],
   "metadata": {
    "collapsed": false
   }
  },
  {
   "cell_type": "code",
   "execution_count": 5,
   "outputs": [
    {
     "name": "stdout",
     "output_type": "stream",
     "text": [
      "[ 1  2  3  4  5  6  7  8  9 10 11 12] 12\n",
      "{1: 21, 2: 33, 3: 40, 4: 20, 5: 26, 6: 31, 7: 28, 8: 26, 9: 24, 10: 35, 11: 40, 12: 24}\n"
     ]
    }
   ],
   "source": [
    "n_ls = df.shape[0] * 2\n",
    "occurrences_ls = np.concatenate([df[\"Lucky Star 1\"], df[\"Lucky Star 2\"]])\n",
    "\n",
    "unique_ls, counts_ls = np.unique(occurrences_ls, return_counts=True)\n",
    "print(unique_ls, len(unique_ls))\n",
    "running_counts_ls = dict(zip(unique_ls, counts_ls))\n",
    "print(running_counts_ls)\n"
   ],
   "metadata": {
    "collapsed": false,
    "ExecuteTime": {
     "end_time": "2023-10-16T08:25:45.539690100Z",
     "start_time": "2023-10-16T08:25:45.522054400Z"
    }
   }
  },
  {
   "cell_type": "markdown",
   "source": [
    "Now we calculate the probability of each number and how it deviates from the raw unbiased probabilities calculated previously. It turns out the standard deviation is around a quarter of the mean, and by using the central limit theorem, we get the s.d. of the true distribution as "
   ],
   "metadata": {
    "collapsed": false
   }
  },
  {
   "cell_type": "code",
   "execution_count": 6,
   "outputs": [
    {
     "name": "stdout",
     "output_type": "stream",
     "text": [
      "{1: 0.011494252873563218, 2: 0.016091954022988506, 3: 0.021839080459770115, 4: 0.010344827586206896, 5: 0.016091954022988506, 6: 0.021839080459770115, 7: 0.01839080459770115, 8: 0.016091954022988506, 9: 0.01839080459770115, 10: 0.022988505747126436, 11: 0.021839080459770115, 12: 0.020689655172413793, 13: 0.022988505747126436, 14: 0.01839080459770115, 15: 0.016091954022988506, 16: 0.01954022988505747, 17: 0.02413793103448276, 18: 0.01839080459770115, 19: 0.022988505747126436, 20: 0.01839080459770115, 21: 0.03218390804597701, 22: 0.01264367816091954, 23: 0.02528735632183908, 24: 0.022988505747126436, 25: 0.02528735632183908, 26: 0.020689655172413793, 27: 0.021839080459770115, 28: 0.01954022988505747, 29: 0.021839080459770115, 30: 0.010344827586206896, 31: 0.021839080459770115, 32: 0.020689655172413793, 33: 0.020689655172413793, 34: 0.03218390804597701, 35: 0.03103448275862069, 36: 0.01954022988505747, 37: 0.01954022988505747, 38: 0.01839080459770115, 39: 0.01264367816091954, 40: 0.01954022988505747, 41: 0.014942528735632184, 42: 0.021839080459770115, 43: 0.01954022988505747, 44: 0.022988505747126436, 45: 0.022988505747126436, 46: 0.013793103448275862, 47: 0.020689655172413793, 48: 0.027586206896551724, 49: 0.013793103448275862, 50: 0.016091954022988506}\n",
      "0.02 0.004882013926803517\n",
      "s.d. of the true distribution 0.00037010452066347057\n"
     ]
    }
   ],
   "source": [
    "import math\n",
    "running_probabilities = {i+1: (running_counts[i + 1] / n) for i in range(50)}\n",
    "print(running_probabilities)\n",
    "ave = sum([running_probabilities[i + 1] for i in range(50)]) / 50.0\n",
    "sd = math.sqrt(sum([(ave - running_probabilities[i + 1])**2 for i in range(50)]) / 50.0)\n",
    "print(ave, sd)\n",
    "print(\"s.d. of the true distribution\", sd/math.sqrt(len(df[0:])))"
   ],
   "metadata": {
    "collapsed": false,
    "ExecuteTime": {
     "end_time": "2023-10-16T08:25:46.643926600Z",
     "start_time": "2023-10-16T08:25:46.624019800Z"
    }
   }
  },
  {
   "cell_type": "markdown",
   "source": [
    "This suggests there is an inherent bias in the sample of around 4 in 10000, and is consistent with why the probability of a win is a few order of magnitudes larger than it is supposed to be from a purely theoretical evaluation.\n",
    "Same calculation for the lucky star balls suggests a much larger bias here:"
   ],
   "metadata": {
    "collapsed": false
   }
  },
  {
   "cell_type": "code",
   "execution_count": 7,
   "outputs": [
    {
     "name": "stdout",
     "output_type": "stream",
     "text": [
      "{1: 0.0603448275862069, 2: 0.09482758620689655, 3: 0.11494252873563218, 4: 0.05747126436781609, 5: 0.07471264367816093, 6: 0.08908045977011494, 7: 0.08045977011494253, 8: 0.07471264367816093, 9: 0.06896551724137931, 10: 0.10057471264367816, 11: 0.11494252873563218, 12: 0.06896551724137931}\n",
      "0.08333333333333333 0.018770036343166114\n",
      "s.d. of the true distribution 0.0014229527829659144\n"
     ]
    }
   ],
   "source": [
    "running_probabilities_ls = {i+1: (running_counts_ls[i + 1] / n_ls) for i in range(12)}\n",
    "print(running_probabilities_ls)\n",
    "ave_ls = sum([running_probabilities_ls[i + 1] for i in range(12)]) / 12.0\n",
    "sd_ls = math.sqrt(sum([(ave_ls - running_probabilities_ls[i + 1])**2 for i in range(12)]) / 12.0)\n",
    "print(ave_ls, sd_ls)\n",
    "print(\"s.d. of the true distribution\", sd_ls/math.sqrt(len(df[0:])))\n"
   ],
   "metadata": {
    "collapsed": false,
    "ExecuteTime": {
     "end_time": "2023-10-16T08:25:48.342081500Z",
     "start_time": "2023-10-16T08:25:48.338049400Z"
    }
   }
  },
  {
   "cell_type": "markdown",
   "source": [
    "Now we evaluate how far apart each ball is compared to the truly unbiased mid-points of a perfectly unbiased distribution. ave_dv below is what the separation is supposed to be in a non-biased distribution but sd_dv is how that figure deviates from the ideal case, square rooted to accommodate the deviation in either direction. And it turns out the numbers tend to be less spread out from each other than the non-biased case, by around a quarter."
   ],
   "metadata": {
    "collapsed": false
   }
  },
  {
   "cell_type": "code",
   "execution_count": 8,
   "outputs": [
    {
     "name": "stdout",
     "output_type": "stream",
     "text": [
      "8.333333333333334 6.405517257879819\n"
     ]
    }
   ],
   "source": [
    "dv = 0\n",
    "ddv = 0\n",
    "for i in range(int(n / 5)):\n",
    "    dv += sum([\n",
    "        df[\"Ball 1\"][i],\n",
    "        df[\"Ball 2\"][i] - df[\"Ball 1\"][i],\n",
    "        df[\"Ball 3\"][i] - df[\"Ball 2\"][i],\n",
    "        df[\"Ball 4\"][i] - df[\"Ball 3\"][i],\n",
    "        df[\"Ball 5\"][i] - df[\"Ball 4\"][i],\n",
    "        50 - df[\"Ball 5\"][i]\n",
    "    ])\n",
    "ave_dv = dv / (n * 6 / 5)\n",
    "\n",
    "for i in range(int(n / 5)):\n",
    "    ddv += sum([\n",
    "        (ave_dv - df[\"Ball 1\"][i])**2,\n",
    "        (ave_dv - (df[\"Ball 2\"][i] - df[\"Ball 1\"][i]))**2,\n",
    "        (ave_dv - (df[\"Ball 3\"][i] - df[\"Ball 2\"][i]))**2,\n",
    "        (ave_dv - (df[\"Ball 4\"][i] - df[\"Ball 3\"][i]))**2,\n",
    "        (ave_dv - (df[\"Ball 5\"][i] - df[\"Ball 4\"][i]))**2,\n",
    "        (ave_dv - (50 - df[\"Ball 5\"][i]))**2\n",
    "    ])\n",
    "sd_dv = math.sqrt(ddv / (n * 6 / 5))\n",
    "print(ave_dv, sd_dv)\n"
   ],
   "metadata": {
    "collapsed": false,
    "ExecuteTime": {
     "end_time": "2023-10-16T08:25:49.547505Z",
     "start_time": "2023-10-16T08:25:49.513191900Z"
    }
   }
  },
  {
   "cell_type": "markdown",
   "source": [
    "Repeat the same for lucky star balls, and it turns out there is even more bias, around a third: "
   ],
   "metadata": {
    "collapsed": false
   }
  },
  {
   "cell_type": "code",
   "execution_count": 9,
   "outputs": [
    {
     "name": "stdout",
     "output_type": "stream",
     "text": [
      "4.0 2.7058897021977395\n"
     ]
    }
   ],
   "source": [
    "dv_ls = 0\n",
    "ddv_ls = 0\n",
    "for i in range(int(n_ls / 2)):\n",
    "    dv_ls += sum([\n",
    "        df[\"Lucky Star 1\"][i],\n",
    "        df[\"Lucky Star 2\"][i] - df[\"Lucky Star 1\"][i],\n",
    "        12 - df[\"Lucky Star 2\"][i]\n",
    "    ])\n",
    "ave_dv_ls = dv_ls / (n_ls * 3 / 2)\n",
    "\n",
    "for i in range(int(n_ls / 2)):\n",
    "    ddv_ls += sum([\n",
    "        (ave_dv_ls - df[\"Lucky Star 1\"][i])**2,\n",
    "        (ave_dv_ls - (df[\"Lucky Star 2\"][i] - df[\"Lucky Star 1\"][i]))**2,\n",
    "        (ave_dv_ls - (12 - df[\"Lucky Star 2\"][i]))**2\n",
    "    ])\n",
    "sd_dv_ls = math.sqrt(ddv_ls / (n_ls * 3 / 2))\n",
    "print(ave_dv_ls, sd_dv_ls)"
   ],
   "metadata": {
    "collapsed": false,
    "ExecuteTime": {
     "end_time": "2023-10-16T08:25:51.425759400Z",
     "start_time": "2023-10-16T08:25:51.417241400Z"
    }
   }
  },
  {
   "cell_type": "markdown",
   "source": [
    "One way to make sense of this is to consider the case for lucky star balls. In a situation where there is no bias and there are infinite samples to choose from, the average probability of getting the two balls will be 4 and 8, 4 representing the smaller ball values and 8 the bigger ones. In this case the average outcome of the balls are perfectly and evenly skewed, and the distance between each draw and its neighbour is 4. that is to say 0-4, 4-8, 8-12 all have neighbouring distances of 4. \n",
    "\n",
    "Now consider our case where this figure is closer to 2.71, this means it is more likely to get a neighbouring average figure of 2.71, so it is more likely to get numbers like 0-2, 2-4, 4-12, which would give `sqrt((4-2)**2 + (4-2)**2 + (4-8)**2 / 3) ~ 2.82`\n",
    "\n",
    "Now we look at repetitions in the past 10 draws for each ball:"
   ],
   "metadata": {
    "collapsed": false
   }
  },
  {
   "cell_type": "code",
   "execution_count": 10,
   "outputs": [
    {
     "name": "stdout",
     "output_type": "stream",
     "text": [
      "{1: 7, 2: 8, 3: 14, 4: 4, 5: 10, 6: 12, 7: 12, 8: 13, 9: 10, 10: 27, 11: 23, 12: 12, 13: 16, 14: 11, 15: 7, 16: 22, 17: 24, 18: 17, 19: 22, 20: 15, 21: 49, 22: 6, 23: 24, 24: 23, 25: 20, 26: 14, 27: 19, 28: 22, 29: 13, 30: 4, 31: 16, 32: 16, 33: 15, 34: 37, 35: 51, 36: 14, 37: 15, 38: 8, 39: 6, 40: 16, 41: 13, 42: 18, 43: 16, 44: 22, 45: 17, 46: 9, 47: 16, 48: 36, 49: 6, 50: 11}\n",
      "{1: 0.008353221957040573, 2: 0.00954653937947494, 3: 0.016706443914081145, 4: 0.00477326968973747, 5: 0.011933174224343675, 6: 0.014319809069212411, 7: 0.014319809069212411, 8: 0.015513126491646777, 9: 0.011933174224343675, 10: 0.032219570405727926, 11: 0.027446300715990454, 12: 0.014319809069212411, 13: 0.01909307875894988, 14: 0.013126491646778043, 15: 0.008353221957040573, 16: 0.026252983293556086, 17: 0.028639618138424822, 18: 0.02028639618138425, 19: 0.026252983293556086, 20: 0.017899761336515514, 21: 0.05847255369928401, 22: 0.007159904534606206, 23: 0.028639618138424822, 24: 0.027446300715990454, 25: 0.02386634844868735, 26: 0.016706443914081145, 27: 0.022673031026252982, 28: 0.026252983293556086, 29: 0.015513126491646777, 30: 0.00477326968973747, 31: 0.01909307875894988, 32: 0.01909307875894988, 33: 0.017899761336515514, 34: 0.0441527446300716, 35: 0.060859188544152745, 36: 0.016706443914081145, 37: 0.017899761336515514, 38: 0.00954653937947494, 39: 0.007159904534606206, 40: 0.01909307875894988, 41: 0.015513126491646777, 42: 0.021479713603818614, 43: 0.01909307875894988, 44: 0.026252983293556086, 45: 0.02028639618138425, 46: 0.010739856801909307, 47: 0.01909307875894988, 48: 0.04295942720763723, 49: 0.007159904534606206, 50: 0.013126491646778043}\n",
      "0.019999999999999993 0.011676377739648119\n"
     ]
    }
   ],
   "source": [
    "rep_counts = {i+1: 0 for i in range(50)}\n",
    "total_reps = 0\n",
    "for i in range(int(n / 5) - 10):\n",
    "    for j in range(10):\n",
    "        for k in range(5):\n",
    "            if (any([\n",
    "                df[\"Ball {}\".format(k + 1)][i] == df[\"Ball 1\"][i + j + 1],\n",
    "                df[\"Ball {}\".format(k + 1)][i] == df[\"Ball 2\"][i + j + 1],\n",
    "                df[\"Ball {}\".format(k + 1)][i] == df[\"Ball 3\"][i + j + 1],\n",
    "                df[\"Ball {}\".format(k + 1)][i] == df[\"Ball 4\"][i + j + 1],\n",
    "                df[\"Ball {}\".format(k + 1)][i] == df[\"Ball 5\"][i + j + 1]\n",
    "            ])):\n",
    "                rep_counts[df[\"Ball {}\".format(k + 1)][i]] += 1\n",
    "                total_reps += 1\n",
    "print(rep_counts)\n",
    "rep_averages = {}\n",
    "for i in range(50):\n",
    "    rep_averages[i + 1] = rep_counts[i + 1] / total_reps\n",
    "print(rep_averages)\n",
    "rep_ave = sum([rep_averages[i + 1] for i in range(50)]) / 50.0\n",
    "rep_sd = math.sqrt(sum([(rep_ave - rep_averages[i + 1])**2 for i in range(50)]) / 50.0)\n",
    "print(rep_ave, rep_sd)"
   ],
   "metadata": {
    "collapsed": false,
    "ExecuteTime": {
     "end_time": "2023-10-16T08:25:53.122830500Z",
     "start_time": "2023-10-16T08:25:52.923906400Z"
    }
   }
  },
  {
   "cell_type": "markdown",
   "source": [
    "Now the probability of a repetition for each ball is 0.2 * 1/10 attempts so roughly 0.02 which is very close to the average evaluated. However, the standard deviation is very large here, showing a tendency of numbers to repeat themselves in these smaller cycles. \n",
    "\n",
    "Repeating the same operation for lucky star numbers:"
   ],
   "metadata": {
    "collapsed": false
   }
  },
  {
   "cell_type": "code",
   "execution_count": 11,
   "outputs": [
    {
     "name": "stdout",
     "output_type": "stream",
     "text": [
      "{1: 36, 2: 50, 3: 100, 4: 17, 5: 37, 6: 54, 7: 38, 8: 29, 9: 24, 10: 67, 11: 83, 12: 23}\n",
      "{1: 0.06451612903225806, 2: 0.08960573476702509, 3: 0.17921146953405018, 4: 0.03046594982078853, 5: 0.06630824372759857, 6: 0.0967741935483871, 7: 0.06810035842293907, 8: 0.05197132616487455, 9: 0.043010752688172046, 10: 0.12007168458781362, 11: 0.14874551971326164, 12: 0.04121863799283154}\n",
      "0.08333333333333333 0.04387022102112418\n"
     ]
    }
   ],
   "source": [
    "rep_counts_ls = {i+1: 0 for i in range(12)}\n",
    "total_reps_ls = 0\n",
    "for i in range(int(n / 5) - 10):\n",
    "    for j in range(10):\n",
    "        for k in range(2):\n",
    "            if (any([\n",
    "                df[\"Lucky Star {}\".format(k + 1)][i] == df[\"Lucky Star 1\"][i + j + 1],\n",
    "                df[\"Lucky Star {}\".format(k + 1)][i] == df[\"Lucky Star 2\"][i + j + 1],\n",
    "            ])):\n",
    "                rep_counts_ls[df[\"Lucky Star {}\".format(k + 1)][i]] += 1\n",
    "                total_reps_ls += 1\n",
    "print(rep_counts_ls)\n",
    "rep_averages_ls = {}\n",
    "for i in range(12):\n",
    "    rep_averages_ls[i + 1] = rep_counts_ls[i + 1] / total_reps_ls\n",
    "print(rep_averages_ls)\n",
    "rep_ave_ls = sum([rep_averages_ls[i + 1] for i in range(12)]) / 12.0\n",
    "rep_sd_ls = math.sqrt(sum([(rep_ave_ls - rep_averages_ls[i + 1])**2 for i in range(12)]) / 12.0)\n",
    "print(rep_ave_ls, rep_sd_ls)\n"
   ],
   "metadata": {
    "collapsed": false,
    "ExecuteTime": {
     "end_time": "2023-10-16T08:25:54.696132300Z",
     "start_time": "2023-10-16T08:25:54.660461100Z"
    }
   }
  },
  {
   "cell_type": "markdown",
   "source": [
    "We see that the s.d. here is also quite large it is generally apparent that balls repeat themselves in cycles of 10. The degree to which this is true is still unknown but is possible to evaluate it if a running average of this figure is kept and its variance evaluated over a longer period.\n",
    "\n",
    "Now we put together our findings and try to assign a weight to each of the evaluated probabilities in a way that the new guesses will get scores based on them. \n",
    "\n",
    "It is difficult to guess how much each probability would influence future events but this should be looked at and adjusted over time to monitor how the bias is shifting in the outcome distributions. Perhaps a GAN can be optimised to consider all of these factors in guessing of new numbers."
   ],
   "metadata": {
    "collapsed": false
   }
  },
  {
   "cell_type": "code",
   "execution_count": 12,
   "outputs": [],
   "source": [
    "from random import randint\n",
    "candidates = {}\n",
    "for i in range(0, 1000):\n",
    "    new_guess = []\n",
    "    while len(new_guess) < 5:\n",
    "        new_random = randint(1, 50)\n",
    "        if new_random not in new_guess:\n",
    "            new_guess.append(new_random)\n",
    "    if (str(new_guess) in candidates):\n",
    "        continue\n",
    "\n",
    "    new_guess.sort()\n",
    "    # print(new_guess)\n",
    "    score = 0\n",
    "    ave_score = 0\n",
    "    rep_score = 0\n",
    "    for j in range(len(new_guess)):\n",
    "        if abs(running_probabilities[new_guess[j]] - ave) < (1.75*sd):\n",
    "            ave_score += abs((abs(running_probabilities[new_guess[j]] - ave) - sd))\n",
    "        else:\n",
    "            ave_score += abs(running_probabilities[new_guess[j]] - ave)\n",
    "\n",
    "        if (rep_averages[new_guess[j]] - rep_ave) < (1.45*rep_sd):\n",
    "            rep_score += abs((abs(rep_averages[new_guess[j]] - rep_ave) - rep_sd))\n",
    "        else:\n",
    "            rep_score += abs(rep_averages[new_guess[j]] - rep_ave)\n",
    "    # print(ave_score)\n",
    "    # print(rep_score)\n",
    "\n",
    "    guess_ave_dv = sum([\n",
    "        new_guess[0],\n",
    "        new_guess[1] - new_guess[0],\n",
    "        new_guess[2] - new_guess[1],\n",
    "        new_guess[3] - new_guess[2],\n",
    "        new_guess[4] - new_guess[3],\n",
    "        50 - new_guess[4]\n",
    "    ]) / 6\n",
    "\n",
    "    guess_ddv = sum([\n",
    "        (guess_ave_dv - new_guess[0])**2,\n",
    "        (guess_ave_dv - (new_guess[1] - new_guess[0]))**2,\n",
    "        (guess_ave_dv - (new_guess[2] - new_guess[1]))**2,\n",
    "        (guess_ave_dv - (new_guess[3] - new_guess[2]))**2,\n",
    "        (guess_ave_dv - (new_guess[4] - new_guess[3]))**2,\n",
    "        (guess_ave_dv - (50 - new_guess[4]))**2\n",
    "    ])\n",
    "    guess_sd_dv = math.sqrt(guess_ddv / 6)\n",
    "    ddv_score = abs(sd_dv - guess_sd_dv) / (n / 5)\n",
    "    # print(ddv_score)\n",
    "\n",
    "    candidates[str(new_guess)] = ave_score + rep_score + ddv_score\n",
    "\n",
    "\n"
   ],
   "metadata": {
    "collapsed": false,
    "ExecuteTime": {
     "end_time": "2023-10-16T08:25:56.158050900Z",
     "start_time": "2023-10-16T08:25:56.156536500Z"
    }
   }
  },
  {
   "cell_type": "code",
   "execution_count": 13,
   "outputs": [],
   "source": [
    "candidates_ls = {}\n",
    "for i in range(0, 1000):\n",
    "    new_guess_ls = []\n",
    "    while len(new_guess_ls) < 2:\n",
    "        new_random = randint(1, 12)\n",
    "        if new_random not in new_guess_ls:\n",
    "            new_guess_ls.append(new_random)\n",
    "    if (str(new_guess_ls) in candidates_ls):\n",
    "        continue\n",
    "\n",
    "    new_guess_ls.sort()\n",
    "    # print(new_guess_ls)\n",
    "    score = 0\n",
    "    ave_score = 0\n",
    "    rep_score = 0\n",
    "    for j in range(len(new_guess_ls)):\n",
    "        if abs(running_probabilities_ls[new_guess_ls[j]] - ave_ls) < (sd_ls):\n",
    "            ave_score += abs((abs(running_probabilities_ls[new_guess_ls[j]] - ave_ls) - sd_ls))\n",
    "        else:\n",
    "            ave_score += abs(running_probabilities_ls[new_guess_ls[j]] - ave_ls)\n",
    "\n",
    "        if (rep_averages_ls[new_guess_ls[j]] - rep_ave_ls) < (2*rep_sd_ls):\n",
    "            rep_score += abs((abs(rep_averages_ls[new_guess_ls[j]] - rep_ave_ls) - rep_sd_ls))\n",
    "        else:\n",
    "            rep_score += abs(rep_averages_ls[new_guess_ls[j]] - rep_ave_ls)\n",
    "    # print(ave_score)\n",
    "    # print(rep_score)\n",
    "\n",
    "    guess_ave_dv = sum([\n",
    "        new_guess_ls[0],\n",
    "        new_guess_ls[1] - new_guess_ls[0],\n",
    "        12 - new_guess_ls[1]\n",
    "    ]) / 3\n",
    "\n",
    "    guess_ddv = sum([\n",
    "        (guess_ave_dv - new_guess_ls[0])**2,\n",
    "        (guess_ave_dv - (new_guess_ls[1] - new_guess_ls[0]))**2,\n",
    "        (guess_ave_dv - (12 - new_guess_ls[1]))**2\n",
    "    ])\n",
    "    guess_sd_dv = math.sqrt(guess_ddv / 3)\n",
    "    ddv_score = abs(sd_dv_ls - guess_sd_dv) / (n_ls / 2)\n",
    "    # print(ddv_score)\n",
    "\n",
    "    candidates_ls[str(new_guess_ls)] = ave_score + rep_score + ddv_score\n",
    "\n"
   ],
   "metadata": {
    "collapsed": false,
    "ExecuteTime": {
     "end_time": "2023-10-16T08:25:56.945218900Z",
     "start_time": "2023-10-16T08:25:56.933467100Z"
    }
   }
  },
  {
   "cell_type": "markdown",
   "source": [
    "200th to 240th best guesses for the ball numbers:"
   ],
   "metadata": {
    "collapsed": false
   }
  },
  {
   "cell_type": "code",
   "execution_count": 14,
   "outputs": [
    {
     "name": "stdout",
     "output_type": "stream",
     "text": [
      "('[14, 20, 22, 28, 30]', 0.04858420057910213)\n",
      "('[1, 12, 37, 39, 44]', 0.04863243012888356)\n",
      "('[12, 24, 27, 41, 50]', 0.04888385023121399)\n",
      "('[11, 24, 43, 45, 50]', 0.04890926511065989)\n",
      "('[7, 9, 22, 29, 44]', 0.04895484395960152)\n",
      "('[3, 17, 20, 46, 49]', 0.04905399354061182)\n",
      "('[9, 14, 22, 29, 31]', 0.04910369380080541)\n",
      "('[14, 19, 31, 33, 50]', 0.04911478728442667)\n",
      "('[15, 19, 42, 46, 47]', 0.049146466022765616)\n",
      "('[9, 10, 13, 14, 30]', 0.04915777962811295)\n",
      "('[11, 14, 15, 18, 25]', 0.0491855325636643)\n",
      "('[1, 6, 7, 16, 23]', 0.04926537988853577)\n",
      "('[7, 25, 31, 47, 49]', 0.049277904649908395)\n",
      "('[1, 20, 23, 24, 43]', 0.0492919539606823)\n",
      "('[3, 11, 13, 28, 49]', 0.049331922983637165)\n",
      "('[12, 16, 29, 39, 50]', 0.04940258822922929)\n",
      "('[6, 22, 36, 40, 49]', 0.04944445518839116)\n",
      "('[17, 22, 30, 41, 42]', 0.0495632109588092)\n",
      "('[11, 16, 20, 22, 27]', 0.049702060125736865)\n",
      "('[6, 8, 22, 29, 38]', 0.04971513666194079)\n",
      "('[15, 25, 29, 41, 42]', 0.049777039937984366)\n",
      "('[10, 14, 28, 37, 38]', 0.0498211382865372)\n",
      "('[3, 9, 17, 19, 43]', 0.049842679518841033)\n",
      "('[1, 10, 30, 37, 45]', 0.04993433284108503)\n",
      "('[3, 22, 36, 42, 44]', 0.05001878603689495)\n",
      "('[6, 15, 22, 31, 32]', 0.05002621044791625)\n",
      "('[9, 12, 28, 36, 50]', 0.050027675937728)\n",
      "('[1, 9, 13, 16, 24]', 0.05005533869361116)\n",
      "('[10, 12, 23, 29, 45]', 0.050129717551951676)\n",
      "('[4, 13, 17, 38, 45]', 0.05013364941303402)\n",
      "('[9, 22, 37, 39, 40]', 0.050176236631877674)\n",
      "('[1, 23, 26, 33, 50]', 0.050218663446509514)\n",
      "('[9, 20, 24, 42, 46]', 0.050219268440963534)\n",
      "('[4, 15, 19, 20, 31]', 0.0502528497701264)\n",
      "('[3, 4, 6, 23, 36]', 0.05030058712511274)\n",
      "('[3, 12, 14, 17, 25]', 0.050328097911974345)\n",
      "('[10, 17, 23, 33, 38]', 0.050401344327157704)\n",
      "('[2, 5, 20, 36, 47]', 0.0504256679860277)\n",
      "('[10, 26, 37, 39, 44]', 0.05051163411610866)\n",
      "('[15, 17, 31, 48, 49]', 0.050528845014507974)\n"
     ]
    }
   ],
   "source": [
    "for i in sorted(candidates.items(), key=lambda item: item[1])[200:240]:\n",
    "    print(i)"
   ],
   "metadata": {
    "collapsed": false,
    "ExecuteTime": {
     "end_time": "2023-10-16T08:25:58.592239100Z",
     "start_time": "2023-10-16T08:25:58.574866200Z"
    }
   }
  },
  {
   "cell_type": "markdown",
   "source": [
    "top guesses for the lucky star numbers:"
   ],
   "metadata": {
    "collapsed": false
   }
  },
  {
   "cell_type": "code",
   "execution_count": 15,
   "outputs": [
    {
     "name": "stdout",
     "output_type": "stream",
     "text": [
      "('[9, 12]', 0.020060294401401443)\n",
      "('[9, 10]', 0.021513470080736126)\n",
      "('[10, 12]', 0.0240976066206148)\n",
      "('[8, 9]', 0.03197541304472036)\n",
      "('[8, 10]', 0.032022325400747564)\n",
      "('[8, 12]', 0.03203425257314397)\n",
      "('[4, 12]', 0.044235923489422714)\n",
      "('[5, 12]', 0.04452021591210387)\n",
      "('[4, 10]', 0.049685830327335714)\n",
      "('[6, 12]', 0.05031425470491268)\n",
      "('[7, 12]', 0.05205945704422598)\n",
      "('[5, 10]', 0.053078430993794536)\n",
      "('[4, 9]', 0.053667673240837065)\n",
      "('[2, 10]', 0.05423836791712377)\n",
      "('[7, 9]', 0.055619458039280534)\n",
      "('[5, 9]', 0.05580291988728234)\n",
      "('[2, 9]', 0.05595934186081061)\n",
      "('[7, 10]', 0.056330124211570715)\n",
      "('[1, 9]', 0.057359374971236596)\n",
      "('[6, 10]', 0.05827886958285277)\n",
      "('[6, 9]', 0.05882555743057614)\n",
      "('[2, 12]', 0.060310682878184946)\n",
      "('[1, 10]', 0.06160513192073648)\n",
      "('[9, 11]', 0.06600410404237393)\n",
      "('[1, 12]', 0.06719159659663075)\n",
      "('[7, 8]', 0.06866484276130551)\n",
      "('[5, 8]', 0.07051061980076645)\n",
      "('[10, 11]', 0.07064358977276095)\n",
      "('[1, 8]', 0.07217264599297561)\n",
      "('[6, 8]', 0.07227590332404671)\n",
      "('[11, 12]', 0.07230123489055838)\n",
      "('[4, 8]', 0.07306788224011271)\n",
      "('[4, 5]', 0.07332727254546215)\n",
      "('[2, 8]', 0.07369723566862711)\n",
      "('[8, 11]', 0.07717671317864834)\n",
      "('[2, 4]', 0.08043707257459645)\n",
      "('[5, 6]', 0.08358262699243835)\n",
      "('[1, 4]', 0.08426874580099945)\n",
      "('[4, 6]', 0.08447757424032545)\n",
      "('[2, 5]', 0.08500395933701874)\n",
      "('[1, 5]', 0.08650956355569964)\n",
      "('[5, 7]', 0.08895162342983459)\n",
      "('[4, 11]', 0.089483955203182)\n",
      "('[4, 7]', 0.09025153184916732)\n",
      "('[6, 7]', 0.09112186812456044)\n",
      "('[5, 11]', 0.0932815170410864)\n",
      "('[2, 6]', 0.0944919458404229)\n",
      "('[1, 6]', 0.09462967135623056)\n",
      "('[1, 7]', 0.09571111987928088)\n",
      "('[2, 7]', 0.09683074838348679)\n",
      "('[7, 11]', 0.09915844298174938)\n",
      "('[6, 11]', 0.09973930965015819)\n",
      "('[1, 2]', 0.10174702773640346)\n",
      "('[2, 11]', 0.10292784647223426)\n",
      "('[1, 11]', 0.11002458544047111)\n",
      "('[3, 10]', 0.13928373657908116)\n",
      "('[3, 12]', 0.13959776537724214)\n",
      "('[3, 9]', 0.14286061832113692)\n",
      "('[3, 8]', 0.16100347330039905)\n",
      "('[3, 4]', 0.1637145549368398)\n",
      "('[3, 5]', 0.16761768788299913)\n",
      "('[2, 3]', 0.177264017314147)\n",
      "('[3, 6]', 0.17836302840641685)\n",
      "('[1, 3]', 0.180431936724287)\n",
      "('[3, 11]', 0.18200648424100496)\n",
      "('[3, 7]', 0.18287963199524515)\n"
     ]
    }
   ],
   "source": [
    "for i in sorted(candidates_ls.items(), key=lambda item: item[1]):\n",
    "    print(i)"
   ],
   "metadata": {
    "collapsed": false,
    "ExecuteTime": {
     "end_time": "2023-10-16T08:25:59.710112100Z",
     "start_time": "2023-10-16T08:25:59.699733600Z"
    }
   }
  },
  {
   "cell_type": "markdown",
   "source": [
    "# GAN timeseries generation\n",
    "\n",
    "In this section we will extract the data to be loaded into a neural net to make predictions and compare them to the existing ones we evaluated here. Eventually the idea is to use a GAN to enhance this prediction."
   ],
   "metadata": {
    "collapsed": false
   }
  },
  {
   "cell_type": "code",
   "execution_count": null,
   "outputs": [],
   "source": [],
   "metadata": {
    "collapsed": false
   }
  }
 ],
 "metadata": {
  "kernelspec": {
   "display_name": "Python 3",
   "language": "python",
   "name": "python3"
  },
  "language_info": {
   "codemirror_mode": {
    "name": "ipython",
    "version": 2
   },
   "file_extension": ".py",
   "mimetype": "text/x-python",
   "name": "python",
   "nbconvert_exporter": "python",
   "pygments_lexer": "ipython2",
   "version": "2.7.6"
  }
 },
 "nbformat": 4,
 "nbformat_minor": 0
}
