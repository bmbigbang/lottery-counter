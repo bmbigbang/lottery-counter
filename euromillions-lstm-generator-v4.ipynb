{
 "cells": [
  {
   "cell_type": "code",
   "source": [
    "import pandas as pd\n",
    "import tensorflow as tf\n",
    "import numpy as np\n",
    "from tensorflow import float64\n",
    "\n",
    "print(\"Num GPUs Available: \", len(tf.config.list_physical_devices('GPU')))\n",
    "\n",
    "labels = [\"Lucky Star 1\", \"Lucky Star 2\", \"Ball 1\", \"Ball 2\", \"Ball 3\", \"Ball 4\", \"Ball 5\"]\n",
    "column_labels = [\"Lucky Star 1\", \"Lucky Star 2\", \"Ball 1\", \"Ball 2\", \"Ball 3\", \"Ball 4\", \"Ball 5\", \"Ball Delta\", \"Ball Y Delta\", \"LS Delta\", \"LS Y Delta\",\n",
    "    \"Ball 1 Repeat Last 5\", \"Ball 2 Repeat Last 5\", \"Ball 3 Repeat Last 5\", \"Ball 4 Repeat Last 5\", \"Ball 5 Repeat Last 5\", \"Lucky Star 1 Repeat Last 5\", \"Lucky Star 2 Repeat Last 5\",\n",
    "    \"Ball 1 Repeat Last 10\", \"Ball 2 Repeat Last 10\", \"Ball 3 Repeat Last 10\", \"Ball 4 Repeat Last 10\", \"Ball 5 Repeat Last 10\", \"Lucky Star 1 Repeat Last 10\", \"Lucky Star 2 Repeat Last 10\",\n",
    "    \"Ball 1 Repeat Last 20\", \"Ball 2 Repeat Last 20\", \"Ball 3 Repeat Last 20\", \"Ball 4 Repeat Last 20\", \"Ball 5 Repeat Last 20\", \"Lucky Star 1 Repeat Last 20\", \"Lucky Star 2 Repeat Last 20\",\n",
    "     \"Digit 0 Freq\", \"Digit 1 Freq\", \"Digit 2 Freq\", \"Digit 3 Freq\", \"Digit 4 Freq\", \"Digit 5 Freq\", \"Digit 6 Freq\", \"Digit 7 Freq\", \"Digit 8 Freq\", \"Digit 9 Freq\"\n",
    "]\n",
    "column_indices = {name: i for i, name in enumerate(column_labels)}\n",
    "digit_indices = {}\n",
    "\n",
    "\n",
    "df1 = pd.read_excel(\"lottery-numbers-tracker.xlsx\", sheet_name=\"EuroMillions\", header=0)\n",
    "df2 = pd.read_excel(\"lottery-numbers-tracker.xlsx\", sheet_name=\"EuroMillions digit analysis\", header=0)\n",
    "\n",
    "pd.concat([df1, df2], axis=1)[column_labels].to_csv(\"euromillions-dataset.csv\", index=None)"
   ],
   "metadata": {
    "collapsed": false,
    "ExecuteTime": {
     "end_time": "2025-04-14T19:34:30.682382Z",
     "start_time": "2025-04-14T19:34:27.941790Z"
    }
   },
   "outputs": [
    {
     "name": "stdout",
     "output_type": "stream",
     "text": [
      "Num GPUs Available:  0\n"
     ]
    }
   ],
   "execution_count": 1
  },
  {
   "cell_type": "code",
   "source": [
    "df = pd.read_csv('euromillions-dataset.csv')\n",
    "df"
   ],
   "metadata": {
    "collapsed": false,
    "ExecuteTime": {
     "end_time": "2025-04-14T19:34:30.710710Z",
     "start_time": "2025-04-14T19:34:30.693497Z"
    }
   },
   "outputs": [
    {
     "data": {
      "text/plain": [
       "     Lucky Star 1  Lucky Star 2  Ball 1  Ball 2  Ball 3  Ball 4  Ball 5  \\\n",
       "0               3             8      14      28      34      46      49   \n",
       "1               1             7       3      14      15      48      49   \n",
       "2               5             7      27      39      41      45      50   \n",
       "3               4            12       9      24      30      46      49   \n",
       "4               1             9      10      21      30      42      45   \n",
       "..            ...           ...     ...     ...     ...     ...     ...   \n",
       "325             6             9       1      19      36      38      49   \n",
       "326             9            10      10      25      29      34      45   \n",
       "327             2             4       6      16      18      39      47   \n",
       "328             7            12       5      14      35      36      39   \n",
       "329             2             5       3      12      19      24      30   \n",
       "\n",
       "     Ball Delta  Ball Y Delta  LS Delta  ...  Digit 0 Freq  Digit 1 Freq  \\\n",
       "0      4.905354      5.223026         5  ...             0             1   \n",
       "1      8.703448      8.687923         6  ...             0             3   \n",
       "2      3.436932      5.184593         2  ...             1             1   \n",
       "3      5.733672      1.296148         8  ...             1             1   \n",
       "4      4.710361      5.332917         8  ...             2             3   \n",
       "..          ...           ...       ...  ...           ...           ...   \n",
       "325    6.791539      2.814249         3  ...             0             2   \n",
       "326    4.918079      3.143247         1  ...             2             2   \n",
       "327    6.169481      3.831449         2  ...             0             2   \n",
       "328    5.766281      4.422669         5  ...             0             2   \n",
       "329    3.455069      8.921883         3  ...             1             2   \n",
       "\n",
       "     Digit 2 Freq  Digit 3 Freq  Digit 4 Freq  Digit 5 Freq  Digit 6 Freq  \\\n",
       "0               1             2             4             0             1   \n",
       "1               0             1             3             1             0   \n",
       "2               1             1             2             3             0   \n",
       "3               2             1             4             0             1   \n",
       "4               2             1             2             1             0   \n",
       "..            ...           ...           ...           ...           ...   \n",
       "325             0             2             1             0             2   \n",
       "326             2             1             2             2             0   \n",
       "327             1             1             2             0             2   \n",
       "328             1             3             1             2             1   \n",
       "329             3             2             1             1             0   \n",
       "\n",
       "     Digit 7 Freq  Digit 8 Freq  Digit 9 Freq  \n",
       "0               0             2             1  \n",
       "1               1             1             1  \n",
       "2               2             0             1  \n",
       "3               0             0             2  \n",
       "4               0             0             1  \n",
       "..            ...           ...           ...  \n",
       "325             0             1             3  \n",
       "326             0             0             2  \n",
       "327             1             1             1  \n",
       "328             1             0             1  \n",
       "329             0             0             1  \n",
       "\n",
       "[330 rows x 42 columns]"
      ],
      "text/html": [
       "<div>\n",
       "<style scoped>\n",
       "    .dataframe tbody tr th:only-of-type {\n",
       "        vertical-align: middle;\n",
       "    }\n",
       "\n",
       "    .dataframe tbody tr th {\n",
       "        vertical-align: top;\n",
       "    }\n",
       "\n",
       "    .dataframe thead th {\n",
       "        text-align: right;\n",
       "    }\n",
       "</style>\n",
       "<table border=\"1\" class=\"dataframe\">\n",
       "  <thead>\n",
       "    <tr style=\"text-align: right;\">\n",
       "      <th></th>\n",
       "      <th>Lucky Star 1</th>\n",
       "      <th>Lucky Star 2</th>\n",
       "      <th>Ball 1</th>\n",
       "      <th>Ball 2</th>\n",
       "      <th>Ball 3</th>\n",
       "      <th>Ball 4</th>\n",
       "      <th>Ball 5</th>\n",
       "      <th>Ball Delta</th>\n",
       "      <th>Ball Y Delta</th>\n",
       "      <th>LS Delta</th>\n",
       "      <th>...</th>\n",
       "      <th>Digit 0 Freq</th>\n",
       "      <th>Digit 1 Freq</th>\n",
       "      <th>Digit 2 Freq</th>\n",
       "      <th>Digit 3 Freq</th>\n",
       "      <th>Digit 4 Freq</th>\n",
       "      <th>Digit 5 Freq</th>\n",
       "      <th>Digit 6 Freq</th>\n",
       "      <th>Digit 7 Freq</th>\n",
       "      <th>Digit 8 Freq</th>\n",
       "      <th>Digit 9 Freq</th>\n",
       "    </tr>\n",
       "  </thead>\n",
       "  <tbody>\n",
       "    <tr>\n",
       "      <th>0</th>\n",
       "      <td>3</td>\n",
       "      <td>8</td>\n",
       "      <td>14</td>\n",
       "      <td>28</td>\n",
       "      <td>34</td>\n",
       "      <td>46</td>\n",
       "      <td>49</td>\n",
       "      <td>4.905354</td>\n",
       "      <td>5.223026</td>\n",
       "      <td>5</td>\n",
       "      <td>...</td>\n",
       "      <td>0</td>\n",
       "      <td>1</td>\n",
       "      <td>1</td>\n",
       "      <td>2</td>\n",
       "      <td>4</td>\n",
       "      <td>0</td>\n",
       "      <td>1</td>\n",
       "      <td>0</td>\n",
       "      <td>2</td>\n",
       "      <td>1</td>\n",
       "    </tr>\n",
       "    <tr>\n",
       "      <th>1</th>\n",
       "      <td>1</td>\n",
       "      <td>7</td>\n",
       "      <td>3</td>\n",
       "      <td>14</td>\n",
       "      <td>15</td>\n",
       "      <td>48</td>\n",
       "      <td>49</td>\n",
       "      <td>8.703448</td>\n",
       "      <td>8.687923</td>\n",
       "      <td>6</td>\n",
       "      <td>...</td>\n",
       "      <td>0</td>\n",
       "      <td>3</td>\n",
       "      <td>0</td>\n",
       "      <td>1</td>\n",
       "      <td>3</td>\n",
       "      <td>1</td>\n",
       "      <td>0</td>\n",
       "      <td>1</td>\n",
       "      <td>1</td>\n",
       "      <td>1</td>\n",
       "    </tr>\n",
       "    <tr>\n",
       "      <th>2</th>\n",
       "      <td>5</td>\n",
       "      <td>7</td>\n",
       "      <td>27</td>\n",
       "      <td>39</td>\n",
       "      <td>41</td>\n",
       "      <td>45</td>\n",
       "      <td>50</td>\n",
       "      <td>3.436932</td>\n",
       "      <td>5.184593</td>\n",
       "      <td>2</td>\n",
       "      <td>...</td>\n",
       "      <td>1</td>\n",
       "      <td>1</td>\n",
       "      <td>1</td>\n",
       "      <td>1</td>\n",
       "      <td>2</td>\n",
       "      <td>3</td>\n",
       "      <td>0</td>\n",
       "      <td>2</td>\n",
       "      <td>0</td>\n",
       "      <td>1</td>\n",
       "    </tr>\n",
       "    <tr>\n",
       "      <th>3</th>\n",
       "      <td>4</td>\n",
       "      <td>12</td>\n",
       "      <td>9</td>\n",
       "      <td>24</td>\n",
       "      <td>30</td>\n",
       "      <td>46</td>\n",
       "      <td>49</td>\n",
       "      <td>5.733672</td>\n",
       "      <td>1.296148</td>\n",
       "      <td>8</td>\n",
       "      <td>...</td>\n",
       "      <td>1</td>\n",
       "      <td>1</td>\n",
       "      <td>2</td>\n",
       "      <td>1</td>\n",
       "      <td>4</td>\n",
       "      <td>0</td>\n",
       "      <td>1</td>\n",
       "      <td>0</td>\n",
       "      <td>0</td>\n",
       "      <td>2</td>\n",
       "    </tr>\n",
       "    <tr>\n",
       "      <th>4</th>\n",
       "      <td>1</td>\n",
       "      <td>9</td>\n",
       "      <td>10</td>\n",
       "      <td>21</td>\n",
       "      <td>30</td>\n",
       "      <td>42</td>\n",
       "      <td>45</td>\n",
       "      <td>4.710361</td>\n",
       "      <td>5.332917</td>\n",
       "      <td>8</td>\n",
       "      <td>...</td>\n",
       "      <td>2</td>\n",
       "      <td>3</td>\n",
       "      <td>2</td>\n",
       "      <td>1</td>\n",
       "      <td>2</td>\n",
       "      <td>1</td>\n",
       "      <td>0</td>\n",
       "      <td>0</td>\n",
       "      <td>0</td>\n",
       "      <td>1</td>\n",
       "    </tr>\n",
       "    <tr>\n",
       "      <th>...</th>\n",
       "      <td>...</td>\n",
       "      <td>...</td>\n",
       "      <td>...</td>\n",
       "      <td>...</td>\n",
       "      <td>...</td>\n",
       "      <td>...</td>\n",
       "      <td>...</td>\n",
       "      <td>...</td>\n",
       "      <td>...</td>\n",
       "      <td>...</td>\n",
       "      <td>...</td>\n",
       "      <td>...</td>\n",
       "      <td>...</td>\n",
       "      <td>...</td>\n",
       "      <td>...</td>\n",
       "      <td>...</td>\n",
       "      <td>...</td>\n",
       "      <td>...</td>\n",
       "      <td>...</td>\n",
       "      <td>...</td>\n",
       "      <td>...</td>\n",
       "    </tr>\n",
       "    <tr>\n",
       "      <th>325</th>\n",
       "      <td>6</td>\n",
       "      <td>9</td>\n",
       "      <td>1</td>\n",
       "      <td>19</td>\n",
       "      <td>36</td>\n",
       "      <td>38</td>\n",
       "      <td>49</td>\n",
       "      <td>6.791539</td>\n",
       "      <td>2.814249</td>\n",
       "      <td>3</td>\n",
       "      <td>...</td>\n",
       "      <td>0</td>\n",
       "      <td>2</td>\n",
       "      <td>0</td>\n",
       "      <td>2</td>\n",
       "      <td>1</td>\n",
       "      <td>0</td>\n",
       "      <td>2</td>\n",
       "      <td>0</td>\n",
       "      <td>1</td>\n",
       "      <td>3</td>\n",
       "    </tr>\n",
       "    <tr>\n",
       "      <th>326</th>\n",
       "      <td>9</td>\n",
       "      <td>10</td>\n",
       "      <td>10</td>\n",
       "      <td>25</td>\n",
       "      <td>29</td>\n",
       "      <td>34</td>\n",
       "      <td>45</td>\n",
       "      <td>4.918079</td>\n",
       "      <td>3.143247</td>\n",
       "      <td>1</td>\n",
       "      <td>...</td>\n",
       "      <td>2</td>\n",
       "      <td>2</td>\n",
       "      <td>2</td>\n",
       "      <td>1</td>\n",
       "      <td>2</td>\n",
       "      <td>2</td>\n",
       "      <td>0</td>\n",
       "      <td>0</td>\n",
       "      <td>0</td>\n",
       "      <td>2</td>\n",
       "    </tr>\n",
       "    <tr>\n",
       "      <th>327</th>\n",
       "      <td>2</td>\n",
       "      <td>4</td>\n",
       "      <td>6</td>\n",
       "      <td>16</td>\n",
       "      <td>18</td>\n",
       "      <td>39</td>\n",
       "      <td>47</td>\n",
       "      <td>6.169481</td>\n",
       "      <td>3.831449</td>\n",
       "      <td>2</td>\n",
       "      <td>...</td>\n",
       "      <td>0</td>\n",
       "      <td>2</td>\n",
       "      <td>1</td>\n",
       "      <td>1</td>\n",
       "      <td>2</td>\n",
       "      <td>0</td>\n",
       "      <td>2</td>\n",
       "      <td>1</td>\n",
       "      <td>1</td>\n",
       "      <td>1</td>\n",
       "    </tr>\n",
       "    <tr>\n",
       "      <th>328</th>\n",
       "      <td>7</td>\n",
       "      <td>12</td>\n",
       "      <td>5</td>\n",
       "      <td>14</td>\n",
       "      <td>35</td>\n",
       "      <td>36</td>\n",
       "      <td>39</td>\n",
       "      <td>5.766281</td>\n",
       "      <td>4.422669</td>\n",
       "      <td>5</td>\n",
       "      <td>...</td>\n",
       "      <td>0</td>\n",
       "      <td>2</td>\n",
       "      <td>1</td>\n",
       "      <td>3</td>\n",
       "      <td>1</td>\n",
       "      <td>2</td>\n",
       "      <td>1</td>\n",
       "      <td>1</td>\n",
       "      <td>0</td>\n",
       "      <td>1</td>\n",
       "    </tr>\n",
       "    <tr>\n",
       "      <th>329</th>\n",
       "      <td>2</td>\n",
       "      <td>5</td>\n",
       "      <td>3</td>\n",
       "      <td>12</td>\n",
       "      <td>19</td>\n",
       "      <td>24</td>\n",
       "      <td>30</td>\n",
       "      <td>3.455069</td>\n",
       "      <td>8.921883</td>\n",
       "      <td>3</td>\n",
       "      <td>...</td>\n",
       "      <td>1</td>\n",
       "      <td>2</td>\n",
       "      <td>3</td>\n",
       "      <td>2</td>\n",
       "      <td>1</td>\n",
       "      <td>1</td>\n",
       "      <td>0</td>\n",
       "      <td>0</td>\n",
       "      <td>0</td>\n",
       "      <td>1</td>\n",
       "    </tr>\n",
       "  </tbody>\n",
       "</table>\n",
       "<p>330 rows × 42 columns</p>\n",
       "</div>"
      ]
     },
     "execution_count": 2,
     "metadata": {},
     "output_type": "execute_result"
    }
   ],
   "execution_count": 2
  },
  {
   "cell_type": "code",
   "source": [
    "import numpy as np\n",
    "import pandas as pd\n",
    "import tensorflow as tf\n",
    "from sklearn.preprocessing import MinMaxScaler\n",
    "from sklearn.model_selection import train_test_split\n",
    "\n",
    "# --- 1. Data Preparation ---\n",
    "\n",
    "def create_sequences(data, seq_length, pred_cols):\n",
    "    xs = []\n",
    "    ys = []\n",
    "    for i in range(len(data) - seq_length):\n",
    "        x = data[i:(i + seq_length)].values[::-1]\n",
    "        y = data.iloc[i + seq_length, :pred_cols].values\n",
    "        xs.append(x)\n",
    "        ys.append(y)\n",
    "    return np.array(xs), np.array(ys)\n",
    "\n",
    "# --- 2. Load and Preprocess Data ---\n",
    "\n",
    "# Parameters\n",
    "seq_length = 7  # Number of past rows to look at\n",
    "pred_cols = 42  # Number of columns to predict\n",
    "ball_cols = 7 # Numbers of columns that represent ball numbers\n",
    "all_cols = 42\n",
    "random_seed_length = 7 # Length of random seed"
   ],
   "metadata": {
    "collapsed": false,
    "ExecuteTime": {
     "end_time": "2025-04-14T19:34:31.540484Z",
     "start_time": "2025-04-14T19:34:30.940849Z"
    }
   },
   "outputs": [],
   "execution_count": 3
  },
  {
   "metadata": {
    "ExecuteTime": {
     "end_time": "2025-04-14T19:34:31.571173Z",
     "start_time": "2025-04-14T19:34:31.564436Z"
    }
   },
   "cell_type": "code",
   "source": [
    "max_values = np.concatenate(([12, 12, 50, 50, 50, 50, 50], np.zeros(all_cols - ball_cols)))\n",
    "min_values = np.concatenate(([1, 1, 1, 1, 1, 1, 1], np.zeros(all_cols - ball_cols)))\n",
    "\n",
    "# Scale the data\n",
    "scaler = MinMaxScaler()\n",
    "scaled_df = df[::-1]\n",
    "scaled_df = pd.concat([scaled_df, pd.DataFrame([max_values], columns=df.columns)], ignore_index=True)\n",
    "scaled_df = pd.concat([scaled_df, pd.DataFrame([min_values], columns=df.columns)], ignore_index=True)\n",
    "scaled_df.shape"
   ],
   "outputs": [
    {
     "data": {
      "text/plain": [
       "(332, 42)"
      ]
     },
     "execution_count": 4,
     "metadata": {},
     "output_type": "execute_result"
    }
   ],
   "execution_count": 4
  },
  {
   "metadata": {
    "ExecuteTime": {
     "end_time": "2025-04-14T19:34:31.702049Z",
     "start_time": "2025-04-14T19:34:31.604477Z"
    }
   },
   "cell_type": "code",
   "source": [
    "# Scale the data\n",
    "scaled_df = pd.DataFrame(scaler.fit_transform(scaled_df), columns=df.columns)\n",
    "scaled_df = scaled_df.iloc[:-2]\n",
    "\n",
    "# Create sequences\n",
    "X, y = create_sequences(scaled_df, seq_length, pred_cols)\n",
    "\n",
    "# Split into training, validation, and test sets\n",
    "X_train, X_val, y_train, y_val = train_test_split(X, y, test_size=0.1)\n",
    "\n",
    "# Input for the sequence\n",
    "sequence_input = tf.keras.layers.Input(shape=(seq_length, all_cols))\n",
    "\n",
    "# Input for the random seed\n",
    "random_seed_input = tf.keras.layers.Input(shape=(random_seed_length,))\n",
    "\n",
    "scaled_df.shape"
   ],
   "outputs": [
    {
     "data": {
      "text/plain": [
       "(330, 42)"
      ]
     },
     "execution_count": 5,
     "metadata": {},
     "output_type": "execute_result"
    }
   ],
   "execution_count": 5
  },
  {
   "metadata": {
    "ExecuteTime": {
     "end_time": "2025-04-14T19:34:31.710740Z",
     "start_time": "2025-04-14T19:34:31.706561Z"
    }
   },
   "cell_type": "code",
   "source": "scaler.inverse_transform([np.concatenate((y[-1], np.zeros(all_cols - pred_cols)))])",
   "outputs": [
    {
     "data": {
      "text/plain": [
       "array([[ 3.        ,  8.        , 14.        , 28.        , 34.        ,\n",
       "        46.        , 49.        ,  4.90535422,  5.22302594,  5.        ,\n",
       "         1.58113883,  1.        ,  0.        ,  0.        ,  1.        ,\n",
       "         2.        ,  0.        ,  0.        ,  1.        ,  0.        ,\n",
       "         0.        ,  2.        ,  3.        ,  1.        ,  2.        ,\n",
       "         3.        ,  0.        ,  0.        ,  4.        ,  4.        ,\n",
       "         2.        ,  3.        ,  0.        ,  1.        ,  1.        ,\n",
       "         2.        ,  4.        ,  0.        ,  1.        ,  0.        ,\n",
       "         2.        ,  1.        ]])"
      ]
     },
     "execution_count": 6,
     "metadata": {},
     "output_type": "execute_result"
    }
   ],
   "execution_count": 6
  },
  {
   "metadata": {
    "ExecuteTime": {
     "end_time": "2025-04-14T19:34:31.735676Z",
     "start_time": "2025-04-14T19:34:31.731372Z"
    }
   },
   "cell_type": "code",
   "source": "scaler.inverse_transform(X[-1])",
   "outputs": [
    {
     "data": {
      "text/plain": [
       "array([[ 1.        ,  7.        ,  3.        , 14.        , 15.        ,\n",
       "        48.        , 49.        ,  8.70344759,  8.68792265,  6.        ,\n",
       "         2.82842712,  1.        ,  0.        ,  0.        ,  0.        ,\n",
       "         1.        ,  1.        ,  1.        ,  1.        ,  0.        ,\n",
       "         1.        ,  1.        ,  2.        ,  1.        ,  2.        ,\n",
       "         4.        ,  2.        ,  1.        ,  1.        ,  4.        ,\n",
       "         3.        ,  4.        ,  0.        ,  3.        ,  0.        ,\n",
       "         1.        ,  3.        ,  1.        ,  0.        ,  1.        ,\n",
       "         1.        ,  1.        ],\n",
       "       [ 5.        ,  7.        , 27.        , 39.        , 41.        ,\n",
       "        45.        , 50.        ,  3.43693177,  5.18459256,  2.        ,\n",
       "         3.60555128,  0.        ,  0.        ,  0.        ,  1.        ,\n",
       "         2.        ,  1.        ,  0.        ,  1.        ,  0.        ,\n",
       "         0.        ,  1.        ,  2.        ,  2.        ,  1.        ,\n",
       "         1.        ,  1.        ,  3.        ,  2.        ,  2.        ,\n",
       "         4.        ,  3.        ,  1.        ,  1.        ,  1.        ,\n",
       "         1.        ,  2.        ,  3.        ,  0.        ,  2.        ,\n",
       "         0.        ,  1.        ],\n",
       "       [ 4.        , 12.        ,  9.        , 24.        , 30.        ,\n",
       "        46.        , 49.        ,  5.73367247,  1.29614814,  8.        ,\n",
       "         3.        ,  2.        ,  0.        ,  1.        ,  1.        ,\n",
       "         1.        ,  0.        ,  1.        ,  2.        ,  1.        ,\n",
       "         1.        ,  2.        ,  1.        ,  0.        ,  1.        ,\n",
       "         3.        ,  2.        ,  3.        ,  3.        ,  4.        ,\n",
       "         1.        ,  1.        ,  1.        ,  1.        ,  2.        ,\n",
       "         1.        ,  4.        ,  0.        ,  1.        ,  0.        ,\n",
       "         0.        ,  2.        ],\n",
       "       [ 1.        ,  9.        , 10.        , 21.        , 30.        ,\n",
       "        42.        , 45.        ,  4.71036092,  5.33291665,  8.        ,\n",
       "         2.23606798,  1.        ,  1.        ,  0.        ,  1.        ,\n",
       "         0.        ,  0.        ,  1.        ,  2.        ,  1.        ,\n",
       "         0.        ,  2.        ,  0.        ,  0.        ,  3.        ,\n",
       "         3.        ,  2.        ,  2.        ,  4.        ,  1.        ,\n",
       "         2.        ,  4.        ,  2.        ,  3.        ,  2.        ,\n",
       "         1.        ,  2.        ,  1.        ,  0.        ,  0.        ,\n",
       "         0.        ,  1.        ],\n",
       "       [ 2.        ,  6.        ,  1.        ,  3.        , 18.        ,\n",
       "        33.        , 36.        ,  5.3793587 ,  4.89897949,  4.        ,\n",
       "         4.74341649,  0.        ,  0.        ,  1.        ,  1.        ,\n",
       "         1.        ,  1.        ,  0.        ,  1.        ,  1.        ,\n",
       "         1.        ,  1.        ,  1.        ,  3.        ,  1.        ,\n",
       "         1.        ,  3.        ,  2.        ,  1.        ,  3.        ,\n",
       "         4.        ,  3.        ,  0.        ,  2.        ,  1.        ,\n",
       "         4.        ,  0.        ,  0.        ,  2.        ,  0.        ,\n",
       "         1.        ,  0.        ],\n",
       "       [ 5.        , 12.        ,  9.        , 17.        , 18.        ,\n",
       "        21.        , 50.        ,  7.56224173,  6.33403505,  7.        ,\n",
       "         2.23606798,  1.        ,  0.        ,  0.        ,  0.        ,\n",
       "         1.        ,  0.        ,  0.        ,  1.        ,  1.        ,\n",
       "         0.        ,  0.        ,  1.        ,  2.        ,  0.        ,\n",
       "         2.        ,  1.        ,  1.        ,  1.        ,  1.        ,\n",
       "         5.        ,  0.        ,  1.        ,  4.        ,  2.        ,\n",
       "         0.        ,  0.        ,  2.        ,  0.        ,  1.        ,\n",
       "         1.        ,  1.        ],\n",
       "       [ 8.        , 11.        ,  4.        ,  9.        , 35.        ,\n",
       "        46.        , 50.        ,  7.23705741,  2.39165215,  3.        ,\n",
       "         4.47213595,  0.        ,  0.        ,  2.        ,  1.        ,\n",
       "         0.        ,  1.        ,  1.        ,  1.        ,  0.        ,\n",
       "         2.        ,  2.        ,  0.        ,  1.        ,  3.        ,\n",
       "         2.        ,  1.        ,  4.        ,  2.        ,  0.        ,\n",
       "         4.        ,  3.        ,  1.        ,  2.        ,  0.        ,\n",
       "         1.        ,  2.        ,  2.        ,  1.        ,  0.        ,\n",
       "         1.        ,  1.        ]])"
      ]
     },
     "execution_count": 7,
     "metadata": {},
     "output_type": "execute_result"
    }
   ],
   "execution_count": 7
  },
  {
   "metadata": {
    "ExecuteTime": {
     "end_time": "2025-04-14T19:34:31.856497Z",
     "start_time": "2025-04-14T19:34:31.854484Z"
    }
   },
   "cell_type": "code",
   "source": [
    "# for testing sequences\n",
    "# df = df[::-1]\n",
    "# print(y[-1])\n",
    "# print(df.iloc[-1].values[:7])"
   ],
   "outputs": [],
   "execution_count": 8
  },
  {
   "cell_type": "code",
   "source": [
    "# --- 3. Model Definition ---\n",
    "\n",
    "# LSTM layer\n",
    "lstm1_1 = tf.keras.layers.LSTM(128, return_sequences=False)(sequence_input)\n",
    "\n",
    "dense_1 = tf.keras.layers.Dense(128, activation='sigmoid')(lstm1_1)\n",
    "\n",
    "dense_2 = tf.keras.layers.Dense(35, activation='sigmoid')(dense_1)\n",
    "\n",
    "concat = tf.keras.layers.Concatenate()([random_seed_input, dense_2])\n",
    "\n",
    "output = tf.keras.layers.Dense(pred_cols)(concat)\n",
    "\n",
    "# Create the model with two inputs\n",
    "lstm_model = tf.keras.models.Model(inputs=[sequence_input, random_seed_input], outputs=output)"
   ],
   "metadata": {
    "collapsed": false,
    "ExecuteTime": {
     "end_time": "2025-04-14T19:34:32.133801Z",
     "start_time": "2025-04-14T19:34:31.895085Z"
    }
   },
   "outputs": [],
   "execution_count": 9
  },
  {
   "metadata": {
    "ExecuteTime": {
     "end_time": "2025-04-14T19:34:32.148859Z",
     "start_time": "2025-04-14T19:34:32.138505Z"
    }
   },
   "cell_type": "code",
   "source": [
    "\n",
    "# --- 4. Loss Function with Emphasis ---\n",
    "\n",
    "def custom_loss(y_true, y_pred, random_target):\n",
    "    # Calculate loss\n",
    "    squared_error = tf.square(y_true - y_pred)\n",
    "    weighted_mse_loss = tf.reduce_mean(squared_error)\n",
    "\n",
    "    # MSE between prediction and random target\n",
    "    mse_loss_random = tf.reduce_mean(tf.square(y_pred[:, :ball_cols] - random_target))\n",
    "\n",
    "    # Combine the two losses (you can adjust the weights)\n",
    "    return tf.abs(0.2 * weighted_mse_loss - mse_loss_random)\n",
    "\n",
    "def generate_random_target(batch_size):\n",
    "    targets = []\n",
    "    for _ in range(batch_size):\n",
    "        lucky_target = []\n",
    "        target = []\n",
    "        while len(lucky_target) < 2:\n",
    "            num = np.random.randint(1, 13)\n",
    "            if num not in lucky_target:\n",
    "                lucky_target.append(num)\n",
    "        while len(target) < 5:\n",
    "            num = np.random.randint(1, 51)\n",
    "            if num not in target:\n",
    "                target.append(num)\n",
    "        lucky_target = np.array(lucky_target) / 12\n",
    "        target = np.array(target) / 50\n",
    "        targets.append(np.concatenate((lucky_target, target)))\n",
    "    return np.array(targets)\n",
    "\n",
    "# --- 5. Compile the Model ---\n",
    "\n",
    "lstm_model.compile(optimizer=tf.keras.optimizers.Adam(learning_rate=0.001),\n",
    "                   loss=custom_loss)  # Use the custom weighted loss\n"
   ],
   "outputs": [],
   "execution_count": 10
  },
  {
   "metadata": {
    "ExecuteTime": {
     "end_time": "2025-04-14T19:34:32.177213Z",
     "start_time": "2025-04-14T19:34:32.174041Z"
    }
   },
   "cell_type": "code",
   "source": [
    "print(X_train.shape)\n",
    "\n",
    "print(scaler.data_min_)\n",
    "\n",
    "print(scaler.data_max_)"
   ],
   "outputs": [
    {
     "name": "stdout",
     "output_type": "stream",
     "text": [
      "(290, 7, 42)\n",
      "[1. 1. 1. 1. 1. 1. 1. 0. 0. 0. 0. 0. 0. 0. 0. 0. 0. 0. 0. 0. 0. 0. 0. 0.\n",
      " 0. 0. 0. 0. 0. 0. 0. 0. 0. 0. 0. 0. 0. 0. 0. 0. 0. 0.]\n",
      "[12.         12.         50.         50.         50.         50.\n",
      " 50.          8.70344759 11.56719499 11.          9.05538514  2.\n",
      "  3.          4.          3.          3.          3.          4.\n",
      "  5.          5.          5.          6.          5.          5.\n",
      "  6.          6.          6.          7.          6.          7.\n",
      "  9.         10.          4.          7.          6.          6.\n",
      "  6.          3.          4.          3.          4.          3.        ]\n"
     ]
    }
   ],
   "execution_count": 11
  },
  {
   "metadata": {
    "jupyter": {
     "is_executing": true
    },
    "ExecuteTime": {
     "start_time": "2025-04-14T19:34:32.212900Z"
    }
   },
   "cell_type": "code",
   "source": [
    "# --- 6. Train the Model ---\n",
    "\n",
    "# Custom training loop\n",
    "optimizer = tf.keras.optimizers.Adam(learning_rate=0.001)\n",
    "\n",
    "epochs = 300\n",
    "batch_size = 16\n",
    "\n",
    "for epoch in range(epochs):\n",
    "    epoch_loss = 0\n",
    "    for i in range(0, X_train.shape[0], batch_size):\n",
    "        # Get batch data\n",
    "\n",
    "        X_batch = X_train[i:(i + batch_size)]\n",
    "        y_batch = y_train[i:(i + batch_size)]\n",
    "        random_seeds_batch = generate_random_target(X_batch.shape[0])\n",
    "\n",
    "        with tf.GradientTape() as tape:\n",
    "            # Get predictions\n",
    "            predictions = lstm_model([X_batch, random_seeds_batch], training=True)\n",
    "\n",
    "            # Combine the two losses (you can adjust the weights)\n",
    "            loss = custom_loss(y_batch, predictions, random_seeds_batch)\n",
    "\n",
    "        # Compute and apply gradients\n",
    "        gradients = tape.gradient(loss, lstm_model.trainable_variables)\n",
    "        optimizer.apply_gradients(zip(gradients, lstm_model.trainable_variables))\n",
    "\n",
    "        epoch_loss += loss\n",
    "\n",
    "    # Print epoch loss\n",
    "    print(f\"Epoch {epoch + 1}/{epochs}, Loss: {epoch_loss / (X_train.shape[0] // batch_size)}\")\n",
    "\n"
   ],
   "outputs": [
    {
     "name": "stdout",
     "output_type": "stream",
     "text": [
      "Epoch 1/300, Loss: 0.4083667993545532\n",
      "Epoch 2/300, Loss: 0.030677011236548424\n"
     ]
    }
   ],
   "execution_count": null
  },
  {
   "metadata": {
    "ExecuteTime": {
     "end_time": "2025-04-12T23:22:35.430552Z",
     "start_time": "2025-04-12T23:22:35.385166Z"
    }
   },
   "cell_type": "code",
   "source": [
    "# --- 8. Evaluate the Model ---\n",
    "\n",
    "val_loss = 0\n",
    "for i in range(0, X_val.shape[0], batch_size):\n",
    "    X_batch = X_val[i:i + batch_size]\n",
    "    y_batch = y_val[i:i + batch_size]\n",
    "    random_target_batch = generate_random_target(X_batch.shape[0])\n",
    "\n",
    "    predictions = lstm_model([X_batch, random_target_batch], training=False)\n",
    "    loss = custom_loss(y_batch, predictions, random_target_batch)\n",
    "    val_loss += loss\n",
    "\n",
    "print(f\"Validation Loss: {val_loss / (X_val.shape[0] // batch_size)}\")"
   ],
   "outputs": [
    {
     "name": "stdout",
     "output_type": "stream",
     "text": [
      "Validation Loss: 0.005613568238914013\n"
     ]
    }
   ],
   "execution_count": 37
  },
  {
   "metadata": {
    "ExecuteTime": {
     "end_time": "2025-04-12T23:23:05.371566Z",
     "start_time": "2025-04-12T23:23:05.332277Z"
    }
   },
   "cell_type": "code",
   "source": [
    "# --- 9. Make Predictions ---\n",
    "\n",
    "# Generate a random seed for prediction\n",
    "prediction_random_seed = generate_random_target(1)\n",
    "\n",
    "# Get the last sequence from X_val and reshape it for prediction\n",
    "last_sequence = X[-1].reshape(1, seq_length, all_cols)\n",
    "\n",
    "# Make a prediction using the last sequence and the random seed\n",
    "prediction = lstm_model.predict([last_sequence, prediction_random_seed])\n",
    "\n",
    "# Inverse transform to get predictions in the original scale\n",
    "prediction = scaler.inverse_transform(np.concatenate((prediction, np.zeros((prediction.shape[0], all_cols - pred_cols))), axis=1))[:, :pred_cols]\n",
    "\n",
    "prediction"
   ],
   "outputs": [
    {
     "name": "stdout",
     "output_type": "stream",
     "text": [
      "1/1 [==============================] - 0s 12ms/step\n"
     ]
    },
    {
     "data": {
      "text/plain": [
       "array([[ 5.51711345e+00,  7.65800440e+00,  3.43354067e+01,\n",
       "         2.08290841e+01,  3.54952317e+01,  2.14436878e+01,\n",
       "         1.28126178e+01, -3.33825307e-01,  1.08149785e+01,\n",
       "        -1.06480868e+00,  1.47899747e+00,  2.36641131e-02,\n",
       "         1.49769330e+00,  3.59588289e+00,  9.60321486e-01,\n",
       "         8.71640682e-01,  6.53401807e-01, -4.17626202e-01,\n",
       "         2.81904846e+00,  1.90433279e+00, -8.51191282e-01,\n",
       "         3.56696248e+00,  1.48188084e+00,  2.15056196e+00,\n",
       "         2.72825074e+00,  6.03981704e-01,  2.57563090e+00,\n",
       "        -2.09501749e+00,  7.59761542e-01,  5.73149049e+00,\n",
       "        -1.65711594e+00,  7.23529041e+00,  8.48886132e-01,\n",
       "         5.06474417e+00,  7.64598906e-01,  4.89528000e-01,\n",
       "         1.75723422e+00,  1.24443206e+00, -1.74341202e+00,\n",
       "         3.68262291e-01,  4.76923943e-01,  8.97467226e-01]])"
      ]
     },
     "execution_count": 40,
     "metadata": {},
     "output_type": "execute_result"
    }
   ],
   "execution_count": 40
  },
  {
   "metadata": {
    "ExecuteTime": {
     "end_time": "2025-03-28T17:31:44.288465Z",
     "start_time": "2025-03-28T17:31:44.284962Z"
    }
   },
   "cell_type": "code",
   "source": "print(scaler.inverse_transform(X[-1])[:, :pred_cols]);",
   "outputs": [
    {
     "name": "stdout",
     "output_type": "stream",
     "text": [
      "[[ 5. 12.  9. 17. 18. 21. 50.]\n",
      " [ 8. 11.  4.  9. 35. 46. 50.]\n",
      " [ 2.  9.  8. 10. 33. 35. 49.]\n",
      " [ 7. 11. 13. 36. 37. 42. 47.]\n",
      " [ 3.  8.  6. 10. 27. 32. 48.]\n",
      " [ 2.  9. 15. 20. 29. 35. 42.]\n",
      " [ 5.  9.  7. 16. 31. 43. 46.]]\n"
     ]
    }
   ],
   "execution_count": 16
  }
 ],
 "metadata": {
  "kernelspec": {
   "display_name": "Python 3",
   "language": "python",
   "name": "python3"
  },
  "language_info": {
   "codemirror_mode": {
    "name": "ipython",
    "version": 2
   },
   "file_extension": ".py",
   "mimetype": "text/x-python",
   "name": "python",
   "nbconvert_exporter": "python",
   "pygments_lexer": "ipython2",
   "version": "2.7.6"
  }
 },
 "nbformat": 4,
 "nbformat_minor": 0
}
