{
 "cells": [
  {
   "cell_type": "markdown",
   "source": [
    "Read out the historic data to base our new numbers with"
   ],
   "metadata": {
    "collapsed": false
   }
  },
  {
   "cell_type": "code",
   "execution_count": 1,
   "outputs": [
    {
     "data": {
      "text/plain": "      DrawDate  Ball 1  Ball 2  Ball 3  Ball 4  Ball 5  DrawNumber\n0  09-May-2023      13      17      21      28      46        1631\n1  05-May-2023       3       8      18      34      49        1630\n2  02-May-2023       7      32      44      47      48        1629\n3  28-Apr-2023      11      13      16      23      34        1628\n4  25-Apr-2023      10      29      30      40      45        1627",
      "text/html": "<div>\n<style scoped>\n    .dataframe tbody tr th:only-of-type {\n        vertical-align: middle;\n    }\n\n    .dataframe tbody tr th {\n        vertical-align: top;\n    }\n\n    .dataframe thead th {\n        text-align: right;\n    }\n</style>\n<table border=\"1\" class=\"dataframe\">\n  <thead>\n    <tr style=\"text-align: right;\">\n      <th></th>\n      <th>DrawDate</th>\n      <th>Ball 1</th>\n      <th>Ball 2</th>\n      <th>Ball 3</th>\n      <th>Ball 4</th>\n      <th>Ball 5</th>\n      <th>DrawNumber</th>\n    </tr>\n  </thead>\n  <tbody>\n    <tr>\n      <th>0</th>\n      <td>09-May-2023</td>\n      <td>13</td>\n      <td>17</td>\n      <td>21</td>\n      <td>28</td>\n      <td>46</td>\n      <td>1631</td>\n    </tr>\n    <tr>\n      <th>1</th>\n      <td>05-May-2023</td>\n      <td>3</td>\n      <td>8</td>\n      <td>18</td>\n      <td>34</td>\n      <td>49</td>\n      <td>1630</td>\n    </tr>\n    <tr>\n      <th>2</th>\n      <td>02-May-2023</td>\n      <td>7</td>\n      <td>32</td>\n      <td>44</td>\n      <td>47</td>\n      <td>48</td>\n      <td>1629</td>\n    </tr>\n    <tr>\n      <th>3</th>\n      <td>28-Apr-2023</td>\n      <td>11</td>\n      <td>13</td>\n      <td>16</td>\n      <td>23</td>\n      <td>34</td>\n      <td>1628</td>\n    </tr>\n    <tr>\n      <th>4</th>\n      <td>25-Apr-2023</td>\n      <td>10</td>\n      <td>29</td>\n      <td>30</td>\n      <td>40</td>\n      <td>45</td>\n      <td>1627</td>\n    </tr>\n  </tbody>\n</table>\n</div>"
     },
     "execution_count": 1,
     "metadata": {},
     "output_type": "execute_result"
    }
   ],
   "source": [
    "import pandas as pd\n",
    "\n",
    "df = pd.read_csv(\"euromillions-hotpicks-draw-history.csv\")\n",
    "\n",
    "df.head()\n"
   ],
   "metadata": {
    "collapsed": false,
    "ExecuteTime": {
     "end_time": "2023-06-01T21:45:43.521400400Z",
     "start_time": "2023-06-01T21:45:43.029015300Z"
    }
   }
  },
  {
   "cell_type": "code",
   "execution_count": 2,
   "outputs": [
    {
     "name": "stdout",
     "output_type": "stream",
     "text": [
      "{1: 0.02, 2: 0.02, 3: 0.02, 4: 0.02, 5: 0.02, 6: 0.02, 7: 0.02, 8: 0.02, 9: 0.02, 10: 0.02, 11: 0.02, 12: 0.02, 13: 0.02, 14: 0.02, 15: 0.02, 16: 0.02, 17: 0.02, 18: 0.02, 19: 0.02, 20: 0.02, 21: 0.02, 22: 0.02, 23: 0.02, 24: 0.02, 25: 0.02, 26: 0.02, 27: 0.02, 28: 0.02, 29: 0.02, 30: 0.02, 31: 0.02, 32: 0.02, 33: 0.02, 34: 0.02, 35: 0.02, 36: 0.02, 37: 0.02, 38: 0.02, 39: 0.02, 40: 0.02, 41: 0.02, 42: 0.02, 43: 0.02, 44: 0.02, 45: 0.02, 46: 0.02, 47: 0.02, 48: 0.02, 49: 0.02, 50: 0.02}\n"
     ]
    }
   ],
   "source": [
    "probabilities = {i+1: 1/50 for i in range(50)}\n",
    "print(probabilities)\n"
   ],
   "metadata": {
    "collapsed": false,
    "ExecuteTime": {
     "end_time": "2023-06-01T21:45:43.550689100Z",
     "start_time": "2023-06-01T21:45:43.521400400Z"
    }
   }
  },
  {
   "cell_type": "markdown",
   "source": [
    "As the number of samples approaches infinity, we expect the above probabilities to be close to reality. However, in our small set, we have an alternative which should move towards approaching this distribution."
   ],
   "metadata": {
    "collapsed": false
   }
  },
  {
   "cell_type": "code",
   "execution_count": 3,
   "outputs": [
    {
     "name": "stdout",
     "output_type": "stream",
     "text": [
      "[ 1  2  3  4  5  6  7  8  9 10 11 12 13 14 15 16 17 18 19 20 21 22 23 24\n",
      " 25 26 27 28 29 30 31 32 33 34 35 36 37 38 39 40 41 42 43 44 45 46 47 48\n",
      " 49 50] 50\n",
      "{1: 2, 2: 4, 3: 5, 4: 2, 5: 3, 6: 2, 7: 4, 8: 7, 9: 4, 10: 3, 11: 6, 12: 6, 13: 9, 14: 2, 15: 4, 16: 10, 17: 6, 18: 4, 19: 8, 20: 5, 21: 10, 22: 2, 23: 5, 24: 7, 25: 5, 26: 7, 27: 5, 28: 4, 29: 6, 30: 3, 31: 7, 32: 3, 33: 7, 34: 10, 35: 9, 36: 4, 37: 7, 38: 3, 39: 2, 40: 3, 41: 3, 42: 7, 43: 4, 44: 7, 45: 6, 46: 8, 47: 7, 48: 4, 49: 4, 50: 5}\n"
     ]
    }
   ],
   "source": [
    "import numpy as np\n",
    "n = df.shape[0] * 5\n",
    "occurrences = np.concatenate([df[\"Ball 1\"], df[\"Ball 2\"], df[\"Ball 3\"], df[\"Ball 4\"], df[\"Ball 5\"]])\n",
    "\n",
    "unique, counts = np.unique(occurrences, return_counts=True)\n",
    "print(unique, len(unique))\n",
    "running_counts = dict(zip(unique, counts))\n",
    "print(running_counts)\n"
   ],
   "metadata": {
    "collapsed": false,
    "ExecuteTime": {
     "end_time": "2023-06-01T21:45:48.470852700Z",
     "start_time": "2023-06-01T21:45:48.458339600Z"
    }
   }
  },
  {
   "cell_type": "markdown",
   "source": [
    "Now we calculate standard deviation for the probabilities of each number. We are assuming that double draws can happen even though they cannot within every 5 ball window. This is a close approximation in the larger datasets."
   ],
   "metadata": {
    "collapsed": false
   }
  },
  {
   "cell_type": "code",
   "execution_count": 15,
   "outputs": [
    {
     "name": "stdout",
     "output_type": "stream",
     "text": [
      "{1: 0.007692307692307693, 2: 0.015384615384615385, 3: 0.019230769230769232, 4: 0.007692307692307693, 5: 0.011538461538461539, 6: 0.007692307692307693, 7: 0.015384615384615385, 8: 0.026923076923076925, 9: 0.015384615384615385, 10: 0.011538461538461539, 11: 0.023076923076923078, 12: 0.023076923076923078, 13: 0.03461538461538462, 14: 0.007692307692307693, 15: 0.015384615384615385, 16: 0.038461538461538464, 17: 0.023076923076923078, 18: 0.015384615384615385, 19: 0.03076923076923077, 20: 0.019230769230769232, 21: 0.038461538461538464, 22: 0.007692307692307693, 23: 0.019230769230769232, 24: 0.026923076923076925, 25: 0.019230769230769232, 26: 0.026923076923076925, 27: 0.019230769230769232, 28: 0.015384615384615385, 29: 0.023076923076923078, 30: 0.011538461538461539, 31: 0.026923076923076925, 32: 0.011538461538461539, 33: 0.026923076923076925, 34: 0.038461538461538464, 35: 0.03461538461538462, 36: 0.015384615384615385, 37: 0.026923076923076925, 38: 0.011538461538461539, 39: 0.007692307692307693, 40: 0.011538461538461539, 41: 0.011538461538461539, 42: 0.026923076923076925, 43: 0.015384615384615385, 44: 0.026923076923076925, 45: 0.023076923076923078, 46: 0.03076923076923077, 47: 0.026923076923076925, 48: 0.015384615384615385, 49: 0.015384615384615385, 50: 0.019230769230769232}\n",
      "0.019999999999999997 0.008702852691526741\n"
     ]
    }
   ],
   "source": [
    "import math\n",
    "running_probabilities = {i+1: (running_counts[i + 1] / n) for i in range(50)}\n",
    "print(running_probabilities)\n",
    "ave = sum([running_probabilities[i + 1] for i in range(50)]) / 50.0\n",
    "sd = math.sqrt(sum([(probabilities[i + 1] - running_probabilities[i + 1])**2 for i in range(50)]) / 50.0)\n",
    "print(ave, sd)"
   ],
   "metadata": {
    "collapsed": false,
    "ExecuteTime": {
     "end_time": "2023-05-11T16:43:25.311491500Z",
     "start_time": "2023-05-11T16:43:25.231221400Z"
    }
   }
  },
  {
   "cell_type": "markdown",
   "source": [
    "Now we use these probabilities to generate random numbers and review how far the current probability of this number is from the mean value of 0.019999. If the average is further than one s.d. apart, then we accept this as a likely candidate:"
   ],
   "metadata": {
    "collapsed": false
   }
  },
  {
   "cell_type": "code",
   "execution_count": 16,
   "outputs": [
    {
     "name": "stdout",
     "output_type": "stream",
     "text": [
      "[14, 48, 32, 2]\n"
     ]
    }
   ],
   "source": [
    "import random\n",
    "candidates = []\n",
    "while len(candidates) < 4:\n",
    "    new_guess = random.randint(1, 50)\n",
    "    if new_guess not in candidates and running_probabilities[new_guess] - ave < (0.7 * sd):\n",
    "        candidates.append(new_guess)\n",
    "print(candidates)"
   ],
   "metadata": {
    "collapsed": false,
    "ExecuteTime": {
     "end_time": "2023-05-11T16:43:25.327157400Z",
     "start_time": "2023-05-11T16:43:25.249773200Z"
    }
   }
  },
  {
   "cell_type": "markdown",
   "source": [
    "Now we will repeat the operation but with a longer lasting set of data points."
   ],
   "metadata": {
    "collapsed": false
   }
  },
  {
   "cell_type": "code",
   "execution_count": 17,
   "outputs": [
    {
     "ename": "KeyError",
     "evalue": "11",
     "output_type": "error",
     "traceback": [
      "\u001B[1;31m---------------------------------------------------------------------------\u001B[0m",
      "\u001B[1;31mKeyError\u001B[0m                                  Traceback (most recent call last)",
      "Cell \u001B[1;32mIn[17], line 8\u001B[0m\n\u001B[0;32m      1\u001B[0m running_counts \u001B[38;5;241m=\u001B[39m {\n\u001B[0;32m      2\u001B[0m     \u001B[38;5;241m1\u001B[39m: \u001B[38;5;241m54\u001B[39m, \u001B[38;5;241m2\u001B[39m: \u001B[38;5;241m57\u001B[39m, \u001B[38;5;241m3\u001B[39m: \u001B[38;5;241m58\u001B[39m, \u001B[38;5;241m4\u001B[39m: \u001B[38;5;241m42\u001B[39m, \u001B[38;5;241m5\u001B[39m: \u001B[38;5;241m58\u001B[39m, \u001B[38;5;241m6\u001B[39m: \u001B[38;5;241m52\u001B[39m, \u001B[38;5;241m7\u001B[39m: \u001B[38;5;241m52\u001B[39m, \u001B[38;5;241m8\u001B[39m: \u001B[38;5;241m49\u001B[39m, \u001B[38;5;241m9\u001B[39m: \u001B[38;5;241m53\u001B[39m, \u001B[38;5;241m10\u001B[39m: \u001B[38;5;241m54\u001B[39m,\n\u001B[0;32m      3\u001B[0m     \u001B[38;5;241m1\u001B[39m: \u001B[38;5;241m51\u001B[39m, \u001B[38;5;241m2\u001B[39m: \u001B[38;5;241m60\u001B[39m, \u001B[38;5;241m3\u001B[39m: \u001B[38;5;241m0\u001B[39m, \u001B[38;5;241m4\u001B[39m: \u001B[38;5;241m0\u001B[39m, \u001B[38;5;241m5\u001B[39m: \u001B[38;5;241m0\u001B[39m, \u001B[38;5;241m6\u001B[39m: \u001B[38;5;241m0\u001B[39m, \u001B[38;5;241m7\u001B[39m: \u001B[38;5;241m0\u001B[39m, \u001B[38;5;241m8\u001B[39m: \u001B[38;5;241m0\u001B[39m, \u001B[38;5;241m9\u001B[39m: \u001B[38;5;241m0\u001B[39m, \u001B[38;5;241m10\u001B[39m: \u001B[38;5;241m0\u001B[39m,\n\u001B[1;32m   (...)\u001B[0m\n\u001B[0;32m      6\u001B[0m     \u001B[38;5;241m1\u001B[39m: \u001B[38;5;241m0\u001B[39m, \u001B[38;5;241m2\u001B[39m: \u001B[38;5;241m0\u001B[39m, \u001B[38;5;241m3\u001B[39m: \u001B[38;5;241m0\u001B[39m, \u001B[38;5;241m4\u001B[39m: \u001B[38;5;241m0\u001B[39m, \u001B[38;5;241m5\u001B[39m: \u001B[38;5;241m0\u001B[39m, \u001B[38;5;241m6\u001B[39m: \u001B[38;5;241m0\u001B[39m, \u001B[38;5;241m7\u001B[39m: \u001B[38;5;241m0\u001B[39m, \u001B[38;5;241m8\u001B[39m: \u001B[38;5;241m0\u001B[39m, \u001B[38;5;241m9\u001B[39m: \u001B[38;5;241m0\u001B[39m, \u001B[38;5;241m10\u001B[39m: \u001B[38;5;241m0\u001B[39m\n\u001B[0;32m      7\u001B[0m }\n\u001B[1;32m----> 8\u001B[0m running_probabilities \u001B[38;5;241m=\u001B[39m {i\u001B[38;5;241m+\u001B[39m\u001B[38;5;241m1\u001B[39m: (running_counts[i \u001B[38;5;241m+\u001B[39m \u001B[38;5;241m1\u001B[39m] \u001B[38;5;241m/\u001B[39m n) \u001B[38;5;28;01mfor\u001B[39;00m i \u001B[38;5;129;01min\u001B[39;00m \u001B[38;5;28mrange\u001B[39m(\u001B[38;5;241m50\u001B[39m)}\n\u001B[0;32m      9\u001B[0m \u001B[38;5;28mprint\u001B[39m(running_probabilities)\n\u001B[0;32m     10\u001B[0m ave \u001B[38;5;241m=\u001B[39m \u001B[38;5;28msum\u001B[39m([running_probabilities[i \u001B[38;5;241m+\u001B[39m \u001B[38;5;241m1\u001B[39m] \u001B[38;5;28;01mfor\u001B[39;00m i \u001B[38;5;129;01min\u001B[39;00m \u001B[38;5;28mrange\u001B[39m(\u001B[38;5;241m50\u001B[39m)]) \u001B[38;5;241m/\u001B[39m \u001B[38;5;241m50.0\u001B[39m\n",
      "Cell \u001B[1;32mIn[17], line 8\u001B[0m, in \u001B[0;36m<dictcomp>\u001B[1;34m(.0)\u001B[0m\n\u001B[0;32m      1\u001B[0m running_counts \u001B[38;5;241m=\u001B[39m {\n\u001B[0;32m      2\u001B[0m     \u001B[38;5;241m1\u001B[39m: \u001B[38;5;241m54\u001B[39m, \u001B[38;5;241m2\u001B[39m: \u001B[38;5;241m57\u001B[39m, \u001B[38;5;241m3\u001B[39m: \u001B[38;5;241m58\u001B[39m, \u001B[38;5;241m4\u001B[39m: \u001B[38;5;241m42\u001B[39m, \u001B[38;5;241m5\u001B[39m: \u001B[38;5;241m58\u001B[39m, \u001B[38;5;241m6\u001B[39m: \u001B[38;5;241m52\u001B[39m, \u001B[38;5;241m7\u001B[39m: \u001B[38;5;241m52\u001B[39m, \u001B[38;5;241m8\u001B[39m: \u001B[38;5;241m49\u001B[39m, \u001B[38;5;241m9\u001B[39m: \u001B[38;5;241m53\u001B[39m, \u001B[38;5;241m10\u001B[39m: \u001B[38;5;241m54\u001B[39m,\n\u001B[0;32m      3\u001B[0m     \u001B[38;5;241m1\u001B[39m: \u001B[38;5;241m51\u001B[39m, \u001B[38;5;241m2\u001B[39m: \u001B[38;5;241m60\u001B[39m, \u001B[38;5;241m3\u001B[39m: \u001B[38;5;241m0\u001B[39m, \u001B[38;5;241m4\u001B[39m: \u001B[38;5;241m0\u001B[39m, \u001B[38;5;241m5\u001B[39m: \u001B[38;5;241m0\u001B[39m, \u001B[38;5;241m6\u001B[39m: \u001B[38;5;241m0\u001B[39m, \u001B[38;5;241m7\u001B[39m: \u001B[38;5;241m0\u001B[39m, \u001B[38;5;241m8\u001B[39m: \u001B[38;5;241m0\u001B[39m, \u001B[38;5;241m9\u001B[39m: \u001B[38;5;241m0\u001B[39m, \u001B[38;5;241m10\u001B[39m: \u001B[38;5;241m0\u001B[39m,\n\u001B[1;32m   (...)\u001B[0m\n\u001B[0;32m      6\u001B[0m     \u001B[38;5;241m1\u001B[39m: \u001B[38;5;241m0\u001B[39m, \u001B[38;5;241m2\u001B[39m: \u001B[38;5;241m0\u001B[39m, \u001B[38;5;241m3\u001B[39m: \u001B[38;5;241m0\u001B[39m, \u001B[38;5;241m4\u001B[39m: \u001B[38;5;241m0\u001B[39m, \u001B[38;5;241m5\u001B[39m: \u001B[38;5;241m0\u001B[39m, \u001B[38;5;241m6\u001B[39m: \u001B[38;5;241m0\u001B[39m, \u001B[38;5;241m7\u001B[39m: \u001B[38;5;241m0\u001B[39m, \u001B[38;5;241m8\u001B[39m: \u001B[38;5;241m0\u001B[39m, \u001B[38;5;241m9\u001B[39m: \u001B[38;5;241m0\u001B[39m, \u001B[38;5;241m10\u001B[39m: \u001B[38;5;241m0\u001B[39m\n\u001B[0;32m      7\u001B[0m }\n\u001B[1;32m----> 8\u001B[0m running_probabilities \u001B[38;5;241m=\u001B[39m {i\u001B[38;5;241m+\u001B[39m\u001B[38;5;241m1\u001B[39m: (\u001B[43mrunning_counts\u001B[49m\u001B[43m[\u001B[49m\u001B[43mi\u001B[49m\u001B[43m \u001B[49m\u001B[38;5;241;43m+\u001B[39;49m\u001B[43m \u001B[49m\u001B[38;5;241;43m1\u001B[39;49m\u001B[43m]\u001B[49m \u001B[38;5;241m/\u001B[39m n) \u001B[38;5;28;01mfor\u001B[39;00m i \u001B[38;5;129;01min\u001B[39;00m \u001B[38;5;28mrange\u001B[39m(\u001B[38;5;241m50\u001B[39m)}\n\u001B[0;32m      9\u001B[0m \u001B[38;5;28mprint\u001B[39m(running_probabilities)\n\u001B[0;32m     10\u001B[0m ave \u001B[38;5;241m=\u001B[39m \u001B[38;5;28msum\u001B[39m([running_probabilities[i \u001B[38;5;241m+\u001B[39m \u001B[38;5;241m1\u001B[39m] \u001B[38;5;28;01mfor\u001B[39;00m i \u001B[38;5;129;01min\u001B[39;00m \u001B[38;5;28mrange\u001B[39m(\u001B[38;5;241m50\u001B[39m)]) \u001B[38;5;241m/\u001B[39m \u001B[38;5;241m50.0\u001B[39m\n",
      "\u001B[1;31mKeyError\u001B[0m: 11"
     ]
    }
   ],
   "source": [
    "running_counts = {\n",
    "    1: 54, 2: 57, 3: 58, 4: 42, 5: 58, 6: 52, 7: 52, 8: 49, 9: 53, 10: 54,\n",
    "    1: 51, 2: 60, 3: 0, 4: 0, 5: 0, 6: 0, 7: 0, 8: 0, 9: 0, 10: 0,\n",
    "    1: 0, 2: 0, 3: 0, 4: 0, 5: 0, 6: 0, 7: 0, 8: 0, 9: 0, 10: 0,\n",
    "    1: 0, 2: 0, 3: 0, 4: 0, 5: 0, 6: 0, 7: 0, 8: 0, 9: 0, 10: 0,\n",
    "    1: 0, 2: 0, 3: 0, 4: 0, 5: 0, 6: 0, 7: 0, 8: 0, 9: 0, 10: 0\n",
    "}\n",
    "running_probabilities = {i+1: (running_counts[i + 1] / n) for i in range(50)}\n",
    "print(running_probabilities)\n",
    "ave = sum([running_probabilities[i + 1] for i in range(50)]) / 50.0\n",
    "sd = math.sqrt(sum([(probabilities[i + 1] - running_probabilities[i + 1])**2 for i in range(50)]) / 50.0)\n",
    "print(ave, sd)"
   ],
   "metadata": {
    "collapsed": false,
    "ExecuteTime": {
     "end_time": "2023-05-11T16:43:25.409026300Z",
     "start_time": "2023-05-11T16:43:25.279376200Z"
    }
   }
  },
  {
   "cell_type": "code",
   "execution_count": 23,
   "outputs": [
    {
     "data": {
      "text/plain": "156000.0"
     },
     "execution_count": 23,
     "metadata": {},
     "output_type": "execute_result"
    }
   ],
   "source": [
    "number_of_attempts = 1000 * 2 * 52\n",
    "chance_of_winning = 1 / (50 * 49 * 48 * 47 * 0.5**4)\n",
    "number_of_attempts * 1.5"
   ],
   "metadata": {
    "collapsed": false,
    "ExecuteTime": {
     "end_time": "2023-05-11T16:44:59.463798500Z",
     "start_time": "2023-05-11T16:44:59.449367400Z"
    }
   }
  },
  {
   "cell_type": "markdown",
   "source": [],
   "metadata": {
    "collapsed": false
   }
  }
 ],
 "metadata": {
  "kernelspec": {
   "display_name": "Python 3",
   "language": "python",
   "name": "python3"
  },
  "language_info": {
   "codemirror_mode": {
    "name": "ipython",
    "version": 2
   },
   "file_extension": ".py",
   "mimetype": "text/x-python",
   "name": "python",
   "nbconvert_exporter": "python",
   "pygments_lexer": "ipython2",
   "version": "2.7.6"
  }
 },
 "nbformat": 4,
 "nbformat_minor": 0
}
