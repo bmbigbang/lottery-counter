{
 "cells": [
  {
   "cell_type": "code",
   "execution_count": 1,
   "outputs": [
    {
     "name": "stderr",
     "output_type": "stream",
     "text": [
      "2023-10-20 20:50:41.252803: E tensorflow/compiler/xla/stream_executor/cuda/cuda_dnn.cc:9342] Unable to register cuDNN factory: Attempting to register factory for plugin cuDNN when one has already been registered\n",
      "2023-10-20 20:50:41.252849: E tensorflow/compiler/xla/stream_executor/cuda/cuda_fft.cc:609] Unable to register cuFFT factory: Attempting to register factory for plugin cuFFT when one has already been registered\n",
      "2023-10-20 20:50:41.252864: E tensorflow/compiler/xla/stream_executor/cuda/cuda_blas.cc:1518] Unable to register cuBLAS factory: Attempting to register factory for plugin cuBLAS when one has already been registered\n",
      "2023-10-20 20:50:41.256618: I tensorflow/core/platform/cpu_feature_guard.cc:182] This TensorFlow binary is optimized to use available CPU instructions in performance-critical operations.\n",
      "To enable the following instructions: AVX2 FMA, in other operations, rebuild TensorFlow with the appropriate compiler flags.\n"
     ]
    },
    {
     "name": "stdout",
     "output_type": "stream",
     "text": [
      "Num GPUs Available:  1\n"
     ]
    },
    {
     "name": "stderr",
     "output_type": "stream",
     "text": [
      "2023-10-20 20:50:42.298965: I tensorflow/compiler/xla/stream_executor/cuda/cuda_gpu_executor.cc:880] could not open file to read NUMA node: /sys/bus/pci/devices/0000:09:00.0/numa_node\n",
      "Your kernel may have been built without NUMA support.\n",
      "2023-10-20 20:50:42.301505: I tensorflow/compiler/xla/stream_executor/cuda/cuda_gpu_executor.cc:880] could not open file to read NUMA node: /sys/bus/pci/devices/0000:09:00.0/numa_node\n",
      "Your kernel may have been built without NUMA support.\n",
      "2023-10-20 20:50:42.301533: I tensorflow/compiler/xla/stream_executor/cuda/cuda_gpu_executor.cc:880] could not open file to read NUMA node: /sys/bus/pci/devices/0000:09:00.0/numa_node\n",
      "Your kernel may have been built without NUMA support.\n"
     ]
    }
   ],
   "source": [
    "import pandas as pd\n",
    "import tensorflow as tf\n",
    "import numpy as np\n",
    "import IPython\n",
    "import IPython.display\n",
    "import matplotlib as mpl\n",
    "import matplotlib.pyplot as plt\n",
    "\n",
    "print(\"Num GPUs Available: \", len(tf.config.list_physical_devices('GPU')))\n",
    "\n",
    "column_labels = ['Lucky Star 1', 'Lucky Star 2', 'Ball 1', 'Ball 2', 'Ball 3', 'Ball 4', 'Ball 5']\n",
    "column_indices = {name: i for i, name in enumerate(column_labels)}"
   ],
   "metadata": {
    "collapsed": false,
    "ExecuteTime": {
     "end_time": "2023-10-20T19:50:42.310696Z",
     "start_time": "2023-10-20T19:50:40.873105100Z"
    }
   }
  },
  {
   "cell_type": "code",
   "execution_count": 2,
   "outputs": [
    {
     "data": {
      "text/plain": "     Lucky Star 1  Lucky Star 2  Ball 1  Ball 2  Ball 3  Ball 4  Ball 5\n0               5             7       2       6      14      19      23\n1               5             8       3      23      24      34      35\n2               2             5      10      15      31      41      42\n3               8            11      12      14      21      45      48\n4               2            11       5      14      36      40      42\n..            ...           ...     ...     ...     ...     ...     ...\n164             6             9       1      19      36      38      49\n165             9            10      10      25      29      34      45\n166             2             4       6      16      18      39      47\n167             7            12       5      14      35      36      39\n168             2             5       3      12      19      24      30\n\n[169 rows x 7 columns]",
      "text/html": "<div>\n<style scoped>\n    .dataframe tbody tr th:only-of-type {\n        vertical-align: middle;\n    }\n\n    .dataframe tbody tr th {\n        vertical-align: top;\n    }\n\n    .dataframe thead th {\n        text-align: right;\n    }\n</style>\n<table border=\"1\" class=\"dataframe\">\n  <thead>\n    <tr style=\"text-align: right;\">\n      <th></th>\n      <th>Lucky Star 1</th>\n      <th>Lucky Star 2</th>\n      <th>Ball 1</th>\n      <th>Ball 2</th>\n      <th>Ball 3</th>\n      <th>Ball 4</th>\n      <th>Ball 5</th>\n    </tr>\n  </thead>\n  <tbody>\n    <tr>\n      <th>0</th>\n      <td>5</td>\n      <td>7</td>\n      <td>2</td>\n      <td>6</td>\n      <td>14</td>\n      <td>19</td>\n      <td>23</td>\n    </tr>\n    <tr>\n      <th>1</th>\n      <td>5</td>\n      <td>8</td>\n      <td>3</td>\n      <td>23</td>\n      <td>24</td>\n      <td>34</td>\n      <td>35</td>\n    </tr>\n    <tr>\n      <th>2</th>\n      <td>2</td>\n      <td>5</td>\n      <td>10</td>\n      <td>15</td>\n      <td>31</td>\n      <td>41</td>\n      <td>42</td>\n    </tr>\n    <tr>\n      <th>3</th>\n      <td>8</td>\n      <td>11</td>\n      <td>12</td>\n      <td>14</td>\n      <td>21</td>\n      <td>45</td>\n      <td>48</td>\n    </tr>\n    <tr>\n      <th>4</th>\n      <td>2</td>\n      <td>11</td>\n      <td>5</td>\n      <td>14</td>\n      <td>36</td>\n      <td>40</td>\n      <td>42</td>\n    </tr>\n    <tr>\n      <th>...</th>\n      <td>...</td>\n      <td>...</td>\n      <td>...</td>\n      <td>...</td>\n      <td>...</td>\n      <td>...</td>\n      <td>...</td>\n    </tr>\n    <tr>\n      <th>164</th>\n      <td>6</td>\n      <td>9</td>\n      <td>1</td>\n      <td>19</td>\n      <td>36</td>\n      <td>38</td>\n      <td>49</td>\n    </tr>\n    <tr>\n      <th>165</th>\n      <td>9</td>\n      <td>10</td>\n      <td>10</td>\n      <td>25</td>\n      <td>29</td>\n      <td>34</td>\n      <td>45</td>\n    </tr>\n    <tr>\n      <th>166</th>\n      <td>2</td>\n      <td>4</td>\n      <td>6</td>\n      <td>16</td>\n      <td>18</td>\n      <td>39</td>\n      <td>47</td>\n    </tr>\n    <tr>\n      <th>167</th>\n      <td>7</td>\n      <td>12</td>\n      <td>5</td>\n      <td>14</td>\n      <td>35</td>\n      <td>36</td>\n      <td>39</td>\n    </tr>\n    <tr>\n      <th>168</th>\n      <td>2</td>\n      <td>5</td>\n      <td>3</td>\n      <td>12</td>\n      <td>19</td>\n      <td>24</td>\n      <td>30</td>\n    </tr>\n  </tbody>\n</table>\n<p>169 rows × 7 columns</p>\n</div>"
     },
     "execution_count": 2,
     "metadata": {},
     "output_type": "execute_result"
    }
   ],
   "source": [
    "df = pd.read_csv('euromillions-dataset.csv')\n",
    "df"
   ],
   "metadata": {
    "collapsed": false,
    "ExecuteTime": {
     "end_time": "2023-09-30T22:00:34.147059300Z",
     "start_time": "2023-09-30T22:00:34.100182Z"
    }
   }
  },
  {
   "cell_type": "code",
   "execution_count": 3,
   "outputs": [],
   "source": [
    "n = len(df)\n",
    "train_df = df[0:int(n*0.7)]\n",
    "val_df = df[int(n*0.7):int(n*0.9)]\n",
    "test_df = df[int(n*0.9):]\n",
    "\n",
    "num_features = df.shape[1]"
   ],
   "metadata": {
    "collapsed": false,
    "ExecuteTime": {
     "end_time": "2023-09-30T22:00:36.160282900Z",
     "start_time": "2023-09-30T22:00:36.151996300Z"
    }
   }
  },
  {
   "cell_type": "code",
   "execution_count": 4,
   "outputs": [],
   "source": [
    "train_mean = train_df.mean()\n",
    "train_std = train_df.std()\n",
    "\n",
    "train_df = (train_df - train_mean) / train_std\n",
    "val_df = (val_df - train_mean) / train_std\n",
    "test_df = (test_df - train_mean) / train_std"
   ],
   "metadata": {
    "collapsed": false,
    "ExecuteTime": {
     "end_time": "2023-09-30T22:00:38.918511600Z",
     "start_time": "2023-09-30T22:00:38.890864800Z"
    }
   }
  },
  {
   "cell_type": "code",
   "execution_count": 5,
   "outputs": [],
   "source": [
    "class WindowGenerator():\n",
    "  def __init__(self, input_width, label_width, shift,\n",
    "               train_df=train_df, val_df=val_df, test_df=test_df,\n",
    "               label_columns=None):\n",
    "    # Store the raw data.\n",
    "    self.train_df = train_df\n",
    "    self.val_df = val_df\n",
    "    self.test_df = test_df\n",
    "\n",
    "    # Work out the label column indices.\n",
    "    self.label_columns = label_columns\n",
    "    if label_columns is not None:\n",
    "      self.label_columns_indices = {name: i for i, name in\n",
    "                                    enumerate(label_columns)}\n",
    "    self.column_indices = {name: i for i, name in\n",
    "                           enumerate(train_df.columns)}\n",
    "\n",
    "    # Work out the window parameters.\n",
    "    self.input_width = input_width\n",
    "    self.label_width = label_width\n",
    "    self.shift = shift\n",
    "\n",
    "    self.total_window_size = input_width + shift\n",
    "\n",
    "    self.input_slice = slice(0, input_width)\n",
    "    self.input_indices = np.arange(self.total_window_size)[self.input_slice]\n",
    "\n",
    "    self.label_start = self.total_window_size - self.label_width\n",
    "    self.labels_slice = slice(self.label_start, None)\n",
    "    self.label_indices = np.arange(self.total_window_size)[self.labels_slice]\n",
    "\n",
    "  def __repr__(self):\n",
    "    return '\\n'.join([\n",
    "        f'Total window size: {self.total_window_size}',\n",
    "        f'Input indices: {self.input_indices}',\n",
    "        f'Label indices: {self.label_indices}',\n",
    "        f'Label column name(s): {self.label_columns}'])"
   ],
   "metadata": {
    "collapsed": false,
    "ExecuteTime": {
     "end_time": "2023-09-30T22:00:56.404008200Z",
     "start_time": "2023-09-30T22:00:56.355041200Z"
    }
   }
  },
  {
   "cell_type": "code",
   "execution_count": 82,
   "outputs": [],
   "source": [
    "def split_window(self, features):\n",
    "  inputs = features[:, self.input_slice, :]\n",
    "  labels = features[:, self.labels_slice, :]\n",
    "  if self.label_columns is not None:\n",
    "    labels = tf.stack(\n",
    "        [labels[:, :, self.column_indices[name]] for name in self.label_columns],\n",
    "        axis=-1)\n",
    "\n",
    "  # Slicing doesn't preserve static shape information, so set the shapes\n",
    "  # manually. This way the `tf.data.Datasets` are easier to inspect.\n",
    "  inputs.set_shape([None, self.input_width, None])\n",
    "  labels.set_shape([None, self.label_width, None])\n",
    "\n",
    "  return inputs, labels\n",
    "\n",
    "WindowGenerator.split_window = split_window"
   ],
   "metadata": {
    "collapsed": false,
    "ExecuteTime": {
     "end_time": "2023-09-30T22:30:18.014261700Z",
     "start_time": "2023-09-30T22:30:18.009086200Z"
    }
   }
  },
  {
   "cell_type": "code",
   "execution_count": 83,
   "outputs": [
    {
     "data": {
      "text/plain": "Total window size: 8\nInput indices: [0 1 2 3 4 5 6]\nLabel indices: [7]\nLabel column name(s): ['Lucky Star 1', 'Lucky Star 2', 'Ball 1', 'Ball 2', 'Ball 3', 'Ball 4', 'Ball 5']"
     },
     "execution_count": 83,
     "metadata": {},
     "output_type": "execute_result"
    }
   ],
   "source": [
    "w2 = WindowGenerator(input_width=7, label_width=1, shift=1,\n",
    "                     label_columns=column_labels)\n",
    "w2"
   ],
   "metadata": {
    "collapsed": false,
    "ExecuteTime": {
     "end_time": "2023-09-30T22:30:18.543447400Z",
     "start_time": "2023-09-30T22:30:18.501512500Z"
    }
   }
  },
  {
   "cell_type": "code",
   "execution_count": 84,
   "outputs": [
    {
     "name": "stdout",
     "output_type": "stream",
     "text": [
      "All shapes are: (batch, time, features)\n",
      "Window shape: (3, 8, 7)\n",
      "Inputs shape: (3, 7, 7)\n",
      "Labels shape: (3, 1, 7)\n"
     ]
    }
   ],
   "source": [
    "# Stack three slices, the length of the total window.\n",
    "example_window = tf.stack([np.array(train_df[:w2.total_window_size]),\n",
    "                           np.array(train_df[20:20+w2.total_window_size]),\n",
    "                           np.array(train_df[40:40+w2.total_window_size])])\n",
    "\n",
    "example_inputs, example_labels = w2.split_window(example_window)\n",
    "\n",
    "print('All shapes are: (batch, time, features)')\n",
    "print(f'Window shape: {example_window.shape}')\n",
    "print(f'Inputs shape: {example_inputs.shape}')\n",
    "print(f'Labels shape: {example_labels.shape}')"
   ],
   "metadata": {
    "collapsed": false,
    "ExecuteTime": {
     "end_time": "2023-09-30T22:30:19.182032500Z",
     "start_time": "2023-09-30T22:30:19.137112800Z"
    }
   }
  },
  {
   "cell_type": "code",
   "execution_count": 85,
   "outputs": [],
   "source": [
    "def make_dataset(self, data):\n",
    "  data = np.array(data, dtype=np.float32)\n",
    "  ds = tf.keras.utils.timeseries_dataset_from_array(\n",
    "      data=data,\n",
    "      targets=None,\n",
    "      sequence_length=self.total_window_size,\n",
    "      sequence_stride=1,\n",
    "      shuffle=True,\n",
    "      batch_size=32,)\n",
    "\n",
    "  ds = ds.map(self.split_window)\n",
    "\n",
    "  return ds\n",
    "\n",
    "WindowGenerator.make_dataset = make_dataset"
   ],
   "metadata": {
    "collapsed": false,
    "ExecuteTime": {
     "end_time": "2023-09-30T22:30:33.081230200Z",
     "start_time": "2023-09-30T22:30:33.065594Z"
    }
   }
  },
  {
   "cell_type": "code",
   "execution_count": 86,
   "outputs": [],
   "source": [
    "@property\n",
    "def train(self):\n",
    "  return self.make_dataset(self.train_df)\n",
    "\n",
    "@property\n",
    "def val(self):\n",
    "  return self.make_dataset(self.val_df)\n",
    "\n",
    "@property\n",
    "def test(self):\n",
    "  return self.make_dataset(self.test_df)\n",
    "\n",
    "@property\n",
    "def example(self):\n",
    "  \"\"\"Get and cache an example batch of `inputs, labels` for plotting.\"\"\"\n",
    "  result = getattr(self, '_example', None)\n",
    "  if result is None:\n",
    "    # No example batch was found, so get one from the `.train` dataset\n",
    "    result = next(iter(self.train))\n",
    "    # And cache it for next time\n",
    "    self._example = result\n",
    "  return result\n",
    "\n",
    "WindowGenerator.train = train\n",
    "WindowGenerator.val = val\n",
    "WindowGenerator.test = test\n",
    "WindowGenerator.example = example"
   ],
   "metadata": {
    "collapsed": false,
    "ExecuteTime": {
     "end_time": "2023-09-30T22:30:34.752108200Z",
     "start_time": "2023-09-30T22:30:34.747010400Z"
    }
   }
  },
  {
   "cell_type": "code",
   "execution_count": 87,
   "outputs": [
    {
     "data": {
      "text/plain": "(TensorSpec(shape=(None, 7, 7), dtype=tf.float32, name=None),\n TensorSpec(shape=(None, 1, 7), dtype=tf.float32, name=None))"
     },
     "execution_count": 87,
     "metadata": {},
     "output_type": "execute_result"
    }
   ],
   "source": [
    "# Each element is an (inputs, label) pair.\n",
    "w2.train.element_spec"
   ],
   "metadata": {
    "collapsed": false,
    "ExecuteTime": {
     "end_time": "2023-09-30T22:30:36.239307900Z",
     "start_time": "2023-09-30T22:30:36.190167400Z"
    }
   }
  },
  {
   "cell_type": "code",
   "execution_count": 88,
   "outputs": [],
   "source": [
    "lstm_model = tf.keras.models.Sequential([\n",
    "    # Shape [batch, time, features] => [batch, time, lstm_units]\n",
    "    tf.keras.layers.LSTM(128, return_sequences=False),\n",
    "    # Shape => [batch, time, features]\n",
    "    tf.keras.layers.Dense(units=1)\n",
    "])"
   ],
   "metadata": {
    "collapsed": false,
    "ExecuteTime": {
     "end_time": "2023-09-30T22:30:40.570023200Z",
     "start_time": "2023-09-30T22:30:40.554390900Z"
    }
   }
  },
  {
   "cell_type": "code",
   "execution_count": 89,
   "outputs": [
    {
     "name": "stdout",
     "output_type": "stream",
     "text": [
      "Input shape: (32, 4, 7)\n",
      "Output shape: (32, 1)\n",
      "tf.Tensor(\n",
      "[[[ 0.8983111   0.46139607 -1.3519758  -1.4262052  -0.10944976\n",
      "   -0.68553746 -0.9942326 ]\n",
      "  [-1.1869488  -0.6573314   1.1071093   0.6137004  -0.34426925\n",
      "   -0.942342    0.21524623]\n",
      "  [ 1.940941    0.8343052  -1.3519758  -1.8086874  -1.7531861\n",
      "   -0.17192844  0.5176159 ]\n",
      "  [ 0.20322447 -1.0302405   0.18495236 -0.02377009  0.24277946\n",
      "   -0.3003307  -1.1454175 ]]\n",
      "\n",
      " [[ 1.940941    0.8343052  -1.0445901  -1.4262052  -2.1054153\n",
      "   -1.3275487   1.1223553 ]\n",
      "  [ 0.20322447  0.46139607  0.3386452   1.5061591   0.82982814\n",
      "    0.34168056  0.6688008 ]\n",
      "  [-1.1869488  -2.148968   -0.4298189   0.7411945   0.9472379\n",
      "    0.9836918   0.8199856 ]\n",
      "  [-0.8394054  -0.6573314   1.7218806   0.6137004   0.9472379\n",
      "    0.8552896   0.9711705 ]]\n",
      "\n",
      " [[ 0.5507678   0.46139607 -1.0445901  -1.5536993  -1.9880055\n",
      "   -0.3003307   0.06406138]\n",
      "  [-0.49186212 -1.4031497  -0.89089733 -1.4262052  -1.8705958\n",
      "   -2.7399735  -1.2966022 ]\n",
      "  [-0.49186212 -1.0302405  -0.2761261  -1.0437229   0.82982814\n",
      "    0.08487607 -0.38949317]\n",
      "  [-1.1869488  -2.148968    0.7997236   0.3587122   0.5950087\n",
      "    1.2404964   0.8199856 ]]\n",
      "\n",
      " [[-0.8394054  -0.28442225  2.6440375   1.5061591   0.71241844\n",
      "   -0.17192844  0.6688008 ]\n",
      "  [-1.1869488  -0.6573314   0.7997236   0.9961827   1.2994671\n",
      "    0.47008282 -0.23830833]\n",
      "  [-0.8394054   0.8343052  -0.7372045  -1.4262052  -1.4009569\n",
      "   -1.455951   -1.2966022 ]\n",
      "  [-0.49186212  0.08848692  1.260802    1.2511709   0.9472379\n",
      "    0.8552896   0.9711705 ]]\n",
      "\n",
      " [[-0.8394054  -0.6573314  -1.198283   -0.2787583  -0.81390816\n",
      "    0.08487607  0.21524623]\n",
      "  [ 1.940941    0.8343052  -1.0445901  -1.0437229  -1.6357764\n",
      "   -1.0707442  -1.9013417 ]\n",
      "  [-1.1869488  -2.148968   -0.2761261   1.2511709   0.5950087\n",
      "    1.4973009   1.1223553 ]\n",
      "  [ 1.2458544   1.2072144   0.3386452   0.3587122  -0.10944976\n",
      "   -1.0707442  -2.3548963 ]]\n",
      "\n",
      " [[-0.8394054  -0.28442225  0.64603084 -0.02377009 -0.34426925\n",
      "    0.21327832  0.21524623]\n",
      "  [ 0.8983111   0.46139607 -1.3519758  -1.4262052  -0.10944976\n",
      "   -0.68553746 -0.9942326 ]\n",
      "  [-1.1869488  -0.6573314   1.1071093   0.6137004  -0.34426925\n",
      "   -0.942342    0.21524623]\n",
      "  [ 1.940941    0.8343052  -1.3519758  -1.8086874  -1.7531861\n",
      "   -0.17192844  0.5176159 ]]\n",
      "\n",
      " [[-0.14431883 -1.0302405  -0.12243326 -0.9162288  -1.5183666\n",
      "    0.59848505  0.21524623]\n",
      "  [ 0.8983111   0.08848692  0.492338   -0.02377009 -0.5790887\n",
      "   -0.8139397   0.5176159 ]\n",
      "  [-0.49186212 -0.6573314  -1.0445901  -1.171217   -0.9313179\n",
      "   -0.04352619  0.9711705 ]\n",
      "  [ 0.8983111  -0.28442225 -0.4298189   1.8886414   2.1213353\n",
      "    1.6257031   0.8199856 ]]\n",
      "\n",
      " [[-0.49186212  0.8343052   1.7218806   0.6137004  -0.2268595\n",
      "   -0.68553746 -0.08712348]\n",
      "  [-1.1869488   0.8343052   0.492338   -0.15126418 -0.81390816\n",
      "    0.08487607 -0.23830833]\n",
      "  [-1.1869488   1.2072144   0.492338    0.4862063  -0.2268595\n",
      "   -0.42873293 -1.4477872 ]\n",
      "  [-0.8394054   0.46139607 -1.198283    0.23121811 -0.2268595\n",
      "   -1.1991465   0.21524623]]\n",
      "\n",
      " [[-0.14431883 -1.4031497  -0.4298189  -0.9162288  -0.46167898\n",
      "   -0.68553746  0.21524623]\n",
      "  [-0.49186212  1.2072144  -0.4298189  -0.6612406  -1.5183666\n",
      "   -1.8411577   0.3664311 ]\n",
      "  [-1.1869488  -1.7760589  -0.89089733 -1.4262052  -1.8705958\n",
      "   -2.483169   -3.564375  ]\n",
      "  [ 2.2884843   1.2072144   1.8755733   0.7411945  -0.10944976\n",
      "    0.47008282  0.21524623]]\n",
      "\n",
      " [[-1.1869488   0.08848692  1.1071093   2.1436296   1.8865159\n",
      "    1.6257031   0.8199856 ]\n",
      "  [-0.49186212 -1.4031497   1.4144949   1.7611473   0.82982814\n",
      "   -0.04352619  0.06406138]\n",
      "  [ 0.20322447  0.8343052   0.95341647 -0.02377009 -0.34426925\n",
      "   -1.0707442  -1.1454175 ]\n",
      "  [-0.14431883 -1.4031497  -1.3519758  -0.7887347  -1.0487276\n",
      "   -1.8411577  -2.3548963 ]]\n",
      "\n",
      " [[-0.8394054   0.46139607  0.03125956 -0.40625238 -1.1661375\n",
      "   -1.96956    -2.0525265 ]\n",
      "  [ 0.5507678   1.2072144  -0.7372045   1.1236768   0.24277946\n",
      "    0.21327832  0.5176159 ]\n",
      "  [-0.49186212 -0.28442225  0.03125956 -0.15126418  0.5950087\n",
      "   -0.17192844  1.1223553 ]\n",
      "  [ 0.20322447  0.46139607  0.95341647  0.10372401  0.24277946\n",
      "   -0.04352619  0.6688008 ]]\n",
      "\n",
      " [[-0.14431883 -1.4031497  -1.3519758  -0.7887347  -1.0487276\n",
      "   -1.8411577  -2.3548963 ]\n",
      "  [-0.8394054  -0.6573314  -1.198283   -0.2787583  -0.81390816\n",
      "    0.08487607  0.21524623]\n",
      "  [ 1.940941    0.8343052  -1.0445901  -1.0437229  -1.6357764\n",
      "   -1.0707442  -1.9013417 ]\n",
      "  [-1.1869488  -2.148968   -0.2761261   1.2511709   0.5950087\n",
      "    1.4973009   1.1223553 ]]\n",
      "\n",
      " [[ 1.940941    0.8343052  -1.0445901  -1.0437229  -1.6357764\n",
      "   -1.0707442  -1.9013417 ]\n",
      "  [-1.1869488  -2.148968   -0.2761261   1.2511709   0.5950087\n",
      "    1.4973009   1.1223553 ]\n",
      "  [ 1.2458544   1.2072144   0.3386452   0.3587122  -0.10944976\n",
      "   -1.0707442  -2.3548963 ]\n",
      "  [ 0.5507678   0.8343052   0.3386452   0.4862063   1.0646477\n",
      "    0.59848505  0.3664311 ]]\n",
      "\n",
      " [[-0.49186212 -1.7760589   0.03125956  1.2511709   1.1820574\n",
      "    1.3688986   0.9711705 ]\n",
      "  [-1.1869488   0.8343052  -0.12243326 -0.6612406  -1.2835472\n",
      "    0.72688735  0.6688008 ]\n",
      "  [-0.14431883  0.08848692  1.1071093   0.7411945  -0.2268595\n",
      "   -1.0707442  -2.3548963 ]\n",
      "  [-0.14431883 -1.4031497  -0.4298189  -0.9162288  -0.46167898\n",
      "   -0.68553746  0.21524623]]\n",
      "\n",
      " [[-1.1869488   0.46139607  0.18495236 -0.5337465  -1.1661375\n",
      "   -1.455951   -1.2966022 ]\n",
      "  [-1.1869488   1.2072144   0.03125956  1.5061591   0.47759894\n",
      "    0.72688735  0.3664311 ]\n",
      "  [-0.8394054  -0.28442225 -0.4298189  -1.171217   -0.9313179\n",
      "   -0.17192844 -0.08712348]\n",
      "  [ 1.940941    0.8343052   1.1071093   0.4862063  -0.34426925\n",
      "    0.08487607 -0.84304774]]\n",
      "\n",
      " [[ 0.5507678   0.8343052   0.3386452   0.4862063   1.0646477\n",
      "    0.59848505  0.3664311 ]\n",
      "  [ 1.2458544   1.2072144   0.7997236   0.3587122  -0.2268595\n",
      "    0.08487607 -0.6918629 ]\n",
      "  [-0.8394054  -1.0302405   1.4144949   0.4862063   1.0646477\n",
      "    0.34168056 -0.540678  ]\n",
      "  [-0.49186212  0.8343052   1.7218806   0.6137004  -0.2268595\n",
      "   -0.68553746 -0.08712348]]\n",
      "\n",
      " [[-1.1869488  -2.148968   -0.4298189   0.7411945   0.9472379\n",
      "    0.9836918   0.8199856 ]\n",
      "  [-0.8394054  -0.6573314   1.7218806   0.6137004   0.9472379\n",
      "    0.8552896   0.9711705 ]\n",
      "  [-1.1869488   0.08848692 -0.2761261   0.7411945   0.12536973\n",
      "    0.9836918   0.3664311 ]\n",
      "  [-0.8394054  -2.148968    2.182959    1.1236768   1.4168768\n",
      "    1.112094    0.5176159 ]]\n",
      "\n",
      " [[ 1.2458544   0.8343052  -0.7372045  -0.2787583   0.00795998\n",
      "    0.34168056  0.9711705 ]\n",
      "  [ 2.2884843   1.2072144   0.95341647  1.1236768   0.24277946\n",
      "   -0.42873293  0.5176159 ]\n",
      "  [-0.8394054  -0.6573314  -0.12243326 -0.15126418  1.2994671\n",
      "    0.47008282  0.8199856 ]\n",
      "  [ 0.5507678   0.8343052   0.18495236 -0.5337465  -0.2268595\n",
      "    0.08487607  1.1223553 ]]\n",
      "\n",
      " [[-1.1869488   0.8343052   0.492338   -0.15126418 -0.81390816\n",
      "    0.08487607 -0.23830833]\n",
      "  [-1.1869488   1.2072144   0.492338    0.4862063  -0.2268595\n",
      "   -0.42873293 -1.4477872 ]\n",
      "  [-0.8394054   0.46139607 -1.198283    0.23121811 -0.2268595\n",
      "   -1.1991465   0.21524623]\n",
      "  [-1.1869488  -0.28442225 -1.0445901  -1.5536993   0.71241844\n",
      "   -0.17192844  1.1223553 ]]\n",
      "\n",
      " [[-0.8394054  -1.0302405   1.4144949   0.4862063   1.0646477\n",
      "    0.34168056 -0.540678  ]\n",
      "  [-0.49186212  0.8343052   1.7218806   0.6137004  -0.2268595\n",
      "   -0.68553746 -0.08712348]\n",
      "  [-1.1869488   0.8343052   0.492338   -0.15126418 -0.81390816\n",
      "    0.08487607 -0.23830833]\n",
      "  [-1.1869488   1.2072144   0.492338    0.4862063  -0.2268595\n",
      "   -0.42873293 -1.4477872 ]]\n",
      "\n",
      " [[-1.1869488   1.2072144   0.03125956  1.5061591   0.47759894\n",
      "    0.72688735  0.3664311 ]\n",
      "  [-0.8394054  -0.28442225 -0.4298189  -1.171217   -0.9313179\n",
      "   -0.17192844 -0.08712348]\n",
      "  [ 1.940941    0.8343052   1.1071093   0.4862063  -0.34426925\n",
      "    0.08487607 -0.84304774]\n",
      "  [ 0.5507678  -0.6573314  -0.89089733 -0.7887347   1.2994671\n",
      "    1.2404964   0.9711705 ]]\n",
      "\n",
      " [[-0.8394054  -0.6573314  -0.12243326 -0.15126418  1.2994671\n",
      "    0.47008282  0.8199856 ]\n",
      "  [ 0.5507678   0.8343052   0.18495236 -0.5337465  -0.2268595\n",
      "    0.08487607  1.1223553 ]\n",
      "  [ 1.940941    0.8343052  -1.0445901  -1.4262052  -2.1054153\n",
      "   -1.3275487   1.1223553 ]\n",
      "  [ 0.20322447  0.46139607  0.3386452   1.5061591   0.82982814\n",
      "    0.34168056  0.6688008 ]]\n",
      "\n",
      " [[-0.14431883  1.2072144   0.95341647  1.7611473   1.0646477\n",
      "    1.2404964   0.3664311 ]\n",
      "  [-0.49186212  0.46139607  1.5681877   0.4862063   0.3601892\n",
      "    1.3688986   0.5176159 ]\n",
      "  [-1.1869488   0.08848692  1.1071093   2.1436296   1.8865159\n",
      "    1.6257031   0.8199856 ]\n",
      "  [-0.49186212 -1.4031497   1.4144949   1.7611473   0.82982814\n",
      "   -0.04352619  0.06406138]]\n",
      "\n",
      " [[ 0.20322447 -1.0302405  -0.89089733 -1.5536993   1.0646477\n",
      "    0.34168056  0.06406138]\n",
      "  [ 1.2458544   0.8343052   1.7218806   0.7411945   0.71241844\n",
      "    0.72688735  0.9711705 ]\n",
      "  [ 0.20322447  0.46139607  0.95341647 -0.02377009  0.9472379\n",
      "    0.08487607  0.21524623]\n",
      "  [ 0.5507678  -0.6573314  -1.198283   -1.0437229  -0.34426925\n",
      "   -0.3003307  -0.38949317]]\n",
      "\n",
      " [[ 0.8983111   0.8343052   2.3366518   1.2511709   1.0646477\n",
      "    0.72688735  0.3664311 ]\n",
      "  [ 0.5507678   0.08848692 -0.4298189   1.8886414   0.82982814\n",
      "   -0.04352619 -0.6918629 ]\n",
      "  [ 0.5507678   1.2072144  -0.7372045  -1.2987111  -1.7531861\n",
      "   -0.942342   -0.84304774]\n",
      "  [ 0.8983111   0.46139607 -0.4298189   1.7611473   0.82982814\n",
      "    0.08487607 -0.9942326 ]]\n",
      "\n",
      " [[ 1.940941    1.2072144  -1.3519758  -1.2987111  -0.2268595\n",
      "    0.8552896   0.8199856 ]\n",
      "  [ 0.20322447 -1.0302405  -0.89089733 -1.5536993   1.0646477\n",
      "    0.34168056  0.06406138]\n",
      "  [ 1.2458544   0.8343052   1.7218806   0.7411945   0.71241844\n",
      "    0.72688735  0.9711705 ]\n",
      "  [ 0.20322447  0.46139607  0.95341647 -0.02377009  0.9472379\n",
      "    0.08487607  0.21524623]]\n",
      "\n",
      " [[ 0.20322447 -1.0302405  -0.7372045  -1.171217    0.3601892\n",
      "    0.08487607  0.8199856 ]\n",
      "  [-0.14431883  0.08848692 -1.198283   -0.7887347   0.24277946\n",
      "    0.9836918   0.8199856 ]\n",
      "  [-0.14431883 -0.28442225 -1.198283   -0.7887347  -1.6357764\n",
      "   -1.96956    -0.6918629 ]\n",
      "  [-0.8394054  -0.28442225  0.64603084 -0.02377009 -0.34426925\n",
      "    0.21327832  0.21524623]]\n",
      "\n",
      " [[-1.1869488  -1.0302405   1.4144949   2.5261118   1.8865159\n",
      "    1.6257031   0.8199856 ]\n",
      "  [-1.1869488   0.8343052   0.64603084 -0.15126418 -0.5790887\n",
      "   -0.8139397  -1.1454175 ]\n",
      "  [-1.1869488  -2.148968   -0.89089733  0.3587122  -0.5790887\n",
      "   -0.04352619  0.21524623]\n",
      "  [-0.49186212 -0.28442225  0.64603084 -0.2787583  -0.46167898\n",
      "    0.08487607  0.8199856 ]]\n",
      "\n",
      " [[ 1.5933976   0.46139607  0.95341647  0.4862063   0.9472379\n",
      "    0.21327832  0.21524623]\n",
      "  [ 0.5507678   0.46139607 -0.7372045  -0.6612406  -0.10944976\n",
      "    0.21327832  0.5176159 ]\n",
      "  [-0.8394054  -2.148968   -1.3519758  -1.0437229  -0.69649845\n",
      "   -0.68553746 -1.598972  ]\n",
      "  [ 1.2458544   0.8343052  -0.7372045  -0.2787583   0.00795998\n",
      "    0.34168056  0.9711705 ]]\n",
      "\n",
      " [[-1.1869488  -0.6573314   0.7997236   0.9961827   1.2994671\n",
      "    0.47008282 -0.23830833]\n",
      "  [-0.8394054   0.8343052  -0.7372045  -1.4262052  -1.4009569\n",
      "   -1.455951   -1.2966022 ]\n",
      "  [-0.49186212  0.08848692  1.260802    1.2511709   0.9472379\n",
      "    0.8552896   0.9711705 ]\n",
      "  [-0.14431883  0.8343052  -0.89089733 -1.4262052  -1.9880055\n",
      "   -2.6115713  -0.84304774]]\n",
      "\n",
      " [[-0.14431883  0.08848692 -1.198283   -0.7887347   0.24277946\n",
      "    0.9836918   0.8199856 ]\n",
      "  [-0.14431883 -0.28442225 -1.198283   -0.7887347  -1.6357764\n",
      "   -1.96956    -0.6918629 ]\n",
      "  [-0.8394054  -0.28442225  0.64603084 -0.02377009 -0.34426925\n",
      "    0.21327832  0.21524623]\n",
      "  [ 0.8983111   0.46139607 -1.3519758  -1.4262052  -0.10944976\n",
      "   -0.68553746 -0.9942326 ]]\n",
      "\n",
      " [[ 0.8983111   0.8343052   0.18495236  1.2511709   1.769106\n",
      "    1.112094    0.6688008 ]\n",
      "  [ 0.8983111   0.8343052  -1.0445901  -1.4262052  -1.5183666\n",
      "    0.72688735 -0.08712348]\n",
      "  [-0.8394054  -1.0302405   1.260802    0.4862063   0.47759894\n",
      "    1.4973009   1.1223553 ]\n",
      "  [ 0.20322447  0.46139607 -0.89089733 -0.5337465  -0.10944976\n",
      "   -0.17192844 -0.84304774]]], shape=(32, 4, 7), dtype=float32)\n"
     ]
    }
   ],
   "source": [
    "wide_window = WindowGenerator(\n",
    "    input_width=4, label_width=1, shift=1,\n",
    "    label_columns=column_labels)\n",
    "\n",
    "wide_window\n",
    "\n",
    "print('Input shape:', wide_window.example[0].shape)\n",
    "print('Output shape:', lstm_model(wide_window.example[0]).shape)\n",
    "print(wide_window.example[0])"
   ],
   "metadata": {
    "collapsed": false,
    "ExecuteTime": {
     "end_time": "2023-09-30T22:30:42.471813500Z",
     "start_time": "2023-09-30T22:30:42.234917200Z"
    }
   }
  },
  {
   "cell_type": "code",
   "execution_count": 90,
   "outputs": [],
   "source": [
    "MAX_EPOCHS = 120\n",
    "\n",
    "def compile_and_fit(model, window, patience=2):\n",
    "  early_stopping = tf.keras.callbacks.EarlyStopping(monitor='val_loss',\n",
    "                                                    patience=patience,\n",
    "                                                    mode='min')\n",
    "\n",
    "  model.compile(loss=tf.keras.losses.MeanSquaredError(),\n",
    "                optimizer=tf.keras.optimizers.Adam(),\n",
    "                metrics=[tf.keras.metrics.MeanAbsoluteError()])\n",
    "\n",
    "  history = model.fit(window.train, epochs=MAX_EPOCHS,\n",
    "                      validation_data=window.val,\n",
    "                      callbacks=[early_stopping])\n",
    "  return history"
   ],
   "metadata": {
    "collapsed": false,
    "ExecuteTime": {
     "end_time": "2023-09-30T22:30:43.312058300Z",
     "start_time": "2023-09-30T22:30:43.306944500Z"
    }
   }
  },
  {
   "cell_type": "code",
   "execution_count": 91,
   "outputs": [
    {
     "name": "stdout",
     "output_type": "stream",
     "text": [
      "Epoch 1/120\n",
      "4/4 [==============================] - 1s 86ms/step - loss: 0.9878 - mean_absolute_error: 0.8278 - val_loss: 0.8006 - val_mean_absolute_error: 0.7540\n",
      "Epoch 2/120\n",
      "4/4 [==============================] - 0s 28ms/step - loss: 0.9884 - mean_absolute_error: 0.8310 - val_loss: 0.8006 - val_mean_absolute_error: 0.7540\n",
      "Epoch 3/120\n",
      "4/4 [==============================] - 0s 32ms/step - loss: 0.9888 - mean_absolute_error: 0.8253 - val_loss: 0.8005 - val_mean_absolute_error: 0.7541\n",
      "Epoch 4/120\n",
      "4/4 [==============================] - 0s 29ms/step - loss: 0.9930 - mean_absolute_error: 0.8290 - val_loss: 0.8005 - val_mean_absolute_error: 0.7541\n",
      "Epoch 5/120\n",
      "4/4 [==============================] - 0s 29ms/step - loss: 0.9887 - mean_absolute_error: 0.8323 - val_loss: 0.8004 - val_mean_absolute_error: 0.7541\n",
      "Epoch 6/120\n",
      "4/4 [==============================] - 0s 22ms/step - loss: 0.9884 - mean_absolute_error: 0.8270 - val_loss: 0.8005 - val_mean_absolute_error: 0.7541\n",
      "Epoch 7/120\n",
      "4/4 [==============================] - 0s 22ms/step - loss: 0.9923 - mean_absolute_error: 0.8294 - val_loss: 0.8005 - val_mean_absolute_error: 0.7541\n"
     ]
    }
   ],
   "source": [
    "history = compile_and_fit(lstm_model, wide_window)"
   ],
   "metadata": {
    "collapsed": false,
    "ExecuteTime": {
     "end_time": "2023-09-30T22:30:47.217989300Z",
     "start_time": "2023-09-30T22:30:45.149614900Z"
    }
   }
  },
  {
   "cell_type": "code",
   "execution_count": 92,
   "outputs": [
    {
     "name": "stdout",
     "output_type": "stream",
     "text": [
      "tf.Tensor(\n",
      "[[[ 0.20322447 -0.6573314  -1.19828297 -1.42620515 -1.40095688\n",
      "   -1.96955998 -2.95963563]\n",
      "  [ 0.20322447 -0.28442224 -1.04459015  0.7411945  -0.2268595\n",
      "   -0.04352619 -1.14541743]\n",
      "  [-0.83940543 -1.40314972  0.03125956 -0.27875828  0.59500868\n",
      "    0.85528958 -0.08712347]\n",
      "  [ 1.24585437  0.83430524  0.33864519 -0.40625238 -0.57908871\n",
      "    1.36889859  0.81998563]]], shape=(1, 4, 7), dtype=float64)\n"
     ]
    }
   ],
   "source": [
    "sample = tf.constant([[[i for i in j] for j in ((df[:4] - train_mean) / train_std).to_numpy()]])\n",
    "print(sample)"
   ],
   "metadata": {
    "collapsed": false,
    "ExecuteTime": {
     "end_time": "2023-09-30T22:30:50.632083600Z",
     "start_time": "2023-09-30T22:30:50.587807300Z"
    }
   }
  },
  {
   "cell_type": "code",
   "execution_count": 93,
   "outputs": [
    {
     "name": "stdout",
     "output_type": "stream",
     "text": [
      "1/1 [==============================] - 0s 163ms/step\n"
     ]
    },
    {
     "data": {
      "text/plain": "<tf.Tensor: shape=(1, 7), dtype=float64, numpy=\narray([[ 4.60610185,  8.94057773, 10.22817107, 17.70668288, 26.49712936,\n        34.85554572, 43.01499114]])>"
     },
     "execution_count": 93,
     "metadata": {},
     "output_type": "execute_result"
    }
   ],
   "source": [
    "prediction = lstm_model.predict(sample)\n",
    "(prediction * tf.constant([train_std])) + tf.constant([train_mean])"
   ],
   "metadata": {
    "collapsed": false,
    "ExecuteTime": {
     "end_time": "2023-09-30T22:30:54.252143100Z",
     "start_time": "2023-09-30T22:30:54.008764Z"
    }
   }
  },
  {
   "cell_type": "markdown",
   "source": [
    "As seen above, and since the data set is very small, it is very probable for the network to fit using average values for each ball slot. One way around this problem is to add the difference between each ball and its surrounding value to the network inputs. This way there is more weight given to the ball values with respect to each other rather than just the average value of each ball slot.\n",
    "\n",
    "Another way to reduce this effect is to augment the data by, for example adding a constant value to each ball slot and repeating this to generate more data which carry the same trends in the data but not necessarily repeat the same ball values.\n",
    "\n",
    "A more natural way is to use a GAN to generate more data that have resemblance or closeness to the trends we see in the data. This way the essence of the trends is captured in the network rather than using some constant value to add to each data point."
   ],
   "metadata": {
    "collapsed": false
   }
  }
 ],
 "metadata": {
  "kernelspec": {
   "display_name": "Python 3",
   "language": "python",
   "name": "python3"
  },
  "language_info": {
   "codemirror_mode": {
    "name": "ipython",
    "version": 2
   },
   "file_extension": ".py",
   "mimetype": "text/x-python",
   "name": "python",
   "nbconvert_exporter": "python",
   "pygments_lexer": "ipython2",
   "version": "2.7.6"
  }
 },
 "nbformat": 4,
 "nbformat_minor": 0
}
